{
 "cells": [
  {
   "cell_type": "markdown",
   "id": "72edfffb",
   "metadata": {
    "papermill": {
     "duration": 0.008131,
     "end_time": "2023-12-13T16:51:24.196323",
     "exception": false,
     "start_time": "2023-12-13T16:51:24.188192",
     "status": "completed"
    },
    "tags": []
   },
   "source": [
    "**This notebook is an exercise in the [Feature Engineering](https://www.kaggle.com/learn/feature-engineering) course.  You can reference the tutorial at [this link](https://www.kaggle.com/ryanholbrook/creating-features).**\n",
    "\n",
    "---\n"
   ]
  },
  {
   "cell_type": "markdown",
   "id": "fcf1d1ca",
   "metadata": {
    "papermill": {
     "duration": 0.007147,
     "end_time": "2023-12-13T16:51:24.211190",
     "exception": false,
     "start_time": "2023-12-13T16:51:24.204043",
     "status": "completed"
    },
    "tags": []
   },
   "source": [
    "# Introduction #\n",
    "\n",
    "In this exercise you'll start developing the features you identified in Exercise 2 as having the most potential. As you work through this exercise, you might take a moment to look at the data documentation again and consider whether the features we're creating make sense from a real-world perspective, and whether there are any useful combinations that stand out to you.\n",
    "\n",
    "Run this cell to set everything up!"
   ]
  },
  {
   "cell_type": "code",
   "execution_count": 1,
   "id": "60c74837",
   "metadata": {
    "execution": {
     "iopub.execute_input": "2023-12-13T16:51:24.228255Z",
     "iopub.status.busy": "2023-12-13T16:51:24.227871Z",
     "iopub.status.idle": "2023-12-13T16:51:26.497028Z",
     "shell.execute_reply": "2023-12-13T16:51:26.495822Z"
    },
    "papermill": {
     "duration": 2.2812,
     "end_time": "2023-12-13T16:51:26.499880",
     "exception": false,
     "start_time": "2023-12-13T16:51:24.218680",
     "status": "completed"
    },
    "tags": []
   },
   "outputs": [],
   "source": [
    "# Setup feedback system\n",
    "from learntools.core import binder\n",
    "binder.bind(globals())\n",
    "from learntools.feature_engineering_new.ex3 import *\n",
    "\n",
    "import numpy as np\n",
    "import pandas as pd\n",
    "from sklearn.model_selection import cross_val_score\n",
    "from xgboost import XGBRegressor\n",
    "\n",
    "\n",
    "def score_dataset(X, y, model=XGBRegressor()):\n",
    "    # Label encoding for categoricals\n",
    "    for colname in X.select_dtypes([\"category\", \"object\"]):\n",
    "        X[colname], _ = X[colname].factorize()\n",
    "    # Metric for Housing competition is RMSLE (Root Mean Squared Log Error)\n",
    "    score = cross_val_score(\n",
    "        model, X, y, cv=5, scoring=\"neg_mean_squared_log_error\",\n",
    "    )\n",
    "    score = -1 * score.mean()\n",
    "    score = np.sqrt(score)\n",
    "    return score\n",
    "\n",
    "\n",
    "# Prepare data\n",
    "df = pd.read_csv(\"../input/fe-course-data/ames.csv\")\n",
    "X = df.copy()\n",
    "y = X.pop(\"SalePrice\")"
   ]
  },
  {
   "cell_type": "markdown",
   "id": "8d90dd74",
   "metadata": {
    "papermill": {
     "duration": 0.007299,
     "end_time": "2023-12-13T16:51:26.514812",
     "exception": false,
     "start_time": "2023-12-13T16:51:26.507513",
     "status": "completed"
    },
    "tags": []
   },
   "source": [
    "-------------------------------------------------------------------------------\n",
    "\n",
    "Let's start with a few mathematical combinations. We'll focus on features describing areas -- having the same units (square-feet) makes it easy to combine them in sensible ways. Since we're using XGBoost (a tree-based model), we'll focus on ratios and sums.\n",
    "\n",
    "# 1) Create Mathematical Transforms\n",
    "\n",
    "Create the following features:\n",
    "\n",
    "- `LivLotRatio`: the ratio of `GrLivArea` to `LotArea`\n",
    "- `Spaciousness`: the sum of `FirstFlrSF` and `SecondFlrSF` divided by `TotRmsAbvGrd`\n",
    "- `TotalOutsideSF`: the sum of `WoodDeckSF`, `OpenPorchSF`, `EnclosedPorch`, `Threeseasonporch`, and `ScreenPorch`"
   ]
  },
  {
   "cell_type": "code",
   "execution_count": 2,
   "id": "52f1810e",
   "metadata": {
    "execution": {
     "iopub.execute_input": "2023-12-13T16:51:26.532381Z",
     "iopub.status.busy": "2023-12-13T16:51:26.531158Z",
     "iopub.status.idle": "2023-12-13T16:51:26.556902Z",
     "shell.execute_reply": "2023-12-13T16:51:26.555597Z"
    },
    "lines_to_next_cell": 0,
    "papermill": {
     "duration": 0.037261,
     "end_time": "2023-12-13T16:51:26.559492",
     "exception": false,
     "start_time": "2023-12-13T16:51:26.522231",
     "status": "completed"
    },
    "tags": []
   },
   "outputs": [
    {
     "data": {
      "application/javascript": [
       "parent.postMessage({\"jupyterEvent\": \"custom.exercise_interaction\", \"data\": {\"outcomeType\": 1, \"valueTowardsCompletion\": 0.2, \"interactionType\": 1, \"questionType\": 2, \"questionId\": \"1_Q1\", \"learnToolsVersion\": \"0.3.4\", \"failureMessage\": \"\", \"exceptionClass\": \"\", \"trace\": \"\"}}, \"*\")"
      ],
      "text/plain": [
       "<IPython.core.display.Javascript object>"
      ]
     },
     "metadata": {},
     "output_type": "display_data"
    },
    {
     "data": {
      "text/markdown": [
       "<span style=\"color:#33cc33\">Correct</span>"
      ],
      "text/plain": [
       "Correct"
      ]
     },
     "metadata": {},
     "output_type": "display_data"
    }
   ],
   "source": [
    "# YOUR CODE HERE\n",
    "X_1 = pd.DataFrame()  # dataframe to hold new features\n",
    "\n",
    "X_1[\"LivLotRatio\"] = df.GrLivArea / df.LotArea\n",
    "X_1[\"Spaciousness\"] = (df.FirstFlrSF + df.SecondFlrSF) / df.TotRmsAbvGrd\n",
    "X_1[\"TotalOutsideSF\"] = df.WoodDeckSF + df.OpenPorchSF + df.EnclosedPorch + df.Threeseasonporch + df.ScreenPorch\n",
    "\n",
    "\n",
    "# Check your answer\n",
    "q_1.check()"
   ]
  },
  {
   "cell_type": "code",
   "execution_count": 3,
   "id": "56d176ad",
   "metadata": {
    "execution": {
     "iopub.execute_input": "2023-12-13T16:51:26.577648Z",
     "iopub.status.busy": "2023-12-13T16:51:26.577220Z",
     "iopub.status.idle": "2023-12-13T16:51:26.581928Z",
     "shell.execute_reply": "2023-12-13T16:51:26.580701Z"
    },
    "lines_to_next_cell": 0,
    "papermill": {
     "duration": 0.016845,
     "end_time": "2023-12-13T16:51:26.584426",
     "exception": false,
     "start_time": "2023-12-13T16:51:26.567581",
     "status": "completed"
    },
    "tags": []
   },
   "outputs": [],
   "source": [
    "# Lines below will give you a hint or solution code\n",
    "#q_1.hint()\n",
    "#q_1.solution()"
   ]
  },
  {
   "cell_type": "markdown",
   "id": "c7965b08",
   "metadata": {
    "papermill": {
     "duration": 0.007637,
     "end_time": "2023-12-13T16:51:26.599958",
     "exception": false,
     "start_time": "2023-12-13T16:51:26.592321",
     "status": "completed"
    },
    "tags": []
   },
   "source": [
    "-------------------------------------------------------------------------------\n",
    "\n",
    "If you've discovered an interaction effect between a numeric feature and a categorical feature, you might want to model it explicitly using a one-hot encoding, like so:\n",
    "\n",
    "```\n",
    "# One-hot encode Categorical feature, adding a column prefix \"Cat\"\n",
    "X_new = pd.get_dummies(df.Categorical, prefix=\"Cat\")\n",
    "\n",
    "# Multiply row-by-row\n",
    "X_new = X_new.mul(df.Continuous, axis=0)\n",
    "\n",
    "# Join the new features to the feature set\n",
    "X = X.join(X_new)\n",
    "```\n",
    "\n",
    "# 2) Interaction with a Categorical\n",
    "\n",
    "We discovered an interaction between `BldgType` and `GrLivArea` in Exercise 2. Now create their interaction features."
   ]
  },
  {
   "cell_type": "code",
   "execution_count": 4,
   "id": "857cf6d2",
   "metadata": {
    "execution": {
     "iopub.execute_input": "2023-12-13T16:51:26.618693Z",
     "iopub.status.busy": "2023-12-13T16:51:26.617825Z",
     "iopub.status.idle": "2023-12-13T16:51:26.639784Z",
     "shell.execute_reply": "2023-12-13T16:51:26.638433Z"
    },
    "lines_to_next_cell": 0,
    "papermill": {
     "duration": 0.034841,
     "end_time": "2023-12-13T16:51:26.642580",
     "exception": false,
     "start_time": "2023-12-13T16:51:26.607739",
     "status": "completed"
    },
    "tags": []
   },
   "outputs": [
    {
     "data": {
      "application/javascript": [
       "parent.postMessage({\"jupyterEvent\": \"custom.exercise_interaction\", \"data\": {\"outcomeType\": 1, \"valueTowardsCompletion\": 0.2, \"interactionType\": 1, \"questionType\": 2, \"questionId\": \"2_Q2\", \"learnToolsVersion\": \"0.3.4\", \"failureMessage\": \"\", \"exceptionClass\": \"\", \"trace\": \"\"}}, \"*\")"
      ],
      "text/plain": [
       "<IPython.core.display.Javascript object>"
      ]
     },
     "metadata": {},
     "output_type": "display_data"
    },
    {
     "data": {
      "text/markdown": [
       "<span style=\"color:#33cc33\">Correct</span>"
      ],
      "text/plain": [
       "Correct"
      ]
     },
     "metadata": {},
     "output_type": "display_data"
    }
   ],
   "source": [
    "# YOUR CODE HERE\n",
    "# One-hot encode BldgType. Use `prefix=\"Bldg\"` in `get_dummies`\n",
    "X_2 = pd.get_dummies(df.BldgType, prefix=\"Bldg\") \n",
    "# Multiply\n",
    "X_2 = X_2.mul(df.GrLivArea, axis=0)\n",
    "\n",
    "\n",
    "# Check your answer\n",
    "q_2.check()"
   ]
  },
  {
   "cell_type": "code",
   "execution_count": 5,
   "id": "b6b1e8c4",
   "metadata": {
    "execution": {
     "iopub.execute_input": "2023-12-13T16:51:26.661088Z",
     "iopub.status.busy": "2023-12-13T16:51:26.660697Z",
     "iopub.status.idle": "2023-12-13T16:51:26.666375Z",
     "shell.execute_reply": "2023-12-13T16:51:26.664916Z"
    },
    "lines_to_next_cell": 0,
    "papermill": {
     "duration": 0.018067,
     "end_time": "2023-12-13T16:51:26.668975",
     "exception": false,
     "start_time": "2023-12-13T16:51:26.650908",
     "status": "completed"
    },
    "tags": []
   },
   "outputs": [],
   "source": [
    "# Lines below will give you a hint or solution code\n",
    "#q_2.hint()\n",
    "#q_2.solution()"
   ]
  },
  {
   "cell_type": "markdown",
   "id": "cbca2edb",
   "metadata": {
    "lines_to_next_cell": 0,
    "papermill": {
     "duration": 0.007948,
     "end_time": "2023-12-13T16:51:26.685261",
     "exception": false,
     "start_time": "2023-12-13T16:51:26.677313",
     "status": "completed"
    },
    "tags": []
   },
   "source": [
    "# 3) Count Feature\n",
    "\n",
    "Let's try creating a feature that describes how many kinds of outdoor areas a dwelling has. Create a feature `PorchTypes` that counts how many of the following are greater than 0.0:\n",
    "\n",
    "```\n",
    "WoodDeckSF\n",
    "OpenPorchSF\n",
    "EnclosedPorch\n",
    "Threeseasonporch\n",
    "ScreenPorch\n",
    "```"
   ]
  },
  {
   "cell_type": "code",
   "execution_count": 6,
   "id": "83020012",
   "metadata": {
    "execution": {
     "iopub.execute_input": "2023-12-13T16:51:26.703689Z",
     "iopub.status.busy": "2023-12-13T16:51:26.703268Z",
     "iopub.status.idle": "2023-12-13T16:51:26.725030Z",
     "shell.execute_reply": "2023-12-13T16:51:26.723689Z"
    },
    "lines_to_next_cell": 0,
    "papermill": {
     "duration": 0.034248,
     "end_time": "2023-12-13T16:51:26.727670",
     "exception": false,
     "start_time": "2023-12-13T16:51:26.693422",
     "status": "completed"
    },
    "tags": []
   },
   "outputs": [
    {
     "data": {
      "application/javascript": [
       "parent.postMessage({\"jupyterEvent\": \"custom.exercise_interaction\", \"data\": {\"outcomeType\": 1, \"valueTowardsCompletion\": 0.2, \"interactionType\": 1, \"questionType\": 2, \"questionId\": \"3_Q3\", \"learnToolsVersion\": \"0.3.4\", \"failureMessage\": \"\", \"exceptionClass\": \"\", \"trace\": \"\"}}, \"*\")"
      ],
      "text/plain": [
       "<IPython.core.display.Javascript object>"
      ]
     },
     "metadata": {},
     "output_type": "display_data"
    },
    {
     "data": {
      "text/markdown": [
       "<span style=\"color:#33cc33\">Correct</span>"
      ],
      "text/plain": [
       "Correct"
      ]
     },
     "metadata": {},
     "output_type": "display_data"
    }
   ],
   "source": [
    "X_3 = pd.DataFrame()\n",
    "\n",
    "# YOUR CODE HERE\n",
    "X_3[\"PorchTypes\"] = df[[\"WoodDeckSF\",\"OpenPorchSF\",\"EnclosedPorch\",\"Threeseasonporch\",\"ScreenPorch\"]].gt(0.0).sum(axis=1)\n",
    "\n",
    "\n",
    "# Check your answer\n",
    "q_3.check()"
   ]
  },
  {
   "cell_type": "code",
   "execution_count": 7,
   "id": "3b979517",
   "metadata": {
    "execution": {
     "iopub.execute_input": "2023-12-13T16:51:26.746786Z",
     "iopub.status.busy": "2023-12-13T16:51:26.746358Z",
     "iopub.status.idle": "2023-12-13T16:51:26.751203Z",
     "shell.execute_reply": "2023-12-13T16:51:26.750054Z"
    },
    "lines_to_next_cell": 0,
    "papermill": {
     "duration": 0.017512,
     "end_time": "2023-12-13T16:51:26.753686",
     "exception": false,
     "start_time": "2023-12-13T16:51:26.736174",
     "status": "completed"
    },
    "tags": []
   },
   "outputs": [],
   "source": [
    "# Lines below will give you a hint or solution code\n",
    "#q_3.hint()\n",
    "#q_3.solution()"
   ]
  },
  {
   "cell_type": "markdown",
   "id": "fd95b2ad",
   "metadata": {
    "papermill": {
     "duration": 0.00818,
     "end_time": "2023-12-13T16:51:26.770939",
     "exception": false,
     "start_time": "2023-12-13T16:51:26.762759",
     "status": "completed"
    },
    "tags": []
   },
   "source": [
    "# 4) Break Down a Categorical Feature\n",
    "\n",
    "`MSSubClass` describes the type of a dwelling:"
   ]
  },
  {
   "cell_type": "code",
   "execution_count": 8,
   "id": "98a48065",
   "metadata": {
    "execution": {
     "iopub.execute_input": "2023-12-13T16:51:26.789899Z",
     "iopub.status.busy": "2023-12-13T16:51:26.789456Z",
     "iopub.status.idle": "2023-12-13T16:51:26.798659Z",
     "shell.execute_reply": "2023-12-13T16:51:26.797286Z"
    },
    "papermill": {
     "duration": 0.021596,
     "end_time": "2023-12-13T16:51:26.801114",
     "exception": false,
     "start_time": "2023-12-13T16:51:26.779518",
     "status": "completed"
    },
    "tags": []
   },
   "outputs": [
    {
     "data": {
      "text/plain": [
       "array(['One_Story_1946_and_Newer_All_Styles', 'Two_Story_1946_and_Newer',\n",
       "       'One_Story_PUD_1946_and_Newer',\n",
       "       'One_and_Half_Story_Finished_All_Ages', 'Split_Foyer',\n",
       "       'Two_Story_PUD_1946_and_Newer', 'Split_or_Multilevel',\n",
       "       'One_Story_1945_and_Older', 'Duplex_All_Styles_and_Ages',\n",
       "       'Two_Family_conversion_All_Styles_and_Ages',\n",
       "       'One_and_Half_Story_Unfinished_All_Ages',\n",
       "       'Two_Story_1945_and_Older', 'Two_and_Half_Story_All_Ages',\n",
       "       'One_Story_with_Finished_Attic_All_Ages',\n",
       "       'PUD_Multilevel_Split_Level_Foyer',\n",
       "       'One_and_Half_Story_PUD_All_Ages'], dtype=object)"
      ]
     },
     "execution_count": 8,
     "metadata": {},
     "output_type": "execute_result"
    }
   ],
   "source": [
    "df.MSSubClass.unique()"
   ]
  },
  {
   "cell_type": "markdown",
   "id": "19d6c0ae",
   "metadata": {
    "papermill": {
     "duration": 0.008395,
     "end_time": "2023-12-13T16:51:26.818476",
     "exception": false,
     "start_time": "2023-12-13T16:51:26.810081",
     "status": "completed"
    },
    "tags": []
   },
   "source": [
    "You can see that there is a more general categorization described (roughly) by the first word of each category. Create a feature containing only these first words by splitting `MSSubClass` at the first underscore `_`. (Hint: In the `split` method use an argument `n=1`.)"
   ]
  },
  {
   "cell_type": "code",
   "execution_count": 9,
   "id": "ebd3224b",
   "metadata": {
    "execution": {
     "iopub.execute_input": "2023-12-13T16:51:26.838280Z",
     "iopub.status.busy": "2023-12-13T16:51:26.837524Z",
     "iopub.status.idle": "2023-12-13T16:51:26.866508Z",
     "shell.execute_reply": "2023-12-13T16:51:26.865416Z"
    },
    "lines_to_next_cell": 0,
    "papermill": {
     "duration": 0.041949,
     "end_time": "2023-12-13T16:51:26.869015",
     "exception": false,
     "start_time": "2023-12-13T16:51:26.827066",
     "status": "completed"
    },
    "tags": []
   },
   "outputs": [
    {
     "data": {
      "application/javascript": [
       "parent.postMessage({\"jupyterEvent\": \"custom.exercise_interaction\", \"data\": {\"outcomeType\": 1, \"valueTowardsCompletion\": 0.2, \"interactionType\": 1, \"questionType\": 2, \"questionId\": \"4_Q4\", \"learnToolsVersion\": \"0.3.4\", \"failureMessage\": \"\", \"exceptionClass\": \"\", \"trace\": \"\"}}, \"*\")"
      ],
      "text/plain": [
       "<IPython.core.display.Javascript object>"
      ]
     },
     "metadata": {},
     "output_type": "display_data"
    },
    {
     "data": {
      "text/markdown": [
       "<span style=\"color:#33cc33\">Correct</span>"
      ],
      "text/plain": [
       "Correct"
      ]
     },
     "metadata": {},
     "output_type": "display_data"
    }
   ],
   "source": [
    "X_4 = pd.DataFrame()\n",
    "\n",
    "# YOUR CODE HERE\n",
    "X_4[\"MSClass\"] = df.MSSubClass.str.split(\"_\", n=1, expand=True)[0]\n",
    "\n",
    "# Check your answer\n",
    "q_4.check()"
   ]
  },
  {
   "cell_type": "code",
   "execution_count": 10,
   "id": "53dfb514",
   "metadata": {
    "execution": {
     "iopub.execute_input": "2023-12-13T16:51:26.889209Z",
     "iopub.status.busy": "2023-12-13T16:51:26.888827Z",
     "iopub.status.idle": "2023-12-13T16:51:26.893732Z",
     "shell.execute_reply": "2023-12-13T16:51:26.892642Z"
    },
    "lines_to_next_cell": 0,
    "papermill": {
     "duration": 0.017514,
     "end_time": "2023-12-13T16:51:26.896017",
     "exception": false,
     "start_time": "2023-12-13T16:51:26.878503",
     "status": "completed"
    },
    "tags": []
   },
   "outputs": [],
   "source": [
    "# Lines below will give you a hint or solution code\n",
    "#q_4.hint()\n",
    "#q_4.solution()"
   ]
  },
  {
   "cell_type": "markdown",
   "id": "e41c0592",
   "metadata": {
    "papermill": {
     "duration": 0.008743,
     "end_time": "2023-12-13T16:51:26.913852",
     "exception": false,
     "start_time": "2023-12-13T16:51:26.905109",
     "status": "completed"
    },
    "tags": []
   },
   "source": [
    "# 5) Use a Grouped Transform\n",
    "\n",
    "The value of a home often depends on how it compares to typical homes in its neighborhood. Create a feature `MedNhbdArea` that describes the *median* of `GrLivArea` grouped on `Neighborhood`."
   ]
  },
  {
   "cell_type": "code",
   "execution_count": 11,
   "id": "99e5b8f2",
   "metadata": {
    "execution": {
     "iopub.execute_input": "2023-12-13T16:51:26.934031Z",
     "iopub.status.busy": "2023-12-13T16:51:26.933619Z",
     "iopub.status.idle": "2023-12-13T16:51:26.953744Z",
     "shell.execute_reply": "2023-12-13T16:51:26.952597Z"
    },
    "lines_to_next_cell": 0,
    "papermill": {
     "duration": 0.032985,
     "end_time": "2023-12-13T16:51:26.955943",
     "exception": false,
     "start_time": "2023-12-13T16:51:26.922958",
     "status": "completed"
    },
    "tags": []
   },
   "outputs": [
    {
     "data": {
      "application/javascript": [
       "parent.postMessage({\"jupyterEvent\": \"custom.exercise_interaction\", \"data\": {\"outcomeType\": 1, \"valueTowardsCompletion\": 0.2, \"interactionType\": 1, \"questionType\": 2, \"questionId\": \"5_Q5\", \"learnToolsVersion\": \"0.3.4\", \"failureMessage\": \"\", \"exceptionClass\": \"\", \"trace\": \"\"}}, \"*\")"
      ],
      "text/plain": [
       "<IPython.core.display.Javascript object>"
      ]
     },
     "metadata": {},
     "output_type": "display_data"
    },
    {
     "data": {
      "text/markdown": [
       "<span style=\"color:#33cc33\">Correct</span>"
      ],
      "text/plain": [
       "Correct"
      ]
     },
     "metadata": {},
     "output_type": "display_data"
    }
   ],
   "source": [
    "X_5 = pd.DataFrame()\n",
    "\n",
    "# YOUR CODE HERE\n",
    "X_5[\"MedNhbdArea\"] = df.groupby(\"Neighborhood\")[\"GrLivArea\"].transform(\"median\")\n",
    "\n",
    "# Check your answer\n",
    "q_5.check()"
   ]
  },
  {
   "cell_type": "code",
   "execution_count": 12,
   "id": "7ce82b39",
   "metadata": {
    "execution": {
     "iopub.execute_input": "2023-12-13T16:51:26.976695Z",
     "iopub.status.busy": "2023-12-13T16:51:26.975902Z",
     "iopub.status.idle": "2023-12-13T16:51:26.980981Z",
     "shell.execute_reply": "2023-12-13T16:51:26.979718Z"
    },
    "lines_to_next_cell": 0,
    "papermill": {
     "duration": 0.018495,
     "end_time": "2023-12-13T16:51:26.983595",
     "exception": false,
     "start_time": "2023-12-13T16:51:26.965100",
     "status": "completed"
    },
    "tags": []
   },
   "outputs": [],
   "source": [
    "# Lines below will give you a hint or solution code\n",
    "#q_5.hint()\n",
    "#q_5.solution()"
   ]
  },
  {
   "cell_type": "markdown",
   "id": "95069fb5",
   "metadata": {
    "papermill": {
     "duration": 0.009592,
     "end_time": "2023-12-13T16:51:27.002908",
     "exception": false,
     "start_time": "2023-12-13T16:51:26.993316",
     "status": "completed"
    },
    "tags": []
   },
   "source": [
    "Now you've made your first new feature set! If you like, you can run the cell below to score the model with all of your new features added:"
   ]
  },
  {
   "cell_type": "code",
   "execution_count": 13,
   "id": "fc712081",
   "metadata": {
    "execution": {
     "iopub.execute_input": "2023-12-13T16:51:27.024512Z",
     "iopub.status.busy": "2023-12-13T16:51:27.023407Z",
     "iopub.status.idle": "2023-12-13T16:51:29.716142Z",
     "shell.execute_reply": "2023-12-13T16:51:29.715055Z"
    },
    "papermill": {
     "duration": 2.706449,
     "end_time": "2023-12-13T16:51:29.719242",
     "exception": false,
     "start_time": "2023-12-13T16:51:27.012793",
     "status": "completed"
    },
    "tags": []
   },
   "outputs": [
    {
     "data": {
      "text/plain": [
       "0.13954039591355258"
      ]
     },
     "execution_count": 13,
     "metadata": {},
     "output_type": "execute_result"
    }
   ],
   "source": [
    "X_new = X.join([X_1, X_2, X_3, X_4, X_5])\n",
    "score_dataset(X_new, y)"
   ]
  },
  {
   "cell_type": "markdown",
   "id": "afd73765",
   "metadata": {
    "papermill": {
     "duration": 0.010187,
     "end_time": "2023-12-13T16:51:29.740422",
     "exception": false,
     "start_time": "2023-12-13T16:51:29.730235",
     "status": "completed"
    },
    "tags": []
   },
   "source": [
    "# Keep Going #\n",
    "\n",
    "[**Untangle spatial relationships**](https://www.kaggle.com/ryanholbrook/clustering-with-k-means) by adding cluster labels to your dataset."
   ]
  },
  {
   "cell_type": "markdown",
   "id": "326e49ed",
   "metadata": {
    "papermill": {
     "duration": 0.00937,
     "end_time": "2023-12-13T16:51:29.759282",
     "exception": false,
     "start_time": "2023-12-13T16:51:29.749912",
     "status": "completed"
    },
    "tags": []
   },
   "source": [
    "---\n",
    "\n",
    "\n",
    "\n",
    "\n",
    "*Have questions or comments? Visit the [course discussion forum](https://www.kaggle.com/learn/feature-engineering/discussion) to chat with other learners.*"
   ]
  }
 ],
 "metadata": {
  "jupytext": {
   "cell_metadata_filter": "-all",
   "formats": "ipynb"
  },
  "kaggle": {
   "accelerator": "none",
   "dataSources": [
    {
     "datasetId": 933090,
     "sourceId": 1828856,
     "sourceType": "datasetVersion"
    }
   ],
   "isGpuEnabled": false,
   "isInternetEnabled": false,
   "language": "python",
   "sourceType": "notebook"
  },
  "kernelspec": {
   "display_name": "Python 3",
   "language": "python",
   "name": "python3"
  },
  "language_info": {
   "codemirror_mode": {
    "name": "ipython",
    "version": 3
   },
   "file_extension": ".py",
   "mimetype": "text/x-python",
   "name": "python",
   "nbconvert_exporter": "python",
   "pygments_lexer": "ipython3",
   "version": "3.10.12"
  },
  "papermill": {
   "default_parameters": {},
   "duration": 9.852338,
   "end_time": "2023-12-13T16:51:30.490699",
   "environment_variables": {},
   "exception": null,
   "input_path": "__notebook__.ipynb",
   "output_path": "__notebook__.ipynb",
   "parameters": {},
   "start_time": "2023-12-13T16:51:20.638361",
   "version": "2.4.0"
  }
 },
 "nbformat": 4,
 "nbformat_minor": 5
}
