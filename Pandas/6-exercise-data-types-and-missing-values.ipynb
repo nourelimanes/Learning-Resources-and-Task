{
 "cells": [
  {
   "cell_type": "markdown",
   "id": "3707b391",
   "metadata": {
    "papermill": {
     "duration": 0.007035,
     "end_time": "2023-12-07T21:09:12.997360",
     "exception": false,
     "start_time": "2023-12-07T21:09:12.990325",
     "status": "completed"
    },
    "tags": []
   },
   "source": [
    "**This notebook is an exercise in the [Pandas](https://www.kaggle.com/learn/pandas) course.  You can reference the tutorial at [this link](https://www.kaggle.com/residentmario/data-types-and-missing-values).**\n",
    "\n",
    "---\n"
   ]
  },
  {
   "cell_type": "markdown",
   "id": "5ea9ee6b",
   "metadata": {
    "papermill": {
     "duration": 0.006849,
     "end_time": "2023-12-07T21:09:13.011347",
     "exception": false,
     "start_time": "2023-12-07T21:09:13.004498",
     "status": "completed"
    },
    "tags": []
   },
   "source": [
    "# Introduction\n",
    "\n",
    "Run the following cell to load your data and some utility functions."
   ]
  },
  {
   "cell_type": "code",
   "execution_count": 1,
   "id": "2179adea",
   "metadata": {
    "execution": {
     "iopub.execute_input": "2023-12-07T21:09:13.026987Z",
     "iopub.status.busy": "2023-12-07T21:09:13.026182Z",
     "iopub.status.idle": "2023-12-07T21:09:16.863247Z",
     "shell.execute_reply": "2023-12-07T21:09:16.861051Z"
    },
    "papermill": {
     "duration": 3.84868,
     "end_time": "2023-12-07T21:09:16.866288",
     "exception": false,
     "start_time": "2023-12-07T21:09:13.017608",
     "status": "completed"
    },
    "tags": []
   },
   "outputs": [
    {
     "name": "stdout",
     "output_type": "stream",
     "text": [
      "Setup complete.\n"
     ]
    }
   ],
   "source": [
    "import pandas as pd\n",
    "\n",
    "reviews = pd.read_csv(\"../input/wine-reviews/winemag-data-130k-v2.csv\", index_col=0)\n",
    "\n",
    "from learntools.core import binder; binder.bind(globals())\n",
    "from learntools.pandas.data_types_and_missing_data import *\n",
    "print(\"Setup complete.\")"
   ]
  },
  {
   "cell_type": "markdown",
   "id": "7031a174",
   "metadata": {
    "papermill": {
     "duration": 0.006154,
     "end_time": "2023-12-07T21:09:16.878987",
     "exception": false,
     "start_time": "2023-12-07T21:09:16.872833",
     "status": "completed"
    },
    "tags": []
   },
   "source": [
    "# Exercises"
   ]
  },
  {
   "cell_type": "markdown",
   "id": "07e78b2f",
   "metadata": {
    "papermill": {
     "duration": 0.006555,
     "end_time": "2023-12-07T21:09:16.892860",
     "exception": false,
     "start_time": "2023-12-07T21:09:16.886305",
     "status": "completed"
    },
    "tags": []
   },
   "source": [
    "## 1. \n",
    "What is the data type of the `points` column in the dataset?"
   ]
  },
  {
   "cell_type": "code",
   "execution_count": 2,
   "id": "19bd0809",
   "metadata": {
    "execution": {
     "iopub.execute_input": "2023-12-07T21:09:16.908730Z",
     "iopub.status.busy": "2023-12-07T21:09:16.907801Z",
     "iopub.status.idle": "2023-12-07T21:09:16.919311Z",
     "shell.execute_reply": "2023-12-07T21:09:16.918329Z"
    },
    "papermill": {
     "duration": 0.022397,
     "end_time": "2023-12-07T21:09:16.921801",
     "exception": false,
     "start_time": "2023-12-07T21:09:16.899404",
     "status": "completed"
    },
    "tags": []
   },
   "outputs": [
    {
     "data": {
      "application/javascript": [
       "parent.postMessage({\"jupyterEvent\": \"custom.exercise_interaction\", \"data\": {\"outcomeType\": 1, \"valueTowardsCompletion\": 0.25, \"interactionType\": 1, \"questionType\": 1, \"questionId\": \"1_PointsDtype\", \"learnToolsVersion\": \"0.3.4\", \"failureMessage\": \"\", \"exceptionClass\": \"\", \"trace\": \"\"}}, \"*\")"
      ],
      "text/plain": [
       "<IPython.core.display.Javascript object>"
      ]
     },
     "metadata": {},
     "output_type": "display_data"
    },
    {
     "data": {
      "text/markdown": [
       "<span style=\"color:#33cc33\">Correct</span>"
      ],
      "text/plain": [
       "Correct"
      ]
     },
     "metadata": {},
     "output_type": "display_data"
    }
   ],
   "source": [
    "# Your code here\n",
    "dtype = reviews.points.dtype\n",
    "\n",
    "# Check your answer\n",
    "q1.check()"
   ]
  },
  {
   "cell_type": "code",
   "execution_count": 3,
   "id": "fa077e53",
   "metadata": {
    "execution": {
     "iopub.execute_input": "2023-12-07T21:09:16.938400Z",
     "iopub.status.busy": "2023-12-07T21:09:16.937247Z",
     "iopub.status.idle": "2023-12-07T21:09:16.942245Z",
     "shell.execute_reply": "2023-12-07T21:09:16.941050Z"
    },
    "papermill": {
     "duration": 0.016274,
     "end_time": "2023-12-07T21:09:16.944971",
     "exception": false,
     "start_time": "2023-12-07T21:09:16.928697",
     "status": "completed"
    },
    "tags": []
   },
   "outputs": [],
   "source": [
    "#q1.hint()\n",
    "#q1.solution()"
   ]
  },
  {
   "cell_type": "markdown",
   "id": "b537bd2d",
   "metadata": {
    "papermill": {
     "duration": 0.006443,
     "end_time": "2023-12-07T21:09:16.958985",
     "exception": false,
     "start_time": "2023-12-07T21:09:16.952542",
     "status": "completed"
    },
    "tags": []
   },
   "source": [
    "## 2. \n",
    "Create a Series from entries in the `points` column, but convert the entries to strings. Hint: strings are `str` in native Python."
   ]
  },
  {
   "cell_type": "code",
   "execution_count": 4,
   "id": "9afb0c96",
   "metadata": {
    "execution": {
     "iopub.execute_input": "2023-12-07T21:09:16.974974Z",
     "iopub.status.busy": "2023-12-07T21:09:16.973928Z",
     "iopub.status.idle": "2023-12-07T21:09:17.079523Z",
     "shell.execute_reply": "2023-12-07T21:09:17.078233Z"
    },
    "papermill": {
     "duration": 0.116449,
     "end_time": "2023-12-07T21:09:17.082110",
     "exception": false,
     "start_time": "2023-12-07T21:09:16.965661",
     "status": "completed"
    },
    "tags": []
   },
   "outputs": [
    {
     "data": {
      "application/javascript": [
       "parent.postMessage({\"jupyterEvent\": \"custom.exercise_interaction\", \"data\": {\"outcomeType\": 1, \"valueTowardsCompletion\": 0.25, \"interactionType\": 1, \"questionType\": 1, \"questionId\": \"2_StrPoints\", \"learnToolsVersion\": \"0.3.4\", \"failureMessage\": \"\", \"exceptionClass\": \"\", \"trace\": \"\"}}, \"*\")"
      ],
      "text/plain": [
       "<IPython.core.display.Javascript object>"
      ]
     },
     "metadata": {},
     "output_type": "display_data"
    },
    {
     "data": {
      "text/markdown": [
       "<span style=\"color:#33cc33\">Correct</span>"
      ],
      "text/plain": [
       "Correct"
      ]
     },
     "metadata": {},
     "output_type": "display_data"
    }
   ],
   "source": [
    "point_strings = reviews.points.astype(str)\n",
    "\n",
    "# Check your answer\n",
    "q2.check()"
   ]
  },
  {
   "cell_type": "code",
   "execution_count": 5,
   "id": "5a0b0196",
   "metadata": {
    "execution": {
     "iopub.execute_input": "2023-12-07T21:09:17.099565Z",
     "iopub.status.busy": "2023-12-07T21:09:17.099154Z",
     "iopub.status.idle": "2023-12-07T21:09:17.104577Z",
     "shell.execute_reply": "2023-12-07T21:09:17.103133Z"
    },
    "papermill": {
     "duration": 0.018061,
     "end_time": "2023-12-07T21:09:17.107427",
     "exception": false,
     "start_time": "2023-12-07T21:09:17.089366",
     "status": "completed"
    },
    "tags": []
   },
   "outputs": [],
   "source": [
    "#q2.hint()\n",
    "#q2.solution()"
   ]
  },
  {
   "cell_type": "markdown",
   "id": "ccb9883a",
   "metadata": {
    "papermill": {
     "duration": 0.006814,
     "end_time": "2023-12-07T21:09:17.122082",
     "exception": false,
     "start_time": "2023-12-07T21:09:17.115268",
     "status": "completed"
    },
    "tags": []
   },
   "source": [
    "## 3.\n",
    "Sometimes the price column is null. How many reviews in the dataset are missing a price?"
   ]
  },
  {
   "cell_type": "code",
   "execution_count": 6,
   "id": "f11df5bd",
   "metadata": {
    "execution": {
     "iopub.execute_input": "2023-12-07T21:09:17.138752Z",
     "iopub.status.busy": "2023-12-07T21:09:17.138355Z",
     "iopub.status.idle": "2023-12-07T21:09:17.149438Z",
     "shell.execute_reply": "2023-12-07T21:09:17.148059Z"
    },
    "papermill": {
     "duration": 0.023207,
     "end_time": "2023-12-07T21:09:17.152460",
     "exception": false,
     "start_time": "2023-12-07T21:09:17.129253",
     "status": "completed"
    },
    "tags": []
   },
   "outputs": [
    {
     "data": {
      "application/javascript": [
       "parent.postMessage({\"jupyterEvent\": \"custom.exercise_interaction\", \"data\": {\"outcomeType\": 1, \"valueTowardsCompletion\": 0.25, \"interactionType\": 1, \"questionType\": 1, \"questionId\": \"3_CountMissingPrices\", \"learnToolsVersion\": \"0.3.4\", \"failureMessage\": \"\", \"exceptionClass\": \"\", \"trace\": \"\"}}, \"*\")"
      ],
      "text/plain": [
       "<IPython.core.display.Javascript object>"
      ]
     },
     "metadata": {},
     "output_type": "display_data"
    },
    {
     "data": {
      "text/markdown": [
       "<span style=\"color:#33cc33\">Correct</span>"
      ],
      "text/plain": [
       "Correct"
      ]
     },
     "metadata": {},
     "output_type": "display_data"
    }
   ],
   "source": [
    "n_missing_prices = reviews.price.isnull().sum()\n",
    "\n",
    "# Check your answer\n",
    "q3.check()"
   ]
  },
  {
   "cell_type": "code",
   "execution_count": 7,
   "id": "4b7a2ea9",
   "metadata": {
    "execution": {
     "iopub.execute_input": "2023-12-07T21:09:17.170481Z",
     "iopub.status.busy": "2023-12-07T21:09:17.170051Z",
     "iopub.status.idle": "2023-12-07T21:09:17.175605Z",
     "shell.execute_reply": "2023-12-07T21:09:17.174215Z"
    },
    "papermill": {
     "duration": 0.017779,
     "end_time": "2023-12-07T21:09:17.178214",
     "exception": false,
     "start_time": "2023-12-07T21:09:17.160435",
     "status": "completed"
    },
    "tags": []
   },
   "outputs": [],
   "source": [
    "#q3.hint()\n",
    "#q3.solution()"
   ]
  },
  {
   "cell_type": "markdown",
   "id": "7a1234bc",
   "metadata": {
    "papermill": {
     "duration": 0.007475,
     "end_time": "2023-12-07T21:09:17.193265",
     "exception": false,
     "start_time": "2023-12-07T21:09:17.185790",
     "status": "completed"
    },
    "tags": []
   },
   "source": [
    "## 4.\n",
    "What are the most common wine-producing regions? Create a Series counting the number of times each value occurs in the `region_1` field. This field is often missing data, so replace missing values with `Unknown`. Sort in descending order.  Your output should look something like this:\n",
    "\n",
    "```\n",
    "Unknown                    21247\n",
    "Napa Valley                 4480\n",
    "                           ...  \n",
    "Bardolino Superiore            1\n",
    "Primitivo del Tarantino        1\n",
    "Name: region_1, Length: 1230, dtype: int64\n",
    "```"
   ]
  },
  {
   "cell_type": "code",
   "execution_count": 8,
   "id": "0dc2c0d5",
   "metadata": {
    "execution": {
     "iopub.execute_input": "2023-12-07T21:09:17.210704Z",
     "iopub.status.busy": "2023-12-07T21:09:17.210269Z",
     "iopub.status.idle": "2023-12-07T21:09:17.296761Z",
     "shell.execute_reply": "2023-12-07T21:09:17.295340Z"
    },
    "papermill": {
     "duration": 0.100028,
     "end_time": "2023-12-07T21:09:17.300686",
     "exception": false,
     "start_time": "2023-12-07T21:09:17.200658",
     "status": "completed"
    },
    "tags": []
   },
   "outputs": [
    {
     "data": {
      "application/javascript": [
       "parent.postMessage({\"jupyterEvent\": \"custom.exercise_interaction\", \"data\": {\"outcomeType\": 1, \"valueTowardsCompletion\": 0.25, \"interactionType\": 1, \"questionType\": 2, \"questionId\": \"4_ReviewsPerRegion\", \"learnToolsVersion\": \"0.3.4\", \"failureMessage\": \"\", \"exceptionClass\": \"\", \"trace\": \"\"}}, \"*\")"
      ],
      "text/plain": [
       "<IPython.core.display.Javascript object>"
      ]
     },
     "metadata": {},
     "output_type": "display_data"
    },
    {
     "data": {
      "text/markdown": [
       "<span style=\"color:#33cc33\">Correct</span>"
      ],
      "text/plain": [
       "Correct"
      ]
     },
     "metadata": {},
     "output_type": "display_data"
    }
   ],
   "source": [
    "reviews_per_region = reviews.region_1.fillna('Unknown').value_counts().sort_values(ascending=False)\n",
    "\n",
    "# Check your answer\n",
    "q4.check()"
   ]
  },
  {
   "cell_type": "code",
   "execution_count": 9,
   "id": "92b7ea92",
   "metadata": {
    "execution": {
     "iopub.execute_input": "2023-12-07T21:09:17.319686Z",
     "iopub.status.busy": "2023-12-07T21:09:17.319282Z",
     "iopub.status.idle": "2023-12-07T21:09:17.324489Z",
     "shell.execute_reply": "2023-12-07T21:09:17.323127Z"
    },
    "papermill": {
     "duration": 0.017749,
     "end_time": "2023-12-07T21:09:17.326902",
     "exception": false,
     "start_time": "2023-12-07T21:09:17.309153",
     "status": "completed"
    },
    "tags": []
   },
   "outputs": [],
   "source": [
    "#q4.hint()\n",
    "#q4.solution()"
   ]
  },
  {
   "cell_type": "markdown",
   "id": "24227b17",
   "metadata": {
    "papermill": {
     "duration": 0.007969,
     "end_time": "2023-12-07T21:09:17.343431",
     "exception": false,
     "start_time": "2023-12-07T21:09:17.335462",
     "status": "completed"
    },
    "tags": []
   },
   "source": [
    "# Keep going\n",
    "\n",
    "Move on to **[renaming and combining](https://www.kaggle.com/residentmario/renaming-and-combining)**."
   ]
  },
  {
   "cell_type": "markdown",
   "id": "395e3391",
   "metadata": {
    "papermill": {
     "duration": 0.007527,
     "end_time": "2023-12-07T21:09:17.358736",
     "exception": false,
     "start_time": "2023-12-07T21:09:17.351209",
     "status": "completed"
    },
    "tags": []
   },
   "source": [
    "---\n",
    "\n",
    "\n",
    "\n",
    "\n",
    "*Have questions or comments? Visit the [course discussion forum](https://www.kaggle.com/learn/pandas/discussion) to chat with other learners.*"
   ]
  }
 ],
 "metadata": {
  "kaggle": {
   "accelerator": "none",
   "dataSources": [
    {
     "datasetId": 655,
     "sourceId": 1252,
     "sourceType": "datasetVersion"
    },
    {
     "datasetId": 2321,
     "sourceId": 3919,
     "sourceType": "datasetVersion"
    },
    {
     "datasetId": 2894,
     "sourceId": 4877,
     "sourceType": "datasetVersion"
    },
    {
     "datasetId": 3491,
     "sourceId": 5624,
     "sourceType": "datasetVersion"
    },
    {
     "datasetId": 1442,
     "sourceId": 8172,
     "sourceType": "datasetVersion"
    },
    {
     "datasetId": 9366,
     "sourceId": 13206,
     "sourceType": "datasetVersion"
    },
    {
     "datasetId": 179555,
     "sourceId": 403916,
     "sourceType": "datasetVersion"
    },
    {
     "datasetId": 4549,
     "sourceId": 466349,
     "sourceType": "datasetVersion"
    },
    {
     "datasetId": 2478,
     "sourceId": 1151655,
     "sourceType": "datasetVersion"
    },
    {
     "datasetId": 10128,
     "sourceId": 5438389,
     "sourceType": "datasetVersion"
    }
   ],
   "isGpuEnabled": false,
   "isInternetEnabled": false,
   "language": "python",
   "sourceType": "notebook"
  },
  "kernelspec": {
   "display_name": "Python 3",
   "language": "python",
   "name": "python3"
  },
  "language_info": {
   "codemirror_mode": {
    "name": "ipython",
    "version": 3
   },
   "file_extension": ".py",
   "mimetype": "text/x-python",
   "name": "python",
   "nbconvert_exporter": "python",
   "pygments_lexer": "ipython3",
   "version": "3.10.12"
  },
  "papermill": {
   "default_parameters": {},
   "duration": 8.735307,
   "end_time": "2023-12-07T21:09:17.988111",
   "environment_variables": {},
   "exception": null,
   "input_path": "__notebook__.ipynb",
   "output_path": "__notebook__.ipynb",
   "parameters": {},
   "start_time": "2023-12-07T21:09:09.252804",
   "version": "2.4.0"
  }
 },
 "nbformat": 4,
 "nbformat_minor": 5
}
