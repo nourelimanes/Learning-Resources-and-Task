{
 "cells": [
  {
   "cell_type": "markdown",
   "id": "31708892",
   "metadata": {
    "papermill": {
     "duration": 0.006019,
     "end_time": "2023-12-07T21:12:29.460835",
     "exception": false,
     "start_time": "2023-12-07T21:12:29.454816",
     "status": "completed"
    },
    "tags": []
   },
   "source": [
    "**This notebook is an exercise in the [Pandas](https://www.kaggle.com/learn/pandas) course.  You can reference the tutorial at [this link](https://www.kaggle.com/residentmario/renaming-and-combining).**\n",
    "\n",
    "---\n"
   ]
  },
  {
   "cell_type": "markdown",
   "id": "450ee5ec",
   "metadata": {
    "papermill": {
     "duration": 0.005003,
     "end_time": "2023-12-07T21:12:29.471520",
     "exception": false,
     "start_time": "2023-12-07T21:12:29.466517",
     "status": "completed"
    },
    "tags": []
   },
   "source": [
    "# Introduction\n",
    "\n",
    "Run the following cell to load your data and some utility functions."
   ]
  },
  {
   "cell_type": "code",
   "execution_count": 1,
   "id": "a2443775",
   "metadata": {
    "execution": {
     "iopub.execute_input": "2023-12-07T21:12:29.484409Z",
     "iopub.status.busy": "2023-12-07T21:12:29.483998Z",
     "iopub.status.idle": "2023-12-07T21:12:34.240677Z",
     "shell.execute_reply": "2023-12-07T21:12:34.238794Z"
    },
    "papermill": {
     "duration": 4.766105,
     "end_time": "2023-12-07T21:12:34.243152",
     "exception": false,
     "start_time": "2023-12-07T21:12:29.477047",
     "status": "completed"
    },
    "tags": []
   },
   "outputs": [
    {
     "name": "stdout",
     "output_type": "stream",
     "text": [
      "Setup complete.\n"
     ]
    }
   ],
   "source": [
    "import pandas as pd\n",
    "\n",
    "reviews = pd.read_csv(\"../input/wine-reviews/winemag-data-130k-v2.csv\", index_col=0)\n",
    "\n",
    "from learntools.core import binder; binder.bind(globals())\n",
    "from learntools.pandas.renaming_and_combining import *\n",
    "print(\"Setup complete.\")"
   ]
  },
  {
   "cell_type": "markdown",
   "id": "d317023f",
   "metadata": {
    "papermill": {
     "duration": 0.005234,
     "end_time": "2023-12-07T21:12:34.254120",
     "exception": false,
     "start_time": "2023-12-07T21:12:34.248886",
     "status": "completed"
    },
    "tags": []
   },
   "source": [
    "# Exercises\n",
    "\n",
    "View the first several lines of your data by running the cell below:"
   ]
  },
  {
   "cell_type": "code",
   "execution_count": 2,
   "id": "8f259b75",
   "metadata": {
    "execution": {
     "iopub.execute_input": "2023-12-07T21:12:34.267009Z",
     "iopub.status.busy": "2023-12-07T21:12:34.266375Z",
     "iopub.status.idle": "2023-12-07T21:12:34.288359Z",
     "shell.execute_reply": "2023-12-07T21:12:34.287261Z"
    },
    "papermill": {
     "duration": 0.031387,
     "end_time": "2023-12-07T21:12:34.290894",
     "exception": false,
     "start_time": "2023-12-07T21:12:34.259507",
     "status": "completed"
    },
    "tags": []
   },
   "outputs": [
    {
     "data": {
      "text/html": [
       "<div>\n",
       "<style scoped>\n",
       "    .dataframe tbody tr th:only-of-type {\n",
       "        vertical-align: middle;\n",
       "    }\n",
       "\n",
       "    .dataframe tbody tr th {\n",
       "        vertical-align: top;\n",
       "    }\n",
       "\n",
       "    .dataframe thead th {\n",
       "        text-align: right;\n",
       "    }\n",
       "</style>\n",
       "<table border=\"1\" class=\"dataframe\">\n",
       "  <thead>\n",
       "    <tr style=\"text-align: right;\">\n",
       "      <th></th>\n",
       "      <th>country</th>\n",
       "      <th>description</th>\n",
       "      <th>designation</th>\n",
       "      <th>points</th>\n",
       "      <th>price</th>\n",
       "      <th>province</th>\n",
       "      <th>region_1</th>\n",
       "      <th>region_2</th>\n",
       "      <th>taster_name</th>\n",
       "      <th>taster_twitter_handle</th>\n",
       "      <th>title</th>\n",
       "      <th>variety</th>\n",
       "      <th>winery</th>\n",
       "    </tr>\n",
       "  </thead>\n",
       "  <tbody>\n",
       "    <tr>\n",
       "      <th>0</th>\n",
       "      <td>Italy</td>\n",
       "      <td>Aromas include tropical fruit, broom, brimston...</td>\n",
       "      <td>Vulkà Bianco</td>\n",
       "      <td>87</td>\n",
       "      <td>NaN</td>\n",
       "      <td>Sicily &amp; Sardinia</td>\n",
       "      <td>Etna</td>\n",
       "      <td>NaN</td>\n",
       "      <td>Kerin O’Keefe</td>\n",
       "      <td>@kerinokeefe</td>\n",
       "      <td>Nicosia 2013 Vulkà Bianco  (Etna)</td>\n",
       "      <td>White Blend</td>\n",
       "      <td>Nicosia</td>\n",
       "    </tr>\n",
       "    <tr>\n",
       "      <th>1</th>\n",
       "      <td>Portugal</td>\n",
       "      <td>This is ripe and fruity, a wine that is smooth...</td>\n",
       "      <td>Avidagos</td>\n",
       "      <td>87</td>\n",
       "      <td>15.0</td>\n",
       "      <td>Douro</td>\n",
       "      <td>NaN</td>\n",
       "      <td>NaN</td>\n",
       "      <td>Roger Voss</td>\n",
       "      <td>@vossroger</td>\n",
       "      <td>Quinta dos Avidagos 2011 Avidagos Red (Douro)</td>\n",
       "      <td>Portuguese Red</td>\n",
       "      <td>Quinta dos Avidagos</td>\n",
       "    </tr>\n",
       "    <tr>\n",
       "      <th>2</th>\n",
       "      <td>US</td>\n",
       "      <td>Tart and snappy, the flavors of lime flesh and...</td>\n",
       "      <td>NaN</td>\n",
       "      <td>87</td>\n",
       "      <td>14.0</td>\n",
       "      <td>Oregon</td>\n",
       "      <td>Willamette Valley</td>\n",
       "      <td>Willamette Valley</td>\n",
       "      <td>Paul Gregutt</td>\n",
       "      <td>@paulgwine</td>\n",
       "      <td>Rainstorm 2013 Pinot Gris (Willamette Valley)</td>\n",
       "      <td>Pinot Gris</td>\n",
       "      <td>Rainstorm</td>\n",
       "    </tr>\n",
       "    <tr>\n",
       "      <th>3</th>\n",
       "      <td>US</td>\n",
       "      <td>Pineapple rind, lemon pith and orange blossom ...</td>\n",
       "      <td>Reserve Late Harvest</td>\n",
       "      <td>87</td>\n",
       "      <td>13.0</td>\n",
       "      <td>Michigan</td>\n",
       "      <td>Lake Michigan Shore</td>\n",
       "      <td>NaN</td>\n",
       "      <td>Alexander Peartree</td>\n",
       "      <td>NaN</td>\n",
       "      <td>St. Julian 2013 Reserve Late Harvest Riesling ...</td>\n",
       "      <td>Riesling</td>\n",
       "      <td>St. Julian</td>\n",
       "    </tr>\n",
       "    <tr>\n",
       "      <th>4</th>\n",
       "      <td>US</td>\n",
       "      <td>Much like the regular bottling from 2012, this...</td>\n",
       "      <td>Vintner's Reserve Wild Child Block</td>\n",
       "      <td>87</td>\n",
       "      <td>65.0</td>\n",
       "      <td>Oregon</td>\n",
       "      <td>Willamette Valley</td>\n",
       "      <td>Willamette Valley</td>\n",
       "      <td>Paul Gregutt</td>\n",
       "      <td>@paulgwine</td>\n",
       "      <td>Sweet Cheeks 2012 Vintner's Reserve Wild Child...</td>\n",
       "      <td>Pinot Noir</td>\n",
       "      <td>Sweet Cheeks</td>\n",
       "    </tr>\n",
       "  </tbody>\n",
       "</table>\n",
       "</div>"
      ],
      "text/plain": [
       "    country                                        description  \\\n",
       "0     Italy  Aromas include tropical fruit, broom, brimston...   \n",
       "1  Portugal  This is ripe and fruity, a wine that is smooth...   \n",
       "2        US  Tart and snappy, the flavors of lime flesh and...   \n",
       "3        US  Pineapple rind, lemon pith and orange blossom ...   \n",
       "4        US  Much like the regular bottling from 2012, this...   \n",
       "\n",
       "                          designation  points  price           province  \\\n",
       "0                        Vulkà Bianco      87    NaN  Sicily & Sardinia   \n",
       "1                            Avidagos      87   15.0              Douro   \n",
       "2                                 NaN      87   14.0             Oregon   \n",
       "3                Reserve Late Harvest      87   13.0           Michigan   \n",
       "4  Vintner's Reserve Wild Child Block      87   65.0             Oregon   \n",
       "\n",
       "              region_1           region_2         taster_name  \\\n",
       "0                 Etna                NaN       Kerin O’Keefe   \n",
       "1                  NaN                NaN          Roger Voss   \n",
       "2    Willamette Valley  Willamette Valley        Paul Gregutt   \n",
       "3  Lake Michigan Shore                NaN  Alexander Peartree   \n",
       "4    Willamette Valley  Willamette Valley        Paul Gregutt   \n",
       "\n",
       "  taster_twitter_handle                                              title  \\\n",
       "0          @kerinokeefe                  Nicosia 2013 Vulkà Bianco  (Etna)   \n",
       "1            @vossroger      Quinta dos Avidagos 2011 Avidagos Red (Douro)   \n",
       "2           @paulgwine       Rainstorm 2013 Pinot Gris (Willamette Valley)   \n",
       "3                   NaN  St. Julian 2013 Reserve Late Harvest Riesling ...   \n",
       "4           @paulgwine   Sweet Cheeks 2012 Vintner's Reserve Wild Child...   \n",
       "\n",
       "          variety               winery  \n",
       "0     White Blend              Nicosia  \n",
       "1  Portuguese Red  Quinta dos Avidagos  \n",
       "2      Pinot Gris            Rainstorm  \n",
       "3        Riesling           St. Julian  \n",
       "4      Pinot Noir         Sweet Cheeks  "
      ]
     },
     "execution_count": 2,
     "metadata": {},
     "output_type": "execute_result"
    }
   ],
   "source": [
    "reviews.head()"
   ]
  },
  {
   "cell_type": "markdown",
   "id": "867a21bc",
   "metadata": {
    "papermill": {
     "duration": 0.005864,
     "end_time": "2023-12-07T21:12:34.302711",
     "exception": false,
     "start_time": "2023-12-07T21:12:34.296847",
     "status": "completed"
    },
    "tags": []
   },
   "source": [
    "## 1.\n",
    "`region_1` and `region_2` are pretty uninformative names for locale columns in the dataset. Create a copy of `reviews` with these columns renamed to `region` and `locale`, respectively."
   ]
  },
  {
   "cell_type": "code",
   "execution_count": 3,
   "id": "ad1b4842",
   "metadata": {
    "execution": {
     "iopub.execute_input": "2023-12-07T21:12:34.317404Z",
     "iopub.status.busy": "2023-12-07T21:12:34.316233Z",
     "iopub.status.idle": "2023-12-07T21:12:34.340651Z",
     "shell.execute_reply": "2023-12-07T21:12:34.339650Z"
    },
    "papermill": {
     "duration": 0.033923,
     "end_time": "2023-12-07T21:12:34.342862",
     "exception": false,
     "start_time": "2023-12-07T21:12:34.308939",
     "status": "completed"
    },
    "tags": []
   },
   "outputs": [
    {
     "data": {
      "application/javascript": [
       "parent.postMessage({\"jupyterEvent\": \"custom.exercise_interaction\", \"data\": {\"outcomeType\": 1, \"valueTowardsCompletion\": 0.25, \"interactionType\": 1, \"questionType\": 1, \"questionId\": \"1_RenameCols\", \"learnToolsVersion\": \"0.3.4\", \"failureMessage\": \"\", \"exceptionClass\": \"\", \"trace\": \"\"}}, \"*\")"
      ],
      "text/plain": [
       "<IPython.core.display.Javascript object>"
      ]
     },
     "metadata": {},
     "output_type": "display_data"
    },
    {
     "data": {
      "text/markdown": [
       "<span style=\"color:#33cc33\">Correct</span>"
      ],
      "text/plain": [
       "Correct"
      ]
     },
     "metadata": {},
     "output_type": "display_data"
    }
   ],
   "source": [
    "# Your code here\n",
    "renamed = reviews.rename(columns=dict(region_1='region', region_2='locale'))\n",
    "\n",
    "# Check your answer\n",
    "q1.check()"
   ]
  },
  {
   "cell_type": "code",
   "execution_count": 4,
   "id": "c3501bce",
   "metadata": {
    "execution": {
     "iopub.execute_input": "2023-12-07T21:12:34.357413Z",
     "iopub.status.busy": "2023-12-07T21:12:34.357002Z",
     "iopub.status.idle": "2023-12-07T21:12:34.361160Z",
     "shell.execute_reply": "2023-12-07T21:12:34.360026Z"
    },
    "papermill": {
     "duration": 0.014217,
     "end_time": "2023-12-07T21:12:34.363228",
     "exception": false,
     "start_time": "2023-12-07T21:12:34.349011",
     "status": "completed"
    },
    "tags": []
   },
   "outputs": [],
   "source": [
    "#q1.hint()\n",
    "#q1.solution()"
   ]
  },
  {
   "cell_type": "markdown",
   "id": "d45e5cd9",
   "metadata": {
    "papermill": {
     "duration": 0.005832,
     "end_time": "2023-12-07T21:12:34.375269",
     "exception": false,
     "start_time": "2023-12-07T21:12:34.369437",
     "status": "completed"
    },
    "tags": []
   },
   "source": [
    "## 2.\n",
    "Set the index name in the dataset to `wines`."
   ]
  },
  {
   "cell_type": "code",
   "execution_count": 5,
   "id": "81ab1d23",
   "metadata": {
    "execution": {
     "iopub.execute_input": "2023-12-07T21:12:34.389515Z",
     "iopub.status.busy": "2023-12-07T21:12:34.388570Z",
     "iopub.status.idle": "2023-12-07T21:12:34.409532Z",
     "shell.execute_reply": "2023-12-07T21:12:34.408474Z"
    },
    "papermill": {
     "duration": 0.03046,
     "end_time": "2023-12-07T21:12:34.411861",
     "exception": false,
     "start_time": "2023-12-07T21:12:34.381401",
     "status": "completed"
    },
    "tags": []
   },
   "outputs": [
    {
     "data": {
      "application/javascript": [
       "parent.postMessage({\"jupyterEvent\": \"custom.exercise_interaction\", \"data\": {\"outcomeType\": 1, \"valueTowardsCompletion\": 0.25, \"interactionType\": 1, \"questionType\": 1, \"questionId\": \"2_RenameIndex\", \"learnToolsVersion\": \"0.3.4\", \"failureMessage\": \"\", \"exceptionClass\": \"\", \"trace\": \"\"}}, \"*\")"
      ],
      "text/plain": [
       "<IPython.core.display.Javascript object>"
      ]
     },
     "metadata": {},
     "output_type": "display_data"
    },
    {
     "data": {
      "text/markdown": [
       "<span style=\"color:#33cc33\">Correct</span>"
      ],
      "text/plain": [
       "Correct"
      ]
     },
     "metadata": {},
     "output_type": "display_data"
    }
   ],
   "source": [
    "reindexed = reviews.rename_axis('wines', axis='rows')\n",
    "\n",
    "# Check your answer\n",
    "q2.check()"
   ]
  },
  {
   "cell_type": "code",
   "execution_count": 6,
   "id": "f9f17618",
   "metadata": {
    "execution": {
     "iopub.execute_input": "2023-12-07T21:12:34.426331Z",
     "iopub.status.busy": "2023-12-07T21:12:34.425899Z",
     "iopub.status.idle": "2023-12-07T21:12:34.430369Z",
     "shell.execute_reply": "2023-12-07T21:12:34.429158Z"
    },
    "papermill": {
     "duration": 0.014422,
     "end_time": "2023-12-07T21:12:34.432638",
     "exception": false,
     "start_time": "2023-12-07T21:12:34.418216",
     "status": "completed"
    },
    "tags": []
   },
   "outputs": [],
   "source": [
    "#q2.hint()\n",
    "#q2.solution()"
   ]
  },
  {
   "cell_type": "markdown",
   "id": "932fccbe",
   "metadata": {
    "papermill": {
     "duration": 0.008882,
     "end_time": "2023-12-07T21:12:34.449209",
     "exception": false,
     "start_time": "2023-12-07T21:12:34.440327",
     "status": "completed"
    },
    "tags": []
   },
   "source": [
    "## 3.\n",
    "The [Things on Reddit](https://www.kaggle.com/residentmario/things-on-reddit/data) dataset includes product links from a selection of top-ranked forums (\"subreddits\") on reddit.com. Run the cell below to load a dataframe of products mentioned on the */r/gaming* subreddit and another dataframe for products mentioned on the *r//movies* subreddit."
   ]
  },
  {
   "cell_type": "code",
   "execution_count": 7,
   "id": "10aae080",
   "metadata": {
    "execution": {
     "iopub.execute_input": "2023-12-07T21:12:34.464808Z",
     "iopub.status.busy": "2023-12-07T21:12:34.464188Z",
     "iopub.status.idle": "2023-12-07T21:12:34.479003Z",
     "shell.execute_reply": "2023-12-07T21:12:34.478151Z"
    },
    "papermill": {
     "duration": 0.025084,
     "end_time": "2023-12-07T21:12:34.481426",
     "exception": false,
     "start_time": "2023-12-07T21:12:34.456342",
     "status": "completed"
    },
    "tags": []
   },
   "outputs": [],
   "source": [
    "gaming_products = pd.read_csv(\"../input/things-on-reddit/top-things/top-things/reddits/g/gaming.csv\")\n",
    "gaming_products['subreddit'] = \"r/gaming\"\n",
    "movie_products = pd.read_csv(\"../input/things-on-reddit/top-things/top-things/reddits/m/movies.csv\")\n",
    "movie_products['subreddit'] = \"r/movies\""
   ]
  },
  {
   "cell_type": "markdown",
   "id": "72eaa319",
   "metadata": {
    "papermill": {
     "duration": 0.006316,
     "end_time": "2023-12-07T21:12:34.494263",
     "exception": false,
     "start_time": "2023-12-07T21:12:34.487947",
     "status": "completed"
    },
    "tags": []
   },
   "source": [
    "Create a `DataFrame` of products mentioned on *either* subreddit."
   ]
  },
  {
   "cell_type": "code",
   "execution_count": 8,
   "id": "b69272d6",
   "metadata": {
    "execution": {
     "iopub.execute_input": "2023-12-07T21:12:34.509332Z",
     "iopub.status.busy": "2023-12-07T21:12:34.508653Z",
     "iopub.status.idle": "2023-12-07T21:12:34.519369Z",
     "shell.execute_reply": "2023-12-07T21:12:34.518267Z"
    },
    "papermill": {
     "duration": 0.020824,
     "end_time": "2023-12-07T21:12:34.521484",
     "exception": false,
     "start_time": "2023-12-07T21:12:34.500660",
     "status": "completed"
    },
    "tags": []
   },
   "outputs": [
    {
     "data": {
      "application/javascript": [
       "parent.postMessage({\"jupyterEvent\": \"custom.exercise_interaction\", \"data\": {\"outcomeType\": 1, \"valueTowardsCompletion\": 0.25, \"interactionType\": 1, \"questionType\": 2, \"questionId\": \"3_ConcatReddit\", \"learnToolsVersion\": \"0.3.4\", \"failureMessage\": \"\", \"exceptionClass\": \"\", \"trace\": \"\"}}, \"*\")"
      ],
      "text/plain": [
       "<IPython.core.display.Javascript object>"
      ]
     },
     "metadata": {},
     "output_type": "display_data"
    },
    {
     "data": {
      "text/markdown": [
       "<span style=\"color:#33cc33\">Correct</span>"
      ],
      "text/plain": [
       "Correct"
      ]
     },
     "metadata": {},
     "output_type": "display_data"
    }
   ],
   "source": [
    "combined_products = pd.concat([gaming_products, movie_products])\n",
    "\n",
    "# Check your answer\n",
    "q3.check()"
   ]
  },
  {
   "cell_type": "code",
   "execution_count": 9,
   "id": "901e9982",
   "metadata": {
    "execution": {
     "iopub.execute_input": "2023-12-07T21:12:34.536762Z",
     "iopub.status.busy": "2023-12-07T21:12:34.536118Z",
     "iopub.status.idle": "2023-12-07T21:12:34.539793Z",
     "shell.execute_reply": "2023-12-07T21:12:34.539034Z"
    },
    "papermill": {
     "duration": 0.013774,
     "end_time": "2023-12-07T21:12:34.541776",
     "exception": false,
     "start_time": "2023-12-07T21:12:34.528002",
     "status": "completed"
    },
    "tags": []
   },
   "outputs": [],
   "source": [
    "#q3.hint()\n",
    "#q3.solution()"
   ]
  },
  {
   "cell_type": "markdown",
   "id": "3ae908e4",
   "metadata": {
    "papermill": {
     "duration": 0.006669,
     "end_time": "2023-12-07T21:12:34.555114",
     "exception": false,
     "start_time": "2023-12-07T21:12:34.548445",
     "status": "completed"
    },
    "tags": []
   },
   "source": [
    "## 4.\n",
    "The [Powerlifting Database](https://www.kaggle.com/open-powerlifting/powerlifting-database) dataset on Kaggle includes one CSV table for powerlifting meets and a separate one for powerlifting competitors. Run the cell below to load these datasets into dataframes:"
   ]
  },
  {
   "cell_type": "code",
   "execution_count": 10,
   "id": "7d57fef5",
   "metadata": {
    "execution": {
     "iopub.execute_input": "2023-12-07T21:12:34.570691Z",
     "iopub.status.busy": "2023-12-07T21:12:34.570033Z",
     "iopub.status.idle": "2023-12-07T21:12:35.447862Z",
     "shell.execute_reply": "2023-12-07T21:12:35.446486Z"
    },
    "papermill": {
     "duration": 0.889017,
     "end_time": "2023-12-07T21:12:35.450676",
     "exception": false,
     "start_time": "2023-12-07T21:12:34.561659",
     "status": "completed"
    },
    "tags": []
   },
   "outputs": [],
   "source": [
    "powerlifting_meets = pd.read_csv(\"../input/powerlifting-database/meets.csv\")\n",
    "powerlifting_competitors = pd.read_csv(\"../input/powerlifting-database/openpowerlifting.csv\")"
   ]
  },
  {
   "cell_type": "markdown",
   "id": "9628d507",
   "metadata": {
    "papermill": {
     "duration": 0.006846,
     "end_time": "2023-12-07T21:12:35.464588",
     "exception": false,
     "start_time": "2023-12-07T21:12:35.457742",
     "status": "completed"
    },
    "tags": []
   },
   "source": [
    "Both tables include references to a `MeetID`, a unique key for each meet (competition) included in the database. Using this, generate a dataset combining the two tables into one."
   ]
  },
  {
   "cell_type": "code",
   "execution_count": 11,
   "id": "63ea8c24",
   "metadata": {
    "execution": {
     "iopub.execute_input": "2023-12-07T21:12:35.479839Z",
     "iopub.status.busy": "2023-12-07T21:12:35.479419Z",
     "iopub.status.idle": "2023-12-07T21:12:36.319671Z",
     "shell.execute_reply": "2023-12-07T21:12:36.318437Z"
    },
    "papermill": {
     "duration": 0.850794,
     "end_time": "2023-12-07T21:12:36.322016",
     "exception": false,
     "start_time": "2023-12-07T21:12:35.471222",
     "status": "completed"
    },
    "tags": []
   },
   "outputs": [
    {
     "data": {
      "application/javascript": [
       "parent.postMessage({\"jupyterEvent\": \"custom.exercise_interaction\", \"data\": {\"outcomeType\": 1, \"valueTowardsCompletion\": 0.25, \"interactionType\": 1, \"questionType\": 2, \"questionId\": \"4_JoinLifting\", \"learnToolsVersion\": \"0.3.4\", \"failureMessage\": \"\", \"exceptionClass\": \"\", \"trace\": \"\"}}, \"*\")"
      ],
      "text/plain": [
       "<IPython.core.display.Javascript object>"
      ]
     },
     "metadata": {},
     "output_type": "display_data"
    },
    {
     "data": {
      "text/markdown": [
       "<span style=\"color:#33cc33\">Correct</span>"
      ],
      "text/plain": [
       "Correct"
      ]
     },
     "metadata": {},
     "output_type": "display_data"
    }
   ],
   "source": [
    "powerlifting_combined = powerlifting_meets.set_index(\"MeetID\").join(powerlifting_competitors.set_index(\"MeetID\"))\n",
    "\n",
    "# Check your answer\n",
    "q4.check()"
   ]
  },
  {
   "cell_type": "code",
   "execution_count": 12,
   "id": "f42a7900",
   "metadata": {
    "execution": {
     "iopub.execute_input": "2023-12-07T21:12:36.337452Z",
     "iopub.status.busy": "2023-12-07T21:12:36.337018Z",
     "iopub.status.idle": "2023-12-07T21:12:36.341350Z",
     "shell.execute_reply": "2023-12-07T21:12:36.340241Z"
    },
    "papermill": {
     "duration": 0.01467,
     "end_time": "2023-12-07T21:12:36.343557",
     "exception": false,
     "start_time": "2023-12-07T21:12:36.328887",
     "status": "completed"
    },
    "tags": []
   },
   "outputs": [],
   "source": [
    "#q4.hint()\n",
    "#q4.solution()"
   ]
  },
  {
   "cell_type": "markdown",
   "id": "2ecbb369",
   "metadata": {
    "papermill": {
     "duration": 0.006668,
     "end_time": "2023-12-07T21:12:36.357133",
     "exception": false,
     "start_time": "2023-12-07T21:12:36.350465",
     "status": "completed"
    },
    "tags": []
   },
   "source": [
    "# Congratulations!\n",
    "\n",
    "You've finished the Pandas micro-course.  Many data scientists feel efficiency with Pandas is the most useful and practical skill they have, because it allows you to progress quickly in any project you have.\n",
    "\n",
    "If you'd like to apply your new skills to examining geospatial data, you're encouraged to check out our **[Geospatial Analysis](https://www.kaggle.com/learn/geospatial-analysis)** micro-course.\n",
    "\n",
    "You can also take advantage of your Pandas skills by entering a **[Kaggle Competition](https://www.kaggle.com/competitions)** or by answering a question you find interesting using **[Kaggle Datasets](https://www.kaggle.com/datasets)**."
   ]
  },
  {
   "cell_type": "markdown",
   "id": "2e76db43",
   "metadata": {
    "papermill": {
     "duration": 0.006351,
     "end_time": "2023-12-07T21:12:36.370214",
     "exception": false,
     "start_time": "2023-12-07T21:12:36.363863",
     "status": "completed"
    },
    "tags": []
   },
   "source": [
    "---\n",
    "\n",
    "\n",
    "\n",
    "\n",
    "*Have questions or comments? Visit the [course discussion forum](https://www.kaggle.com/learn/pandas/discussion) to chat with other learners.*"
   ]
  }
 ],
 "metadata": {
  "kaggle": {
   "accelerator": "none",
   "dataSources": [
    {
     "datasetId": 655,
     "sourceId": 1252,
     "sourceType": "datasetVersion"
    },
    {
     "datasetId": 2321,
     "sourceId": 3919,
     "sourceType": "datasetVersion"
    },
    {
     "datasetId": 2894,
     "sourceId": 4877,
     "sourceType": "datasetVersion"
    },
    {
     "datasetId": 3491,
     "sourceId": 5624,
     "sourceType": "datasetVersion"
    },
    {
     "datasetId": 1442,
     "sourceId": 8172,
     "sourceType": "datasetVersion"
    },
    {
     "datasetId": 9366,
     "sourceId": 13206,
     "sourceType": "datasetVersion"
    },
    {
     "datasetId": 179555,
     "sourceId": 403916,
     "sourceType": "datasetVersion"
    },
    {
     "datasetId": 4549,
     "sourceId": 466349,
     "sourceType": "datasetVersion"
    },
    {
     "datasetId": 2478,
     "sourceId": 1151655,
     "sourceType": "datasetVersion"
    },
    {
     "datasetId": 10128,
     "sourceId": 5438389,
     "sourceType": "datasetVersion"
    }
   ],
   "isGpuEnabled": false,
   "isInternetEnabled": false,
   "language": "python",
   "sourceType": "notebook"
  },
  "kernelspec": {
   "display_name": "Python 3",
   "language": "python",
   "name": "python3"
  },
  "language_info": {
   "codemirror_mode": {
    "name": "ipython",
    "version": 3
   },
   "file_extension": ".py",
   "mimetype": "text/x-python",
   "name": "python",
   "nbconvert_exporter": "python",
   "pygments_lexer": "ipython3",
   "version": "3.10.12"
  },
  "papermill": {
   "default_parameters": {},
   "duration": 10.748126,
   "end_time": "2023-12-07T21:12:36.998027",
   "environment_variables": {},
   "exception": null,
   "input_path": "__notebook__.ipynb",
   "output_path": "__notebook__.ipynb",
   "parameters": {},
   "start_time": "2023-12-07T21:12:26.249901",
   "version": "2.4.0"
  }
 },
 "nbformat": 4,
 "nbformat_minor": 5
}
