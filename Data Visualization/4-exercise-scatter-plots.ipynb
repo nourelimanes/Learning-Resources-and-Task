{
 "cells": [
  {
   "cell_type": "markdown",
   "id": "57ec09f4",
   "metadata": {
    "papermill": {
     "duration": 0.012095,
     "end_time": "2023-12-06T11:03:00.568089",
     "exception": false,
     "start_time": "2023-12-06T11:03:00.555994",
     "status": "completed"
    },
    "tags": []
   },
   "source": [
    "**This notebook is an exercise in the [Data Visualization](https://www.kaggle.com/learn/data-visualization) course.  You can reference the tutorial at [this link](https://www.kaggle.com/alexisbcook/scatter-plots).**\n",
    "\n",
    "---\n"
   ]
  },
  {
   "cell_type": "markdown",
   "id": "8e8f0230",
   "metadata": {
    "papermill": {
     "duration": 0.011751,
     "end_time": "2023-12-06T11:03:00.591637",
     "exception": false,
     "start_time": "2023-12-06T11:03:00.579886",
     "status": "completed"
    },
    "tags": []
   },
   "source": [
    "In this exercise, you will use your new knowledge to propose a solution to a real-world scenario.  To succeed, you will need to import data into Python, answer questions using the data, and generate **scatter plots** to understand patterns in the data.\n",
    "\n",
    "## Scenario\n",
    "\n",
    "You work for a major candy producer, and your goal is to write a report that your company can use to guide the design of its next product.  Soon after starting your research, you stumble across this [very interesting dataset](https://fivethirtyeight.com/features/the-ultimate-halloween-candy-power-ranking/) containing results from a fun survey to crowdsource favorite candies.\n",
    "\n",
    "## Setup\n",
    "\n",
    "Run the next cell to import and configure the Python libraries that you need to complete the exercise."
   ]
  },
  {
   "cell_type": "code",
   "execution_count": 1,
   "id": "cbe581ce",
   "metadata": {
    "execution": {
     "iopub.execute_input": "2023-12-06T11:03:00.617031Z",
     "iopub.status.busy": "2023-12-06T11:03:00.616360Z",
     "iopub.status.idle": "2023-12-06T11:03:02.546433Z",
     "shell.execute_reply": "2023-12-06T11:03:02.545295Z"
    },
    "papermill": {
     "duration": 1.945727,
     "end_time": "2023-12-06T11:03:02.549106",
     "exception": false,
     "start_time": "2023-12-06T11:03:00.603379",
     "status": "completed"
    },
    "tags": []
   },
   "outputs": [
    {
     "name": "stdout",
     "output_type": "stream",
     "text": [
      "Setup Complete\n"
     ]
    }
   ],
   "source": [
    "import pandas as pd\n",
    "pd.plotting.register_matplotlib_converters()\n",
    "import matplotlib.pyplot as plt\n",
    "%matplotlib inline\n",
    "import seaborn as sns\n",
    "print(\"Setup Complete\")"
   ]
  },
  {
   "cell_type": "markdown",
   "id": "c9435f6b",
   "metadata": {
    "papermill": {
     "duration": 0.011973,
     "end_time": "2023-12-06T11:03:02.573606",
     "exception": false,
     "start_time": "2023-12-06T11:03:02.561633",
     "status": "completed"
    },
    "tags": []
   },
   "source": [
    "The questions below will give you feedback on your work. Run the following cell to set up our feedback system."
   ]
  },
  {
   "cell_type": "code",
   "execution_count": 2,
   "id": "d602097d",
   "metadata": {
    "execution": {
     "iopub.execute_input": "2023-12-06T11:03:02.600390Z",
     "iopub.status.busy": "2023-12-06T11:03:02.599832Z",
     "iopub.status.idle": "2023-12-06T11:03:02.760506Z",
     "shell.execute_reply": "2023-12-06T11:03:02.758875Z"
    },
    "papermill": {
     "duration": 0.177117,
     "end_time": "2023-12-06T11:03:02.763238",
     "exception": false,
     "start_time": "2023-12-06T11:03:02.586121",
     "status": "completed"
    },
    "tags": []
   },
   "outputs": [
    {
     "name": "stdout",
     "output_type": "stream",
     "text": [
      "Setup Complete\n"
     ]
    }
   ],
   "source": [
    "# Set up code checking\n",
    "import os\n",
    "if not os.path.exists(\"../input/candy.csv\"):\n",
    "    os.symlink(\"../input/data-for-datavis/candy.csv\", \"../input/candy.csv\") \n",
    "from learntools.core import binder\n",
    "binder.bind(globals())\n",
    "from learntools.data_viz_to_coder.ex4 import *\n",
    "print(\"Setup Complete\")"
   ]
  },
  {
   "cell_type": "markdown",
   "id": "8a547620",
   "metadata": {
    "papermill": {
     "duration": 0.011655,
     "end_time": "2023-12-06T11:03:02.787119",
     "exception": false,
     "start_time": "2023-12-06T11:03:02.775464",
     "status": "completed"
    },
    "tags": []
   },
   "source": [
    "## Step 1: Load the Data\n",
    "\n",
    "Read the candy data file into `candy_data`.  Use the `\"id\"` column to label the rows."
   ]
  },
  {
   "cell_type": "code",
   "execution_count": 3,
   "id": "b643d62f",
   "metadata": {
    "execution": {
     "iopub.execute_input": "2023-12-06T11:03:02.813880Z",
     "iopub.status.busy": "2023-12-06T11:03:02.813096Z",
     "iopub.status.idle": "2023-12-06T11:03:02.831375Z",
     "shell.execute_reply": "2023-12-06T11:03:02.830285Z"
    },
    "papermill": {
     "duration": 0.034819,
     "end_time": "2023-12-06T11:03:02.834035",
     "exception": false,
     "start_time": "2023-12-06T11:03:02.799216",
     "status": "completed"
    },
    "tags": []
   },
   "outputs": [
    {
     "data": {
      "application/javascript": [
       "parent.postMessage({\"jupyterEvent\": \"custom.exercise_interaction\", \"data\": {\"outcomeType\": 1, \"valueTowardsCompletion\": 0.3333333333333333, \"interactionType\": 1, \"questionType\": 1, \"questionId\": \"1_LoadData\", \"learnToolsVersion\": \"0.3.4\", \"failureMessage\": \"\", \"exceptionClass\": \"\", \"trace\": \"\"}}, \"*\")"
      ],
      "text/plain": [
       "<IPython.core.display.Javascript object>"
      ]
     },
     "metadata": {},
     "output_type": "display_data"
    },
    {
     "data": {
      "text/markdown": [
       "<span style=\"color:#33cc33\">Correct</span>"
      ],
      "text/plain": [
       "Correct"
      ]
     },
     "metadata": {},
     "output_type": "display_data"
    }
   ],
   "source": [
    "# Path of the file to read\n",
    "candy_filepath = \"../input/candy.csv\"\n",
    "\n",
    "# Fill in the line below to read the file into a variable candy_data\n",
    "candy_data = pd.read_csv(candy_filepath, index_col=\"id\")\n",
    "\n",
    "# Run the line below with no changes to check that you've loaded the data correctly\n",
    "step_1.check()"
   ]
  },
  {
   "cell_type": "code",
   "execution_count": 4,
   "id": "3cae5189",
   "metadata": {
    "execution": {
     "iopub.execute_input": "2023-12-06T11:03:02.862303Z",
     "iopub.status.busy": "2023-12-06T11:03:02.861927Z",
     "iopub.status.idle": "2023-12-06T11:03:02.866486Z",
     "shell.execute_reply": "2023-12-06T11:03:02.865224Z"
    },
    "papermill": {
     "duration": 0.021054,
     "end_time": "2023-12-06T11:03:02.868971",
     "exception": false,
     "start_time": "2023-12-06T11:03:02.847917",
     "status": "completed"
    },
    "tags": []
   },
   "outputs": [],
   "source": [
    "# Lines below will give you a hint or solution code\n",
    "#step_1.hint()\n",
    "#step_1.solution()"
   ]
  },
  {
   "cell_type": "markdown",
   "id": "a8a0455d",
   "metadata": {
    "papermill": {
     "duration": 0.012026,
     "end_time": "2023-12-06T11:03:02.893964",
     "exception": false,
     "start_time": "2023-12-06T11:03:02.881938",
     "status": "completed"
    },
    "tags": []
   },
   "source": [
    "## Step 2: Review the data\n",
    "\n",
    "Use a Python command to print the first five rows of the data."
   ]
  },
  {
   "cell_type": "code",
   "execution_count": 5,
   "id": "43b5ecb2",
   "metadata": {
    "execution": {
     "iopub.execute_input": "2023-12-06T11:03:02.920874Z",
     "iopub.status.busy": "2023-12-06T11:03:02.920092Z",
     "iopub.status.idle": "2023-12-06T11:03:02.943318Z",
     "shell.execute_reply": "2023-12-06T11:03:02.942145Z"
    },
    "papermill": {
     "duration": 0.039693,
     "end_time": "2023-12-06T11:03:02.946015",
     "exception": false,
     "start_time": "2023-12-06T11:03:02.906322",
     "status": "completed"
    },
    "tags": []
   },
   "outputs": [
    {
     "data": {
      "text/html": [
       "<div>\n",
       "<style scoped>\n",
       "    .dataframe tbody tr th:only-of-type {\n",
       "        vertical-align: middle;\n",
       "    }\n",
       "\n",
       "    .dataframe tbody tr th {\n",
       "        vertical-align: top;\n",
       "    }\n",
       "\n",
       "    .dataframe thead th {\n",
       "        text-align: right;\n",
       "    }\n",
       "</style>\n",
       "<table border=\"1\" class=\"dataframe\">\n",
       "  <thead>\n",
       "    <tr style=\"text-align: right;\">\n",
       "      <th></th>\n",
       "      <th>competitorname</th>\n",
       "      <th>chocolate</th>\n",
       "      <th>fruity</th>\n",
       "      <th>caramel</th>\n",
       "      <th>peanutyalmondy</th>\n",
       "      <th>nougat</th>\n",
       "      <th>crispedricewafer</th>\n",
       "      <th>hard</th>\n",
       "      <th>bar</th>\n",
       "      <th>pluribus</th>\n",
       "      <th>sugarpercent</th>\n",
       "      <th>pricepercent</th>\n",
       "      <th>winpercent</th>\n",
       "    </tr>\n",
       "    <tr>\n",
       "      <th>id</th>\n",
       "      <th></th>\n",
       "      <th></th>\n",
       "      <th></th>\n",
       "      <th></th>\n",
       "      <th></th>\n",
       "      <th></th>\n",
       "      <th></th>\n",
       "      <th></th>\n",
       "      <th></th>\n",
       "      <th></th>\n",
       "      <th></th>\n",
       "      <th></th>\n",
       "      <th></th>\n",
       "    </tr>\n",
       "  </thead>\n",
       "  <tbody>\n",
       "    <tr>\n",
       "      <th>0</th>\n",
       "      <td>100 Grand</td>\n",
       "      <td>Yes</td>\n",
       "      <td>No</td>\n",
       "      <td>Yes</td>\n",
       "      <td>No</td>\n",
       "      <td>No</td>\n",
       "      <td>Yes</td>\n",
       "      <td>No</td>\n",
       "      <td>Yes</td>\n",
       "      <td>No</td>\n",
       "      <td>0.732</td>\n",
       "      <td>0.860</td>\n",
       "      <td>66.971725</td>\n",
       "    </tr>\n",
       "    <tr>\n",
       "      <th>1</th>\n",
       "      <td>3 Musketeers</td>\n",
       "      <td>Yes</td>\n",
       "      <td>No</td>\n",
       "      <td>No</td>\n",
       "      <td>No</td>\n",
       "      <td>Yes</td>\n",
       "      <td>No</td>\n",
       "      <td>No</td>\n",
       "      <td>Yes</td>\n",
       "      <td>No</td>\n",
       "      <td>0.604</td>\n",
       "      <td>0.511</td>\n",
       "      <td>67.602936</td>\n",
       "    </tr>\n",
       "    <tr>\n",
       "      <th>2</th>\n",
       "      <td>Air Heads</td>\n",
       "      <td>No</td>\n",
       "      <td>Yes</td>\n",
       "      <td>No</td>\n",
       "      <td>No</td>\n",
       "      <td>No</td>\n",
       "      <td>No</td>\n",
       "      <td>No</td>\n",
       "      <td>No</td>\n",
       "      <td>No</td>\n",
       "      <td>0.906</td>\n",
       "      <td>0.511</td>\n",
       "      <td>52.341465</td>\n",
       "    </tr>\n",
       "    <tr>\n",
       "      <th>3</th>\n",
       "      <td>Almond Joy</td>\n",
       "      <td>Yes</td>\n",
       "      <td>No</td>\n",
       "      <td>No</td>\n",
       "      <td>Yes</td>\n",
       "      <td>No</td>\n",
       "      <td>No</td>\n",
       "      <td>No</td>\n",
       "      <td>Yes</td>\n",
       "      <td>No</td>\n",
       "      <td>0.465</td>\n",
       "      <td>0.767</td>\n",
       "      <td>50.347546</td>\n",
       "    </tr>\n",
       "    <tr>\n",
       "      <th>4</th>\n",
       "      <td>Baby Ruth</td>\n",
       "      <td>Yes</td>\n",
       "      <td>No</td>\n",
       "      <td>Yes</td>\n",
       "      <td>Yes</td>\n",
       "      <td>Yes</td>\n",
       "      <td>No</td>\n",
       "      <td>No</td>\n",
       "      <td>Yes</td>\n",
       "      <td>No</td>\n",
       "      <td>0.604</td>\n",
       "      <td>0.767</td>\n",
       "      <td>56.914547</td>\n",
       "    </tr>\n",
       "  </tbody>\n",
       "</table>\n",
       "</div>"
      ],
      "text/plain": [
       "   competitorname chocolate fruity caramel peanutyalmondy nougat  \\\n",
       "id                                                                 \n",
       "0       100 Grand       Yes     No     Yes             No     No   \n",
       "1    3 Musketeers       Yes     No      No             No    Yes   \n",
       "2       Air Heads        No    Yes      No             No     No   \n",
       "3      Almond Joy       Yes     No      No            Yes     No   \n",
       "4       Baby Ruth       Yes     No     Yes            Yes    Yes   \n",
       "\n",
       "   crispedricewafer hard  bar pluribus  sugarpercent  pricepercent  winpercent  \n",
       "id                                                                              \n",
       "0               Yes   No  Yes       No         0.732         0.860   66.971725  \n",
       "1                No   No  Yes       No         0.604         0.511   67.602936  \n",
       "2                No   No   No       No         0.906         0.511   52.341465  \n",
       "3                No   No  Yes       No         0.465         0.767   50.347546  \n",
       "4                No   No  Yes       No         0.604         0.767   56.914547  "
      ]
     },
     "execution_count": 5,
     "metadata": {},
     "output_type": "execute_result"
    }
   ],
   "source": [
    "# Print the first five rows of the data\n",
    "candy_data.head() # Your code here"
   ]
  },
  {
   "cell_type": "markdown",
   "id": "44f90868",
   "metadata": {
    "papermill": {
     "duration": 0.012871,
     "end_time": "2023-12-06T11:03:02.972211",
     "exception": false,
     "start_time": "2023-12-06T11:03:02.959340",
     "status": "completed"
    },
    "tags": []
   },
   "source": [
    "The dataset contains 83 rows, where each corresponds to a different candy bar.  There are 13 columns:\n",
    "- `'competitorname'` contains the name of the candy bar. \n",
    "- the next **9** columns (from `'chocolate'` to `'pluribus'`) describe the candy.  For instance, rows with chocolate candies have `\"Yes\"` in the `'chocolate'` column (and candies without chocolate have `\"No\"` in the same column).\n",
    "- `'sugarpercent'` provides some indication of the amount of sugar, where higher values signify higher sugar content.\n",
    "- `'pricepercent'` shows the price per unit, relative to the other candies in the dataset.\n",
    "- `'winpercent'` is calculated from the survey results; higher values indicate that the candy was more popular with survey respondents.\n",
    "\n",
    "Use the first five rows of the data to answer the questions below."
   ]
  },
  {
   "cell_type": "code",
   "execution_count": 6,
   "id": "688f9f33",
   "metadata": {
    "execution": {
     "iopub.execute_input": "2023-12-06T11:03:03.000204Z",
     "iopub.status.busy": "2023-12-06T11:03:02.999158Z",
     "iopub.status.idle": "2023-12-06T11:03:03.008067Z",
     "shell.execute_reply": "2023-12-06T11:03:03.006956Z"
    },
    "papermill": {
     "duration": 0.025071,
     "end_time": "2023-12-06T11:03:03.010247",
     "exception": false,
     "start_time": "2023-12-06T11:03:02.985176",
     "status": "completed"
    },
    "tags": []
   },
   "outputs": [
    {
     "data": {
      "application/javascript": [
       "parent.postMessage({\"jupyterEvent\": \"custom.exercise_interaction\", \"data\": {\"outcomeType\": 1, \"valueTowardsCompletion\": 0.3333333333333333, \"interactionType\": 1, \"questionType\": 1, \"questionId\": \"2_ReviewData\", \"learnToolsVersion\": \"0.3.4\", \"failureMessage\": \"\", \"exceptionClass\": \"\", \"trace\": \"\"}}, \"*\")"
      ],
      "text/plain": [
       "<IPython.core.display.Javascript object>"
      ]
     },
     "metadata": {},
     "output_type": "display_data"
    },
    {
     "data": {
      "text/markdown": [
       "<span style=\"color:#33cc33\">Correct</span>"
      ],
      "text/plain": [
       "Correct"
      ]
     },
     "metadata": {},
     "output_type": "display_data"
    }
   ],
   "source": [
    "# Fill in the line below: Which candy was more popular with survey respondents:\n",
    "# '3 Musketeers' or 'Almond Joy'?  (Please enclose your answer in single quotes.)\n",
    "more_popular = '3 Musketeers'\n",
    "\n",
    "# Fill in the line below: Which candy has higher sugar content: 'Air Heads'\n",
    "# or 'Baby Ruth'? (Please enclose your answer in single quotes.)\n",
    "more_sugar = 'Air Heads'\n",
    "\n",
    "# Check your answers\n",
    "step_2.check()"
   ]
  },
  {
   "cell_type": "code",
   "execution_count": 7,
   "id": "d157b045",
   "metadata": {
    "execution": {
     "iopub.execute_input": "2023-12-06T11:03:03.038090Z",
     "iopub.status.busy": "2023-12-06T11:03:03.037685Z",
     "iopub.status.idle": "2023-12-06T11:03:03.042246Z",
     "shell.execute_reply": "2023-12-06T11:03:03.041112Z"
    },
    "papermill": {
     "duration": 0.021199,
     "end_time": "2023-12-06T11:03:03.044470",
     "exception": false,
     "start_time": "2023-12-06T11:03:03.023271",
     "status": "completed"
    },
    "tags": []
   },
   "outputs": [],
   "source": [
    "# Lines below will give you a hint or solution code\n",
    "#step_2.hint()\n",
    "#step_2.solution()"
   ]
  },
  {
   "cell_type": "markdown",
   "id": "5b5bb2b7",
   "metadata": {
    "papermill": {
     "duration": 0.0125,
     "end_time": "2023-12-06T11:03:03.069931",
     "exception": false,
     "start_time": "2023-12-06T11:03:03.057431",
     "status": "completed"
    },
    "tags": []
   },
   "source": [
    "## Step 3: The role of sugar\n",
    "\n",
    "Do people tend to prefer candies with higher sugar content?  \n",
    "\n",
    "#### Part A\n",
    "\n",
    "Create a scatter plot that shows the relationship between `'sugarpercent'` (on the horizontal x-axis) and `'winpercent'` (on the vertical y-axis).  _Don't add a regression line just yet -- you'll do that in the next step!_"
   ]
  },
  {
   "cell_type": "code",
   "execution_count": 8,
   "id": "617532d2",
   "metadata": {
    "execution": {
     "iopub.execute_input": "2023-12-06T11:03:03.097372Z",
     "iopub.status.busy": "2023-12-06T11:03:03.096953Z",
     "iopub.status.idle": "2023-12-06T11:03:03.454739Z",
     "shell.execute_reply": "2023-12-06T11:03:03.453610Z"
    },
    "papermill": {
     "duration": 0.37464,
     "end_time": "2023-12-06T11:03:03.457455",
     "exception": false,
     "start_time": "2023-12-06T11:03:03.082815",
     "status": "completed"
    },
    "tags": []
   },
   "outputs": [
    {
     "data": {
      "application/javascript": [
       "parent.postMessage({\"jupyterEvent\": \"custom.exercise_interaction\", \"data\": {\"outcomeType\": 1, \"valueTowardsCompletion\": 0.3333333333333333, \"interactionType\": 1, \"questionType\": 2, \"questionId\": \"3.1_PlotBlueScatter\", \"learnToolsVersion\": \"0.3.4\", \"failureMessage\": \"\", \"exceptionClass\": \"\", \"trace\": \"\"}}, \"*\")"
      ],
      "text/plain": [
       "<IPython.core.display.Javascript object>"
      ]
     },
     "metadata": {},
     "output_type": "display_data"
    },
    {
     "data": {
      "text/markdown": [
       "<span style=\"color:#33cc33\">Correct</span>"
      ],
      "text/plain": [
       "Correct"
      ]
     },
     "metadata": {},
     "output_type": "display_data"
    },
    {
     "data": {
      "image/png": "[encoded data removed]",
      "text/plain": [
       "<Figure size 640x480 with 1 Axes>"
      ]
     },
     "metadata": {},
     "output_type": "display_data"
    }
   ],
   "source": [
    "# Scatter plot showing the relationship between 'sugarpercent' and 'winpercent'\n",
    "sns.scatterplot(x=candy_data['sugarpercent'], y=candy_data['winpercent']) # Your code here\n",
    "\n",
    "# Check your answer\n",
    "step_3.a.check()"
   ]
  },
  {
   "cell_type": "code",
   "execution_count": 9,
   "id": "7075ed42",
   "metadata": {
    "execution": {
     "iopub.execute_input": "2023-12-06T11:03:03.487430Z",
     "iopub.status.busy": "2023-12-06T11:03:03.486126Z",
     "iopub.status.idle": "2023-12-06T11:03:03.491292Z",
     "shell.execute_reply": "2023-12-06T11:03:03.490515Z"
    },
    "papermill": {
     "duration": 0.022356,
     "end_time": "2023-12-06T11:03:03.493453",
     "exception": false,
     "start_time": "2023-12-06T11:03:03.471097",
     "status": "completed"
    },
    "tags": []
   },
   "outputs": [],
   "source": [
    "# Lines below will give you a hint or solution code\n",
    "#step_3.a.hint()\n",
    "#step_3.a.solution_plot()"
   ]
  },
  {
   "cell_type": "markdown",
   "id": "4032d092",
   "metadata": {
    "papermill": {
     "duration": 0.013459,
     "end_time": "2023-12-06T11:03:03.521781",
     "exception": false,
     "start_time": "2023-12-06T11:03:03.508322",
     "status": "completed"
    },
    "tags": []
   },
   "source": [
    "#### Part B\n",
    "\n",
    "Does the scatter plot show a **strong** correlation between the two variables?  If so, are candies with more sugar relatively more or less popular with the survey respondents?"
   ]
  },
  {
   "cell_type": "code",
   "execution_count": 10,
   "id": "87c969a6",
   "metadata": {
    "execution": {
     "iopub.execute_input": "2023-12-06T11:03:03.550794Z",
     "iopub.status.busy": "2023-12-06T11:03:03.550395Z",
     "iopub.status.idle": "2023-12-06T11:03:03.554722Z",
     "shell.execute_reply": "2023-12-06T11:03:03.553540Z"
    },
    "papermill": {
     "duration": 0.021486,
     "end_time": "2023-12-06T11:03:03.556982",
     "exception": false,
     "start_time": "2023-12-06T11:03:03.535496",
     "status": "completed"
    },
    "tags": []
   },
   "outputs": [],
   "source": [
    "#step_3.b.hint()"
   ]
  },
  {
   "cell_type": "code",
   "execution_count": 11,
   "id": "b05d10de",
   "metadata": {
    "execution": {
     "iopub.execute_input": "2023-12-06T11:03:03.586267Z",
     "iopub.status.busy": "2023-12-06T11:03:03.585894Z",
     "iopub.status.idle": "2023-12-06T11:03:03.593471Z",
     "shell.execute_reply": "2023-12-06T11:03:03.592709Z"
    },
    "papermill": {
     "duration": 0.025302,
     "end_time": "2023-12-06T11:03:03.596029",
     "exception": false,
     "start_time": "2023-12-06T11:03:03.570727",
     "status": "completed"
    },
    "tags": []
   },
   "outputs": [
    {
     "data": {
      "application/javascript": [
       "parent.postMessage({\"jupyterEvent\": \"custom.exercise_interaction\", \"data\": {\"interactionType\": 3, \"questionType\": 4, \"questionId\": \"3.2_ThinkBlueScatter\", \"learnToolsVersion\": \"0.3.4\", \"valueTowardsCompletion\": 0.0, \"failureMessage\": \"\", \"exceptionClass\": \"\", \"trace\": \"\", \"outcomeType\": 4}}, \"*\")"
      ],
      "text/plain": [
       "<IPython.core.display.Javascript object>"
      ]
     },
     "metadata": {},
     "output_type": "display_data"
    },
    {
     "data": {
      "text/markdown": [
       "<span style=\"color:#33cc99\">Solution:</span> The scatter plot does not show a strong correlation between the two variables. Since there is no clear relationship between the two variables, this tells us that sugar content does not play a strong role in candy popularity."
      ],
      "text/plain": [
       "Solution: The scatter plot does not show a strong correlation between the two variables. Since there is no clear relationship between the two variables, this tells us that sugar content does not play a strong role in candy popularity."
      ]
     },
     "metadata": {},
     "output_type": "display_data"
    }
   ],
   "source": [
    "# Check your answer (Run this code cell to receive credit!)\n",
    "step_3.b.solution()"
   ]
  },
  {
   "cell_type": "markdown",
   "id": "6efe3623",
   "metadata": {
    "papermill": {
     "duration": 0.013839,
     "end_time": "2023-12-06T11:03:03.624491",
     "exception": false,
     "start_time": "2023-12-06T11:03:03.610652",
     "status": "completed"
    },
    "tags": []
   },
   "source": [
    "## Step 4: Take a closer look\n",
    "\n",
    "#### Part A\n",
    "\n",
    "Create the same scatter plot you created in **Step 3**, but now with a regression line!"
   ]
  },
  {
   "cell_type": "code",
   "execution_count": 12,
   "id": "7f3d9151",
   "metadata": {
    "execution": {
     "iopub.execute_input": "2023-12-06T11:03:03.655286Z",
     "iopub.status.busy": "2023-12-06T11:03:03.654357Z",
     "iopub.status.idle": "2023-12-06T11:03:04.089688Z",
     "shell.execute_reply": "2023-12-06T11:03:04.088441Z"
    },
    "papermill": {
     "duration": 0.453547,
     "end_time": "2023-12-06T11:03:04.092438",
     "exception": false,
     "start_time": "2023-12-06T11:03:03.638891",
     "status": "completed"
    },
    "tags": []
   },
   "outputs": [
    {
     "data": {
      "application/javascript": [
       "parent.postMessage({\"jupyterEvent\": \"custom.exercise_interaction\", \"data\": {\"outcomeType\": 1, \"valueTowardsCompletion\": 0.3333333333333333, \"interactionType\": 1, \"questionType\": 2, \"questionId\": \"4.1_PlotBlueReg\", \"learnToolsVersion\": \"0.3.4\", \"failureMessage\": \"\", \"exceptionClass\": \"\", \"trace\": \"\"}}, \"*\")"
      ],
      "text/plain": [
       "<IPython.core.display.Javascript object>"
      ]
     },
     "metadata": {},
     "output_type": "display_data"
    },
    {
     "data": {
      "text/markdown": [
       "<span style=\"color:#33cc33\">Correct</span>"
      ],
      "text/plain": [
       "Correct"
      ]
     },
     "metadata": {},
     "output_type": "display_data"
    },
    {
     "data": {
      "image/png": "[encoded data removed]",
      "text/plain": [
       "<Figure size 640x480 with 1 Axes>"
      ]
     },
     "metadata": {},
     "output_type": "display_data"
    }
   ],
   "source": [
    "# Scatter plot w/ regression line showing the relationship between 'sugarpercent' and 'winpercent'\n",
    "sns.regplot(x=candy_data['sugarpercent'], y=candy_data['winpercent']) # Your code here\n",
    "\n",
    "# Check your answer\n",
    "step_4.a.check()"
   ]
  },
  {
   "cell_type": "code",
   "execution_count": 13,
   "id": "1c7d90c8",
   "metadata": {
    "execution": {
     "iopub.execute_input": "2023-12-06T11:03:04.124872Z",
     "iopub.status.busy": "2023-12-06T11:03:04.124440Z",
     "iopub.status.idle": "2023-12-06T11:03:04.129528Z",
     "shell.execute_reply": "2023-12-06T11:03:04.128201Z"
    },
    "papermill": {
     "duration": 0.024091,
     "end_time": "2023-12-06T11:03:04.132142",
     "exception": false,
     "start_time": "2023-12-06T11:03:04.108051",
     "status": "completed"
    },
    "tags": []
   },
   "outputs": [],
   "source": [
    "# Lines below will give you a hint or solution code\n",
    "#step_4.a.hint()\n",
    "#step_4.a.solution_plot()"
   ]
  },
  {
   "cell_type": "markdown",
   "id": "9daa1640",
   "metadata": {
    "papermill": {
     "duration": 0.014917,
     "end_time": "2023-12-06T11:03:04.162644",
     "exception": false,
     "start_time": "2023-12-06T11:03:04.147727",
     "status": "completed"
    },
    "tags": []
   },
   "source": [
    "#### Part B\n",
    "\n",
    "According to the plot above, is there a **slight** correlation between `'winpercent'` and `'sugarpercent'`?  What does this tell you about the candy that people tend to prefer?"
   ]
  },
  {
   "cell_type": "code",
   "execution_count": 14,
   "id": "46702952",
   "metadata": {
    "execution": {
     "iopub.execute_input": "2023-12-06T11:03:04.194450Z",
     "iopub.status.busy": "2023-12-06T11:03:04.194023Z",
     "iopub.status.idle": "2023-12-06T11:03:04.199225Z",
     "shell.execute_reply": "2023-12-06T11:03:04.198102Z"
    },
    "papermill": {
     "duration": 0.023914,
     "end_time": "2023-12-06T11:03:04.201683",
     "exception": false,
     "start_time": "2023-12-06T11:03:04.177769",
     "status": "completed"
    },
    "tags": []
   },
   "outputs": [],
   "source": [
    "#step_4.b.hint()"
   ]
  },
  {
   "cell_type": "code",
   "execution_count": 15,
   "id": "4fad92f2",
   "metadata": {
    "execution": {
     "iopub.execute_input": "2023-12-06T11:03:04.297406Z",
     "iopub.status.busy": "2023-12-06T11:03:04.296667Z",
     "iopub.status.idle": "2023-12-06T11:03:04.306517Z",
     "shell.execute_reply": "2023-12-06T11:03:04.305280Z"
    },
    "papermill": {
     "duration": 0.029286,
     "end_time": "2023-12-06T11:03:04.309014",
     "exception": false,
     "start_time": "2023-12-06T11:03:04.279728",
     "status": "completed"
    },
    "tags": []
   },
   "outputs": [
    {
     "data": {
      "application/javascript": [
       "parent.postMessage({\"jupyterEvent\": \"custom.exercise_interaction\", \"data\": {\"interactionType\": 3, \"questionType\": 4, \"questionId\": \"4.2_ThinkBlueReg\", \"learnToolsVersion\": \"0.3.4\", \"valueTowardsCompletion\": 0.0, \"failureMessage\": \"\", \"exceptionClass\": \"\", \"trace\": \"\", \"outcomeType\": 4}}, \"*\")"
      ],
      "text/plain": [
       "<IPython.core.display.Javascript object>"
      ]
     },
     "metadata": {},
     "output_type": "display_data"
    },
    {
     "data": {
      "text/markdown": [
       "<span style=\"color:#33cc99\">Solution:</span> Since the regression line has a slightly positive slope, this tells us that there is a slightly positive correlation between `'winpercent'` and `'sugarpercent'`. Thus, people have a slight preference for candies containing relatively more sugar."
      ],
      "text/plain": [
       "Solution: Since the regression line has a slightly positive slope, this tells us that there is a slightly positive correlation between `'winpercent'` and `'sugarpercent'`. Thus, people have a slight preference for candies containing relatively more sugar."
      ]
     },
     "metadata": {},
     "output_type": "display_data"
    }
   ],
   "source": [
    "# Check your answer (Run this code cell to receive credit!)\n",
    "step_4.b.solution()"
   ]
  },
  {
   "cell_type": "markdown",
   "id": "d0ebbac8",
   "metadata": {
    "papermill": {
     "duration": 0.015347,
     "end_time": "2023-12-06T11:03:04.339845",
     "exception": false,
     "start_time": "2023-12-06T11:03:04.324498",
     "status": "completed"
    },
    "tags": []
   },
   "source": [
    "## Step 5: Chocolate!\n",
    "\n",
    "In the code cell below, create a scatter plot to show the relationship between `'pricepercent'` (on the horizontal x-axis) and `'winpercent'` (on the vertical y-axis). Use the `'chocolate'` column to color-code the points.  _Don't add any regression lines just yet -- you'll do that in the next step!_"
   ]
  },
  {
   "cell_type": "code",
   "execution_count": 16,
   "id": "655ded3a",
   "metadata": {
    "execution": {
     "iopub.execute_input": "2023-12-06T11:03:04.372423Z",
     "iopub.status.busy": "2023-12-06T11:03:04.372055Z",
     "iopub.status.idle": "2023-12-06T11:03:04.780218Z",
     "shell.execute_reply": "2023-12-06T11:03:04.779026Z"
    },
    "papermill": {
     "duration": 0.428007,
     "end_time": "2023-12-06T11:03:04.783214",
     "exception": false,
     "start_time": "2023-12-06T11:03:04.355207",
     "status": "completed"
    },
    "tags": []
   },
   "outputs": [
    {
     "data": {
      "application/javascript": [
       "parent.postMessage({\"jupyterEvent\": \"custom.exercise_interaction\", \"data\": {\"outcomeType\": 1, \"valueTowardsCompletion\": 0.3333333333333333, \"interactionType\": 1, \"questionType\": 2, \"questionId\": \"5_ColorScatter\", \"learnToolsVersion\": \"0.3.4\", \"failureMessage\": \"\", \"exceptionClass\": \"\", \"trace\": \"\"}}, \"*\")"
      ],
      "text/plain": [
       "<IPython.core.display.Javascript object>"
      ]
     },
     "metadata": {},
     "output_type": "display_data"
    },
    {
     "data": {
      "text/markdown": [
       "<span style=\"color:#33cc33\">Correct</span>"
      ],
      "text/plain": [
       "Correct"
      ]
     },
     "metadata": {},
     "output_type": "display_data"
    },
    {
     "data": {
      "image/png": "[encoded data removed]",
      "text/plain": [
       "<Figure size 640x480 with 1 Axes>"
      ]
     },
     "metadata": {},
     "output_type": "display_data"
    }
   ],
   "source": [
    "# Scatter plot showing the relationship between 'pricepercent', 'winpercent', and 'chocolate'\n",
    "sns.scatterplot(x=candy_data['pricepercent'], y=candy_data['winpercent'], hue=candy_data['chocolate']) # Your code here\n",
    "\n",
    "# Check your answer\n",
    "step_5.check()"
   ]
  },
  {
   "cell_type": "code",
   "execution_count": 17,
   "id": "a5bd8d5a",
   "metadata": {
    "execution": {
     "iopub.execute_input": "2023-12-06T11:03:04.819412Z",
     "iopub.status.busy": "2023-12-06T11:03:04.818169Z",
     "iopub.status.idle": "2023-12-06T11:03:04.823230Z",
     "shell.execute_reply": "2023-12-06T11:03:04.822180Z"
    },
    "papermill": {
     "duration": 0.025785,
     "end_time": "2023-12-06T11:03:04.825666",
     "exception": false,
     "start_time": "2023-12-06T11:03:04.799881",
     "status": "completed"
    },
    "tags": []
   },
   "outputs": [],
   "source": [
    "# Lines below will give you a hint or solution code\n",
    "#step_5.hint()\n",
    "#step_5.solution_plot()"
   ]
  },
  {
   "cell_type": "markdown",
   "id": "30a38adc",
   "metadata": {
    "papermill": {
     "duration": 0.016301,
     "end_time": "2023-12-06T11:03:04.858947",
     "exception": false,
     "start_time": "2023-12-06T11:03:04.842646",
     "status": "completed"
    },
    "tags": []
   },
   "source": [
    "Can you see any interesting patterns in the scatter plot?  We'll investigate this plot further  by adding regression lines in the next step!\n",
    "\n",
    "## Step 6: Investigate chocolate\n",
    "\n",
    "#### Part A\n",
    "\n",
    "Create the same scatter plot you created in **Step 5**, but now with two regression lines, corresponding to (1) chocolate candies and (2) candies without chocolate."
   ]
  },
  {
   "cell_type": "code",
   "execution_count": 18,
   "id": "e2fb884a",
   "metadata": {
    "execution": {
     "iopub.execute_input": "2023-12-06T11:03:04.893424Z",
     "iopub.status.busy": "2023-12-06T11:03:04.893010Z",
     "iopub.status.idle": "2023-12-06T11:03:05.793753Z",
     "shell.execute_reply": "2023-12-06T11:03:05.792940Z"
    },
    "papermill": {
     "duration": 0.921073,
     "end_time": "2023-12-06T11:03:05.796458",
     "exception": false,
     "start_time": "2023-12-06T11:03:04.875385",
     "status": "completed"
    },
    "tags": []
   },
   "outputs": [
    {
     "data": {
      "application/javascript": [
       "parent.postMessage({\"jupyterEvent\": \"custom.exercise_interaction\", \"data\": {\"outcomeType\": 1, \"valueTowardsCompletion\": 0.3333333333333333, \"interactionType\": 1, \"questionType\": 2, \"questionId\": \"6.1_PlotColorReg\", \"learnToolsVersion\": \"0.3.4\", \"failureMessage\": \"\", \"exceptionClass\": \"\", \"trace\": \"\"}}, \"*\")"
      ],
      "text/plain": [
       "<IPython.core.display.Javascript object>"
      ]
     },
     "metadata": {},
     "output_type": "display_data"
    },
    {
     "data": {
      "text/markdown": [
       "<span style=\"color:#33cc33\">Correct</span>"
      ],
      "text/plain": [
       "Correct"
      ]
     },
     "metadata": {},
     "output_type": "display_data"
    },
    {
     "data": {
      "image/png": "[encoded data removed]",
      "text/plain": [
       "<Figure size 578.611x500 with 1 Axes>"
      ]
     },
     "metadata": {},
     "output_type": "display_data"
    }
   ],
   "source": [
    "# Color-coded scatter plot w/ regression lines\n",
    "sns.lmplot(x=\"pricepercent\", y=\"winpercent\", hue=\"chocolate\", data=candy_data) # Your code here\n",
    "\n",
    "# Check your answer\n",
    "step_6.a.check()"
   ]
  },
  {
   "cell_type": "code",
   "execution_count": 19,
   "id": "22b9e565",
   "metadata": {
    "execution": {
     "iopub.execute_input": "2023-12-06T11:03:05.833493Z",
     "iopub.status.busy": "2023-12-06T11:03:05.832421Z",
     "iopub.status.idle": "2023-12-06T11:03:05.837170Z",
     "shell.execute_reply": "2023-12-06T11:03:05.836294Z"
    },
    "papermill": {
     "duration": 0.025519,
     "end_time": "2023-12-06T11:03:05.839366",
     "exception": false,
     "start_time": "2023-12-06T11:03:05.813847",
     "status": "completed"
    },
    "tags": []
   },
   "outputs": [],
   "source": [
    "# Lines below will give you a hint or solution code\n",
    "#step_6.a.hint()\n",
    "#step_6.a.solution_plot()"
   ]
  },
  {
   "cell_type": "markdown",
   "id": "e1b19af3",
   "metadata": {
    "papermill": {
     "duration": 0.017168,
     "end_time": "2023-12-06T11:03:05.874259",
     "exception": false,
     "start_time": "2023-12-06T11:03:05.857091",
     "status": "completed"
    },
    "tags": []
   },
   "source": [
    "#### Part B\n",
    "\n",
    "Using the regression lines, what conclusions can you draw about the effects of chocolate and price on candy popularity?"
   ]
  },
  {
   "cell_type": "code",
   "execution_count": 20,
   "id": "e8f7865c",
   "metadata": {
    "execution": {
     "iopub.execute_input": "2023-12-06T11:03:05.911744Z",
     "iopub.status.busy": "2023-12-06T11:03:05.910599Z",
     "iopub.status.idle": "2023-12-06T11:03:05.915660Z",
     "shell.execute_reply": "2023-12-06T11:03:05.914600Z"
    },
    "papermill": {
     "duration": 0.026214,
     "end_time": "2023-12-06T11:03:05.917927",
     "exception": false,
     "start_time": "2023-12-06T11:03:05.891713",
     "status": "completed"
    },
    "tags": []
   },
   "outputs": [],
   "source": [
    "#step_6.b.hint()"
   ]
  },
  {
   "cell_type": "code",
   "execution_count": 21,
   "id": "31e13e39",
   "metadata": {
    "execution": {
     "iopub.execute_input": "2023-12-06T11:03:05.956264Z",
     "iopub.status.busy": "2023-12-06T11:03:05.955451Z",
     "iopub.status.idle": "2023-12-06T11:03:05.964157Z",
     "shell.execute_reply": "2023-12-06T11:03:05.963082Z"
    },
    "papermill": {
     "duration": 0.030756,
     "end_time": "2023-12-06T11:03:05.966724",
     "exception": false,
     "start_time": "2023-12-06T11:03:05.935968",
     "status": "completed"
    },
    "tags": []
   },
   "outputs": [
    {
     "data": {
      "application/javascript": [
       "parent.postMessage({\"jupyterEvent\": \"custom.exercise_interaction\", \"data\": {\"interactionType\": 3, \"questionType\": 4, \"questionId\": \"6.2_ThinkColorReg\", \"learnToolsVersion\": \"0.3.4\", \"valueTowardsCompletion\": 0.0, \"failureMessage\": \"\", \"exceptionClass\": \"\", \"trace\": \"\", \"outcomeType\": 4}}, \"*\")"
      ],
      "text/plain": [
       "<IPython.core.display.Javascript object>"
      ]
     },
     "metadata": {},
     "output_type": "display_data"
    },
    {
     "data": {
      "text/markdown": [
       "<span style=\"color:#33cc99\">Solution:</span> We'll begin with the regression line for chocolate candies. Since this line has a slightly positive slope, we can say that more expensive chocolate candies tend to be more popular (than relatively cheaper chocolate candies).  Likewise, since the regression line for candies without chocolate has a negative slope, we can say that if candies don't contain chocolate, they tend to be more popular when they are cheaper.  One important note, however, is that the dataset is quite small -- so we shouldn't invest too much trust in these patterns!  To inspire more confidence in the results, we should add more candies to the dataset."
      ],
      "text/plain": [
       "Solution: We'll begin with the regression line for chocolate candies. Since this line has a slightly positive slope, we can say that more expensive chocolate candies tend to be more popular (than relatively cheaper chocolate candies).  Likewise, since the regression line for candies without chocolate has a negative slope, we can say that if candies don't contain chocolate, they tend to be more popular when they are cheaper.  One important note, however, is that the dataset is quite small -- so we shouldn't invest too much trust in these patterns!  To inspire more confidence in the results, we should add more candies to the dataset."
      ]
     },
     "metadata": {},
     "output_type": "display_data"
    }
   ],
   "source": [
    "# Check your answer (Run this code cell to receive credit!)\n",
    "step_6.b.solution()"
   ]
  },
  {
   "cell_type": "markdown",
   "id": "86af0b80",
   "metadata": {
    "papermill": {
     "duration": 0.017634,
     "end_time": "2023-12-06T11:03:06.002156",
     "exception": false,
     "start_time": "2023-12-06T11:03:05.984522",
     "status": "completed"
    },
    "tags": []
   },
   "source": [
    "## Step 7: Everybody loves chocolate.\n",
    "\n",
    "#### Part A\n",
    "\n",
    "Create a categorical scatter plot to highlight the relationship between `'chocolate'` and `'winpercent'`.  Put `'chocolate'` on the (horizontal) x-axis, and `'winpercent'` on the (vertical) y-axis."
   ]
  },
  {
   "cell_type": "code",
   "execution_count": 22,
   "id": "3cef398c",
   "metadata": {
    "execution": {
     "iopub.execute_input": "2023-12-06T11:03:06.039847Z",
     "iopub.status.busy": "2023-12-06T11:03:06.039446Z",
     "iopub.status.idle": "2023-12-06T11:03:06.560084Z",
     "shell.execute_reply": "2023-12-06T11:03:06.558949Z"
    },
    "papermill": {
     "duration": 0.544723,
     "end_time": "2023-12-06T11:03:06.564914",
     "exception": false,
     "start_time": "2023-12-06T11:03:06.020191",
     "status": "completed"
    },
    "tags": []
   },
   "outputs": [
    {
     "data": {
      "application/javascript": [
       "parent.postMessage({\"jupyterEvent\": \"custom.exercise_interaction\", \"data\": {\"outcomeType\": 1, \"valueTowardsCompletion\": 0.3333333333333333, \"interactionType\": 1, \"questionType\": 2, \"questionId\": \"7.1_PlotSwarm\", \"learnToolsVersion\": \"0.3.4\", \"failureMessage\": \"\", \"exceptionClass\": \"\", \"trace\": \"\"}}, \"*\")"
      ],
      "text/plain": [
       "<IPython.core.display.Javascript object>"
      ]
     },
     "metadata": {},
     "output_type": "display_data"
    },
    {
     "data": {
      "text/markdown": [
       "<span style=\"color:#33cc33\">Correct</span>"
      ],
      "text/plain": [
       "Correct"
      ]
     },
     "metadata": {},
     "output_type": "display_data"
    },
    {
     "data": {
      "image/png": "[encoded data removed]",
      "text/plain": [
       "<Figure size 640x480 with 1 Axes>"
      ]
     },
     "metadata": {},
     "output_type": "display_data"
    }
   ],
   "source": [
    "# Scatter plot showing the relationship between 'chocolate' and 'winpercent'\n",
    "sns.swarmplot(x=candy_data['chocolate'], y=candy_data['winpercent']) # Your code here\n",
    "\n",
    "# Check your answer\n",
    "step_7.a.check()"
   ]
  },
  {
   "cell_type": "code",
   "execution_count": 23,
   "id": "9d352d0b",
   "metadata": {
    "execution": {
     "iopub.execute_input": "2023-12-06T11:03:06.624696Z",
     "iopub.status.busy": "2023-12-06T11:03:06.623441Z",
     "iopub.status.idle": "2023-12-06T11:03:06.628027Z",
     "shell.execute_reply": "2023-12-06T11:03:06.627217Z"
    },
    "papermill": {
     "duration": 0.026949,
     "end_time": "2023-12-06T11:03:06.630018",
     "exception": false,
     "start_time": "2023-12-06T11:03:06.603069",
     "status": "completed"
    },
    "tags": []
   },
   "outputs": [],
   "source": [
    "# Lines below will give you a hint or solution code\n",
    "#step_7.a.hint()\n",
    "#step_7.a.solution_plot()"
   ]
  },
  {
   "cell_type": "markdown",
   "id": "d98f544b",
   "metadata": {
    "papermill": {
     "duration": 0.018268,
     "end_time": "2023-12-06T11:03:06.666766",
     "exception": false,
     "start_time": "2023-12-06T11:03:06.648498",
     "status": "completed"
    },
    "tags": []
   },
   "source": [
    "#### Part B\n",
    "\n",
    "You decide to dedicate a section of your report to the fact that chocolate candies tend to be more popular than candies without chocolate.  Which plot is more appropriate to tell this story: the plot from **Step 6**, or the plot from **Step 7**?"
   ]
  },
  {
   "cell_type": "code",
   "execution_count": 24,
   "id": "394a830a",
   "metadata": {
    "execution": {
     "iopub.execute_input": "2023-12-06T11:03:06.717780Z",
     "iopub.status.busy": "2023-12-06T11:03:06.717087Z",
     "iopub.status.idle": "2023-12-06T11:03:06.722985Z",
     "shell.execute_reply": "2023-12-06T11:03:06.721749Z"
    },
    "papermill": {
     "duration": 0.035141,
     "end_time": "2023-12-06T11:03:06.725353",
     "exception": false,
     "start_time": "2023-12-06T11:03:06.690212",
     "status": "completed"
    },
    "tags": []
   },
   "outputs": [],
   "source": [
    "#step_7.b.hint()"
   ]
  },
  {
   "cell_type": "code",
   "execution_count": 25,
   "id": "95fb2222",
   "metadata": {
    "execution": {
     "iopub.execute_input": "2023-12-06T11:03:06.772581Z",
     "iopub.status.busy": "2023-12-06T11:03:06.771389Z",
     "iopub.status.idle": "2023-12-06T11:03:06.780899Z",
     "shell.execute_reply": "2023-12-06T11:03:06.780141Z"
    },
    "papermill": {
     "duration": 0.033351,
     "end_time": "2023-12-06T11:03:06.783026",
     "exception": false,
     "start_time": "2023-12-06T11:03:06.749675",
     "status": "completed"
    },
    "tags": []
   },
   "outputs": [
    {
     "data": {
      "application/javascript": [
       "parent.postMessage({\"jupyterEvent\": \"custom.exercise_interaction\", \"data\": {\"interactionType\": 3, \"questionType\": 4, \"questionId\": \"7.2_ThinkSwarm\", \"learnToolsVersion\": \"0.3.4\", \"valueTowardsCompletion\": 0.0, \"failureMessage\": \"\", \"exceptionClass\": \"\", \"trace\": \"\", \"outcomeType\": 4}}, \"*\")"
      ],
      "text/plain": [
       "<IPython.core.display.Javascript object>"
      ]
     },
     "metadata": {},
     "output_type": "display_data"
    },
    {
     "data": {
      "text/markdown": [
       "<span style=\"color:#33cc99\">Solution:</span> In this case, the categorical scatter plot from **Step 7** is the more appropriate plot. While both plots tell the desired story, the plot from **Step 6** conveys far more information that could distract from the main point."
      ],
      "text/plain": [
       "Solution: In this case, the categorical scatter plot from **Step 7** is the more appropriate plot. While both plots tell the desired story, the plot from **Step 6** conveys far more information that could distract from the main point."
      ]
     },
     "metadata": {},
     "output_type": "display_data"
    }
   ],
   "source": [
    "# Check your answer (Run this code cell to receive credit!)\n",
    "step_7.b.solution()"
   ]
  },
  {
   "cell_type": "markdown",
   "id": "ed6c002a",
   "metadata": {
    "papermill": {
     "duration": 0.018537,
     "end_time": "2023-12-06T11:03:06.820355",
     "exception": false,
     "start_time": "2023-12-06T11:03:06.801818",
     "status": "completed"
    },
    "tags": []
   },
   "source": [
    "## Keep going\n",
    "\n",
    "Explore **[histograms and density plots](https://www.kaggle.com/alexisbcook/distributions)**."
   ]
  },
  {
   "cell_type": "markdown",
   "id": "c6ec59e9",
   "metadata": {
    "papermill": {
     "duration": 0.021862,
     "end_time": "2023-12-06T11:03:06.864181",
     "exception": false,
     "start_time": "2023-12-06T11:03:06.842319",
     "status": "completed"
    },
    "tags": []
   },
   "source": [
    "---\n",
    "\n",
    "\n",
    "\n",
    "\n",
    "*Have questions or comments? Visit the [course discussion forum](https://www.kaggle.com/learn/data-visualization/discussion) to chat with other learners.*"
   ]
  }
 ],
 "metadata": {
  "kaggle": {
   "accelerator": "none",
   "dataSources": [
    {
     "datasetId": 116573,
     "sourceId": 3551030,
     "sourceType": "datasetVersion"
    }
   ],
   "isGpuEnabled": false,
   "isInternetEnabled": false,
   "language": "python",
   "sourceType": "notebook"
  },
  "kernelspec": {
   "display_name": "Python 3",
   "language": "python",
   "name": "python3"
  },
  "language_info": {
   "codemirror_mode": {
    "name": "ipython",
    "version": 3
   },
   "file_extension": ".py",
   "mimetype": "text/x-python",
   "name": "python",
   "nbconvert_exporter": "python",
   "pygments_lexer": "ipython3",
   "version": "3.10.12"
  },
  "papermill": {
   "default_parameters": {},
   "duration": 10.353682,
   "end_time": "2023-12-06T11:03:07.505989",
   "environment_variables": {},
   "exception": null,
   "input_path": "__notebook__.ipynb",
   "output_path": "__notebook__.ipynb",
   "parameters": {},
   "start_time": "2023-12-06T11:02:57.152307",
   "version": "2.4.0"
  }
 },
 "nbformat": 4,
 "nbformat_minor": 5
}
