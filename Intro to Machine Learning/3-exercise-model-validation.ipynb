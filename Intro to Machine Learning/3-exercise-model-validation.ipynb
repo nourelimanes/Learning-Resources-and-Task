{
 "cells": [
  {
   "cell_type": "markdown",
   "id": "586ee0d7",
   "metadata": {
    "papermill": {
     "duration": 0.008503,
     "end_time": "2023-12-09T13:03:30.925432",
     "exception": false,
     "start_time": "2023-12-09T13:03:30.916929",
     "status": "completed"
    },
    "tags": []
   },
   "source": [
    "**This notebook is an exercise in the [Introduction to Machine Learning](https://www.kaggle.com/learn/intro-to-machine-learning) course.  You can reference the tutorial at [this link](https://www.kaggle.com/dansbecker/model-validation).**\n",
    "\n",
    "---\n"
   ]
  },
  {
   "cell_type": "markdown",
   "id": "9c8d9d00",
   "metadata": {
    "papermill": {
     "duration": 0.007168,
     "end_time": "2023-12-09T13:03:30.939855",
     "exception": false,
     "start_time": "2023-12-09T13:03:30.932687",
     "status": "completed"
    },
    "tags": []
   },
   "source": [
    "## Recap\n",
    "You've built a model. In this exercise you will test how good your model is.\n",
    "\n",
    "Run the cell below to set up your coding environment where the previous exercise left off."
   ]
  },
  {
   "cell_type": "code",
   "execution_count": 1,
   "id": "8f3e661e",
   "metadata": {
    "execution": {
     "iopub.execute_input": "2023-12-09T13:03:30.957231Z",
     "iopub.status.busy": "2023-12-09T13:03:30.956387Z",
     "iopub.status.idle": "2023-12-09T13:03:33.756618Z",
     "shell.execute_reply": "2023-12-09T13:03:33.755089Z"
    },
    "papermill": {
     "duration": 2.813189,
     "end_time": "2023-12-09T13:03:33.760053",
     "exception": false,
     "start_time": "2023-12-09T13:03:30.946864",
     "status": "completed"
    },
    "tags": []
   },
   "outputs": [
    {
     "name": "stdout",
     "output_type": "stream",
     "text": [
      "First in-sample predictions: [208500. 181500. 223500. 140000. 250000.]\n",
      "Actual target values for those homes: [208500, 181500, 223500, 140000, 250000]\n",
      "Setup Complete\n"
     ]
    }
   ],
   "source": [
    "# Code you have previously used to load data\n",
    "import pandas as pd\n",
    "from sklearn.tree import DecisionTreeRegressor\n",
    "\n",
    "# Path of the file to read\n",
    "iowa_file_path = '../input/home-data-for-ml-course/train.csv'\n",
    "\n",
    "home_data = pd.read_csv(iowa_file_path)\n",
    "y = home_data.SalePrice\n",
    "feature_columns = ['LotArea', 'YearBuilt', '1stFlrSF', '2ndFlrSF', 'FullBath', 'BedroomAbvGr', 'TotRmsAbvGrd']\n",
    "X = home_data[feature_columns]\n",
    "\n",
    "# Specify Model\n",
    "iowa_model = DecisionTreeRegressor()\n",
    "# Fit Model\n",
    "iowa_model.fit(X, y)\n",
    "\n",
    "print(\"First in-sample predictions:\", iowa_model.predict(X.head()))\n",
    "print(\"Actual target values for those homes:\", y.head().tolist())\n",
    "\n",
    "# Set up code checking\n",
    "from learntools.core import binder\n",
    "binder.bind(globals())\n",
    "from learntools.machine_learning.ex4 import *\n",
    "print(\"Setup Complete\")"
   ]
  },
  {
   "cell_type": "markdown",
   "id": "7feaf232",
   "metadata": {
    "papermill": {
     "duration": 0.006345,
     "end_time": "2023-12-09T13:03:33.773230",
     "exception": false,
     "start_time": "2023-12-09T13:03:33.766885",
     "status": "completed"
    },
    "tags": []
   },
   "source": [
    "# Exercises\n",
    "\n",
    "## Step 1: Split Your Data\n",
    "Use the `train_test_split` function to split up your data.\n",
    "\n",
    "Give it the argument `random_state=1` so the `check` functions know what to expect when verifying your code.\n",
    "\n",
    "Recall, your features are loaded in the DataFrame **X** and your target is loaded in **y**.\n"
   ]
  },
  {
   "cell_type": "code",
   "execution_count": 2,
   "id": "3db791e6",
   "metadata": {
    "execution": {
     "iopub.execute_input": "2023-12-09T13:03:33.789499Z",
     "iopub.status.busy": "2023-12-09T13:03:33.788585Z",
     "iopub.status.idle": "2023-12-09T13:03:33.804885Z",
     "shell.execute_reply": "2023-12-09T13:03:33.803664Z"
    },
    "papermill": {
     "duration": 0.028048,
     "end_time": "2023-12-09T13:03:33.807881",
     "exception": false,
     "start_time": "2023-12-09T13:03:33.779833",
     "status": "completed"
    },
    "tags": []
   },
   "outputs": [
    {
     "data": {
      "application/javascript": [
       "parent.postMessage({\"jupyterEvent\": \"custom.exercise_interaction\", \"data\": {\"outcomeType\": 1, \"valueTowardsCompletion\": 0.25, \"interactionType\": 1, \"questionType\": 2, \"questionId\": \"1_SplitData\", \"learnToolsVersion\": \"0.3.4\", \"failureMessage\": \"\", \"exceptionClass\": \"\", \"trace\": \"\"}}, \"*\")"
      ],
      "text/plain": [
       "<IPython.core.display.Javascript object>"
      ]
     },
     "metadata": {},
     "output_type": "display_data"
    },
    {
     "data": {
      "text/markdown": [
       "<span style=\"color:#33cc33\">Correct</span>"
      ],
      "text/plain": [
       "Correct"
      ]
     },
     "metadata": {},
     "output_type": "display_data"
    }
   ],
   "source": [
    "# Import the train_test_split function and uncomment\n",
    "from sklearn.model_selection import train_test_split\n",
    "\n",
    "# fill in and uncomment\n",
    "train_X, val_X, train_y, val_y = train_test_split(X, y, random_state=1)\n",
    "\n",
    "# Check your answer\n",
    "step_1.check()"
   ]
  },
  {
   "cell_type": "code",
   "execution_count": 3,
   "id": "d56c2e84",
   "metadata": {
    "execution": {
     "iopub.execute_input": "2023-12-09T13:03:33.825226Z",
     "iopub.status.busy": "2023-12-09T13:03:33.824252Z",
     "iopub.status.idle": "2023-12-09T13:03:33.829147Z",
     "shell.execute_reply": "2023-12-09T13:03:33.828033Z"
    },
    "papermill": {
     "duration": 0.016845,
     "end_time": "2023-12-09T13:03:33.831997",
     "exception": false,
     "start_time": "2023-12-09T13:03:33.815152",
     "status": "completed"
    },
    "tags": []
   },
   "outputs": [],
   "source": [
    "# The lines below will show you a hint or the solution.\n",
    "# step_1.hint() \n",
    "# step_1.solution()\n"
   ]
  },
  {
   "cell_type": "markdown",
   "id": "a2bed521",
   "metadata": {
    "papermill": {
     "duration": 0.007138,
     "end_time": "2023-12-09T13:03:33.846671",
     "exception": false,
     "start_time": "2023-12-09T13:03:33.839533",
     "status": "completed"
    },
    "tags": []
   },
   "source": [
    "## Step 2: Specify and Fit the Model\n",
    "\n",
    "Create a `DecisionTreeRegressor` model and fit it to the relevant data.\n",
    "Set `random_state` to 1 again when creating the model."
   ]
  },
  {
   "cell_type": "code",
   "execution_count": 4,
   "id": "5769d976",
   "metadata": {
    "execution": {
     "iopub.execute_input": "2023-12-09T13:03:33.864095Z",
     "iopub.status.busy": "2023-12-09T13:03:33.863242Z",
     "iopub.status.idle": "2023-12-09T13:03:33.896940Z",
     "shell.execute_reply": "2023-12-09T13:03:33.895581Z"
    },
    "papermill": {
     "duration": 0.045516,
     "end_time": "2023-12-09T13:03:33.899786",
     "exception": false,
     "start_time": "2023-12-09T13:03:33.854270",
     "status": "completed"
    },
    "tags": []
   },
   "outputs": [
    {
     "name": "stdout",
     "output_type": "stream",
     "text": [
      "[186500. 184000. 130000.  92000. 164500. 220000. 335000. 144152. 215000.\n",
      " 262000.]\n",
      "[186500. 184000. 130000.  92000. 164500. 220000. 335000. 144152. 215000.\n",
      " 262000.]\n"
     ]
    },
    {
     "data": {
      "application/javascript": [
       "parent.postMessage({\"jupyterEvent\": \"custom.exercise_interaction\", \"data\": {\"outcomeType\": 1, \"valueTowardsCompletion\": 0.25, \"interactionType\": 1, \"questionType\": 2, \"questionId\": \"2_FitModelWithTrain\", \"learnToolsVersion\": \"0.3.4\", \"failureMessage\": \"\", \"exceptionClass\": \"\", \"trace\": \"\"}}, \"*\")"
      ],
      "text/plain": [
       "<IPython.core.display.Javascript object>"
      ]
     },
     "metadata": {},
     "output_type": "display_data"
    },
    {
     "data": {
      "text/markdown": [
       "<span style=\"color:#33cc33\">Correct</span>"
      ],
      "text/plain": [
       "Correct"
      ]
     },
     "metadata": {},
     "output_type": "display_data"
    }
   ],
   "source": [
    "# You imported DecisionTreeRegressor in your last exercise\n",
    "# and that code has been copied to the setup code above. So, no need to\n",
    "# import it again\n",
    "\n",
    "# Specify the model\n",
    "iowa_model = DecisionTreeRegressor(random_state=1)\n",
    "\n",
    "# Fit iowa_model with the training data.\n",
    "iowa_model.fit(train_X, train_y)\n",
    "\n",
    "# Check your answer\n",
    "step_2.check()"
   ]
  },
  {
   "cell_type": "code",
   "execution_count": 5,
   "id": "306844f3",
   "metadata": {
    "execution": {
     "iopub.execute_input": "2023-12-09T13:03:33.917493Z",
     "iopub.status.busy": "2023-12-09T13:03:33.917031Z",
     "iopub.status.idle": "2023-12-09T13:03:33.921882Z",
     "shell.execute_reply": "2023-12-09T13:03:33.920931Z"
    },
    "papermill": {
     "duration": 0.016715,
     "end_time": "2023-12-09T13:03:33.924154",
     "exception": false,
     "start_time": "2023-12-09T13:03:33.907439",
     "status": "completed"
    },
    "tags": []
   },
   "outputs": [],
   "source": [
    "# step_2.hint()\n",
    "# step_2.solution()"
   ]
  },
  {
   "cell_type": "markdown",
   "id": "f99f2bda",
   "metadata": {
    "papermill": {
     "duration": 0.007977,
     "end_time": "2023-12-09T13:03:33.940067",
     "exception": false,
     "start_time": "2023-12-09T13:03:33.932090",
     "status": "completed"
    },
    "tags": []
   },
   "source": [
    "## Step 3: Make Predictions with Validation data\n"
   ]
  },
  {
   "cell_type": "code",
   "execution_count": 6,
   "id": "8e862d1d",
   "metadata": {
    "execution": {
     "iopub.execute_input": "2023-12-09T13:03:33.959341Z",
     "iopub.status.busy": "2023-12-09T13:03:33.957890Z",
     "iopub.status.idle": "2023-12-09T13:03:33.973231Z",
     "shell.execute_reply": "2023-12-09T13:03:33.971694Z"
    },
    "papermill": {
     "duration": 0.028532,
     "end_time": "2023-12-09T13:03:33.976378",
     "exception": false,
     "start_time": "2023-12-09T13:03:33.947846",
     "status": "completed"
    },
    "tags": []
   },
   "outputs": [
    {
     "data": {
      "application/javascript": [
       "parent.postMessage({\"jupyterEvent\": \"custom.exercise_interaction\", \"data\": {\"outcomeType\": 1, \"valueTowardsCompletion\": 0.25, \"interactionType\": 1, \"questionType\": 2, \"questionId\": \"3_ValPreds\", \"learnToolsVersion\": \"0.3.4\", \"failureMessage\": \"\", \"exceptionClass\": \"\", \"trace\": \"\"}}, \"*\")"
      ],
      "text/plain": [
       "<IPython.core.display.Javascript object>"
      ]
     },
     "metadata": {},
     "output_type": "display_data"
    },
    {
     "data": {
      "text/markdown": [
       "<span style=\"color:#33cc33\">Correct</span>"
      ],
      "text/plain": [
       "Correct"
      ]
     },
     "metadata": {},
     "output_type": "display_data"
    }
   ],
   "source": [
    "# Predict with all validation observations\n",
    "val_predictions = iowa_model.predict(val_X)\n",
    "\n",
    "# Check your answer\n",
    "step_3.check()"
   ]
  },
  {
   "cell_type": "code",
   "execution_count": 7,
   "id": "60188559",
   "metadata": {
    "execution": {
     "iopub.execute_input": "2023-12-09T13:03:33.997264Z",
     "iopub.status.busy": "2023-12-09T13:03:33.995957Z",
     "iopub.status.idle": "2023-12-09T13:03:34.003509Z",
     "shell.execute_reply": "2023-12-09T13:03:34.000823Z"
    },
    "papermill": {
     "duration": 0.022658,
     "end_time": "2023-12-09T13:03:34.007707",
     "exception": false,
     "start_time": "2023-12-09T13:03:33.985049",
     "status": "completed"
    },
    "tags": []
   },
   "outputs": [],
   "source": [
    "# step_3.hint()\n",
    "# step_3.solution()"
   ]
  },
  {
   "cell_type": "markdown",
   "id": "01ab47ad",
   "metadata": {
    "papermill": {
     "duration": 0.008151,
     "end_time": "2023-12-09T13:03:34.025037",
     "exception": false,
     "start_time": "2023-12-09T13:03:34.016886",
     "status": "completed"
    },
    "tags": []
   },
   "source": [
    "Inspect your predictions and actual values from validation data."
   ]
  },
  {
   "cell_type": "code",
   "execution_count": 8,
   "id": "12ac387d",
   "metadata": {
    "execution": {
     "iopub.execute_input": "2023-12-09T13:03:34.045677Z",
     "iopub.status.busy": "2023-12-09T13:03:34.045033Z",
     "iopub.status.idle": "2023-12-09T13:03:34.054840Z",
     "shell.execute_reply": "2023-12-09T13:03:34.053267Z"
    },
    "papermill": {
     "duration": 0.02639,
     "end_time": "2023-12-09T13:03:34.060086",
     "exception": false,
     "start_time": "2023-12-09T13:03:34.033696",
     "status": "completed"
    },
    "tags": []
   },
   "outputs": [
    {
     "name": "stdout",
     "output_type": "stream",
     "text": [
      "[186500. 184000. 130000.  92000. 164500.]\n",
      "258     231500\n",
      "267     179500\n",
      "288     122000\n",
      "649      84500\n",
      "1233    142000\n",
      "Name: SalePrice, dtype: int64\n"
     ]
    }
   ],
   "source": [
    "# print the top few validation predictions\n",
    "print(val_predictions[:5])\n",
    "# print the top few actual prices from validation data\n",
    "print(val_y.head())"
   ]
  },
  {
   "cell_type": "markdown",
   "id": "5b80aac5",
   "metadata": {
    "papermill": {
     "duration": 0.008357,
     "end_time": "2023-12-09T13:03:34.077224",
     "exception": false,
     "start_time": "2023-12-09T13:03:34.068867",
     "status": "completed"
    },
    "tags": []
   },
   "source": [
    "What do you notice that is different from what you saw with in-sample predictions (which are printed after the top code cell in this page).\n",
    "\n",
    "Do you remember why validation predictions differ from in-sample (or training) predictions? This is an important idea from the last lesson.\n",
    "\n",
    "## Step 4: Calculate the Mean Absolute Error in Validation Data\n"
   ]
  },
  {
   "cell_type": "code",
   "execution_count": 9,
   "id": "b9d272a6",
   "metadata": {
    "execution": {
     "iopub.execute_input": "2023-12-09T13:03:34.096955Z",
     "iopub.status.busy": "2023-12-09T13:03:34.096435Z",
     "iopub.status.idle": "2023-12-09T13:03:34.112844Z",
     "shell.execute_reply": "2023-12-09T13:03:34.111644Z"
    },
    "papermill": {
     "duration": 0.031236,
     "end_time": "2023-12-09T13:03:34.116965",
     "exception": false,
     "start_time": "2023-12-09T13:03:34.085729",
     "status": "completed"
    },
    "tags": []
   },
   "outputs": [
    {
     "name": "stdout",
     "output_type": "stream",
     "text": [
      "29652.931506849316\n"
     ]
    },
    {
     "data": {
      "application/javascript": [
       "parent.postMessage({\"jupyterEvent\": \"custom.exercise_interaction\", \"data\": {\"outcomeType\": 1, \"valueTowardsCompletion\": 0.25, \"interactionType\": 1, \"questionType\": 1, \"questionId\": \"4_MAE\", \"learnToolsVersion\": \"0.3.4\", \"failureMessage\": \"\", \"exceptionClass\": \"\", \"trace\": \"\"}}, \"*\")"
      ],
      "text/plain": [
       "<IPython.core.display.Javascript object>"
      ]
     },
     "metadata": {},
     "output_type": "display_data"
    },
    {
     "data": {
      "text/markdown": [
       "<span style=\"color:#33cc33\">Correct</span>"
      ],
      "text/plain": [
       "Correct"
      ]
     },
     "metadata": {},
     "output_type": "display_data"
    }
   ],
   "source": [
    "from sklearn.metrics import mean_absolute_error\n",
    "val_mae = mean_absolute_error(val_predictions, val_y)\n",
    "\n",
    "# uncomment following line to see the validation_mae\n",
    "print(val_mae)\n",
    "\n",
    "# Check your answer\n",
    "step_4.check()"
   ]
  },
  {
   "cell_type": "code",
   "execution_count": 10,
   "id": "e0654073",
   "metadata": {
    "execution": {
     "iopub.execute_input": "2023-12-09T13:03:34.137887Z",
     "iopub.status.busy": "2023-12-09T13:03:34.137328Z",
     "iopub.status.idle": "2023-12-09T13:03:34.143189Z",
     "shell.execute_reply": "2023-12-09T13:03:34.141577Z"
    },
    "papermill": {
     "duration": 0.020627,
     "end_time": "2023-12-09T13:03:34.146825",
     "exception": false,
     "start_time": "2023-12-09T13:03:34.126198",
     "status": "completed"
    },
    "tags": []
   },
   "outputs": [],
   "source": [
    "# step_4.hint()\n",
    "# step_4.solution()"
   ]
  },
  {
   "cell_type": "markdown",
   "id": "0c79f3b5",
   "metadata": {
    "papermill": {
     "duration": 0.008734,
     "end_time": "2023-12-09T13:03:34.164284",
     "exception": false,
     "start_time": "2023-12-09T13:03:34.155550",
     "status": "completed"
    },
    "tags": []
   },
   "source": [
    "Is that MAE good?  There isn't a general rule for what values are good that applies across applications. But you'll see how to use (and improve) this number in the next step.\n",
    "\n",
    "# Keep Going\n",
    "\n",
    "You are ready for **[Underfitting and Overfitting](https://www.kaggle.com/dansbecker/underfitting-and-overfitting).**\n"
   ]
  },
  {
   "cell_type": "markdown",
   "id": "9c837c87",
   "metadata": {
    "papermill": {
     "duration": 0.009217,
     "end_time": "2023-12-09T13:03:34.182516",
     "exception": false,
     "start_time": "2023-12-09T13:03:34.173299",
     "status": "completed"
    },
    "tags": []
   },
   "source": [
    "---\n",
    "\n",
    "\n",
    "\n",
    "\n",
    "*Have questions or comments? Visit the [course discussion forum](https://www.kaggle.com/learn/intro-to-machine-learning/discussion) to chat with other learners.*"
   ]
  }
 ],
 "metadata": {
  "kaggle": {
   "accelerator": "none",
   "dataSources": [
    {
     "databundleVersionId": 111096,
     "sourceId": 10211,
     "sourceType": "competition"
    },
    {
     "datasetId": 11167,
     "sourceId": 15520,
     "sourceType": "datasetVersion"
    },
    {
     "datasetId": 2709,
     "sourceId": 38454,
     "sourceType": "datasetVersion"
    }
   ],
   "isGpuEnabled": false,
   "isInternetEnabled": false,
   "language": "python",
   "sourceType": "notebook"
  },
  "kernelspec": {
   "display_name": "Python 3",
   "language": "python",
   "name": "python3"
  },
  "language_info": {
   "codemirror_mode": {
    "name": "ipython",
    "version": 3
   },
   "file_extension": ".py",
   "mimetype": "text/x-python",
   "name": "python",
   "nbconvert_exporter": "python",
   "pygments_lexer": "ipython3",
   "version": "3.10.12"
  },
  "papermill": {
   "default_parameters": {},
   "duration": 8.269592,
   "end_time": "2023-12-09T13:03:35.121240",
   "environment_variables": {},
   "exception": null,
   "input_path": "__notebook__.ipynb",
   "output_path": "__notebook__.ipynb",
   "parameters": {},
   "start_time": "2023-12-09T13:03:26.851648",
   "version": "2.4.0"
  }
 },
 "nbformat": 4,
 "nbformat_minor": 5
}
