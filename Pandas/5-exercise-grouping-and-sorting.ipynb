{
 "cells": [
  {
   "cell_type": "markdown",
   "id": "316b9f37",
   "metadata": {
    "papermill": {
     "duration": 0.007393,
     "end_time": "2023-12-07T21:03:41.811005",
     "exception": false,
     "start_time": "2023-12-07T21:03:41.803612",
     "status": "completed"
    },
    "tags": []
   },
   "source": [
    "**This notebook is an exercise in the [Pandas](https://www.kaggle.com/learn/pandas) course.  You can reference the tutorial at [this link](https://www.kaggle.com/residentmario/grouping-and-sorting).**\n",
    "\n",
    "---\n"
   ]
  },
  {
   "cell_type": "markdown",
   "id": "652d7d11",
   "metadata": {
    "papermill": {
     "duration": 0.006173,
     "end_time": "2023-12-07T21:03:41.823623",
     "exception": false,
     "start_time": "2023-12-07T21:03:41.817450",
     "status": "completed"
    },
    "tags": []
   },
   "source": [
    "# Introduction\n",
    "\n",
    "In these exercises we'll apply groupwise analysis to our dataset.\n",
    "\n",
    "Run the code cell below to load the data before running the exercises."
   ]
  },
  {
   "cell_type": "code",
   "execution_count": 1,
   "id": "388adf47",
   "metadata": {
    "execution": {
     "iopub.execute_input": "2023-12-07T21:03:41.838092Z",
     "iopub.status.busy": "2023-12-07T21:03:41.837342Z",
     "iopub.status.idle": "2023-12-07T21:03:45.430667Z",
     "shell.execute_reply": "2023-12-07T21:03:45.429293Z"
    },
    "papermill": {
     "duration": 3.603415,
     "end_time": "2023-12-07T21:03:45.432984",
     "exception": false,
     "start_time": "2023-12-07T21:03:41.829569",
     "status": "completed"
    },
    "tags": []
   },
   "outputs": [
    {
     "name": "stdout",
     "output_type": "stream",
     "text": [
      "Setup complete.\n"
     ]
    }
   ],
   "source": [
    "import pandas as pd\n",
    "\n",
    "reviews = pd.read_csv(\"../input/wine-reviews/winemag-data-130k-v2.csv\", index_col=0)\n",
    "#pd.set_option(\"display.max_rows\", 5)\n",
    "\n",
    "from learntools.core import binder; binder.bind(globals())\n",
    "from learntools.pandas.grouping_and_sorting import *\n",
    "print(\"Setup complete.\")"
   ]
  },
  {
   "cell_type": "markdown",
   "id": "7e6ebb55",
   "metadata": {
    "papermill": {
     "duration": 0.005745,
     "end_time": "2023-12-07T21:03:45.445242",
     "exception": false,
     "start_time": "2023-12-07T21:03:45.439497",
     "status": "completed"
    },
    "tags": []
   },
   "source": [
    "# Exercises"
   ]
  },
  {
   "cell_type": "markdown",
   "id": "8b37e7bb",
   "metadata": {
    "papermill": {
     "duration": 0.005692,
     "end_time": "2023-12-07T21:03:45.456917",
     "exception": false,
     "start_time": "2023-12-07T21:03:45.451225",
     "status": "completed"
    },
    "tags": []
   },
   "source": [
    "## 1.\n",
    "Who are the most common wine reviewers in the dataset? Create a `Series` whose index is the `taster_twitter_handle` category from the dataset, and whose values count how many reviews each person wrote."
   ]
  },
  {
   "cell_type": "code",
   "execution_count": 2,
   "id": "b91e7e0f",
   "metadata": {
    "execution": {
     "iopub.execute_input": "2023-12-07T21:03:45.470719Z",
     "iopub.status.busy": "2023-12-07T21:03:45.470250Z",
     "iopub.status.idle": "2023-12-07T21:03:45.494434Z",
     "shell.execute_reply": "2023-12-07T21:03:45.493407Z"
    },
    "papermill": {
     "duration": 0.033917,
     "end_time": "2023-12-07T21:03:45.496748",
     "exception": false,
     "start_time": "2023-12-07T21:03:45.462831",
     "status": "completed"
    },
    "tags": []
   },
   "outputs": [
    {
     "data": {
      "application/javascript": [
       "parent.postMessage({\"jupyterEvent\": \"custom.exercise_interaction\", \"data\": {\"outcomeType\": 1, \"valueTowardsCompletion\": 0.16666666666666666, \"interactionType\": 1, \"questionType\": 1, \"questionId\": \"1_ReviewsWritten\", \"learnToolsVersion\": \"0.3.4\", \"failureMessage\": \"\", \"exceptionClass\": \"\", \"trace\": \"\"}}, \"*\")"
      ],
      "text/plain": [
       "<IPython.core.display.Javascript object>"
      ]
     },
     "metadata": {},
     "output_type": "display_data"
    },
    {
     "data": {
      "text/markdown": [
       "<span style=\"color:#33cc33\">Correct:</span> \n",
       "\n",
       "\n",
       "```python\n",
       "reviews_written = reviews.groupby('taster_twitter_handle').size()\n",
       "```\n",
       "or\n",
       "```python\n",
       "reviews_written = reviews.groupby('taster_twitter_handle').taster_twitter_handle.count()\n",
       "```\n"
      ],
      "text/plain": [
       "Correct: \n",
       "\n",
       "\n",
       "```python\n",
       "reviews_written = reviews.groupby('taster_twitter_handle').size()\n",
       "```\n",
       "or\n",
       "```python\n",
       "reviews_written = reviews.groupby('taster_twitter_handle').taster_twitter_handle.count()\n",
       "```"
      ]
     },
     "metadata": {},
     "output_type": "display_data"
    }
   ],
   "source": [
    "# Your code here\n",
    "reviews_written = reviews.groupby('taster_twitter_handle').size()\n",
    "\n",
    "# Check your answer\n",
    "q1.check()"
   ]
  },
  {
   "cell_type": "code",
   "execution_count": 3,
   "id": "564fdc56",
   "metadata": {
    "execution": {
     "iopub.execute_input": "2023-12-07T21:03:45.511425Z",
     "iopub.status.busy": "2023-12-07T21:03:45.511034Z",
     "iopub.status.idle": "2023-12-07T21:03:45.515546Z",
     "shell.execute_reply": "2023-12-07T21:03:45.514392Z"
    },
    "papermill": {
     "duration": 0.014641,
     "end_time": "2023-12-07T21:03:45.518020",
     "exception": false,
     "start_time": "2023-12-07T21:03:45.503379",
     "status": "completed"
    },
    "tags": []
   },
   "outputs": [],
   "source": [
    "#q1.hint()\n",
    "#q1.solution()"
   ]
  },
  {
   "cell_type": "markdown",
   "id": "c100d876",
   "metadata": {
    "papermill": {
     "duration": 0.006125,
     "end_time": "2023-12-07T21:03:45.530513",
     "exception": false,
     "start_time": "2023-12-07T21:03:45.524388",
     "status": "completed"
    },
    "tags": []
   },
   "source": [
    "## 2.\n",
    "What is the best wine I can buy for a given amount of money? Create a `Series` whose index is wine prices and whose values is the maximum number of points a wine costing that much was given in a review. Sort the values by price, ascending (so that `4.0` dollars is at the top and `3300.0` dollars is at the bottom)."
   ]
  },
  {
   "cell_type": "code",
   "execution_count": 4,
   "id": "771233b5",
   "metadata": {
    "execution": {
     "iopub.execute_input": "2023-12-07T21:03:45.544786Z",
     "iopub.status.busy": "2023-12-07T21:03:45.544406Z",
     "iopub.status.idle": "2023-12-07T21:03:45.557654Z",
     "shell.execute_reply": "2023-12-07T21:03:45.556664Z"
    },
    "papermill": {
     "duration": 0.023429,
     "end_time": "2023-12-07T21:03:45.560156",
     "exception": false,
     "start_time": "2023-12-07T21:03:45.536727",
     "status": "completed"
    },
    "tags": []
   },
   "outputs": [
    {
     "data": {
      "application/javascript": [
       "parent.postMessage({\"jupyterEvent\": \"custom.exercise_interaction\", \"data\": {\"outcomeType\": 1, \"valueTowardsCompletion\": 0.16666666666666666, \"interactionType\": 1, \"questionType\": 1, \"questionId\": \"2_BestRatingPerPrice\", \"learnToolsVersion\": \"0.3.4\", \"failureMessage\": \"\", \"exceptionClass\": \"\", \"trace\": \"\"}}, \"*\")"
      ],
      "text/plain": [
       "<IPython.core.display.Javascript object>"
      ]
     },
     "metadata": {},
     "output_type": "display_data"
    },
    {
     "data": {
      "text/markdown": [
       "<span style=\"color:#33cc33\">Correct</span>"
      ],
      "text/plain": [
       "Correct"
      ]
     },
     "metadata": {},
     "output_type": "display_data"
    }
   ],
   "source": [
    "best_rating_per_price = reviews.groupby('price')['points'].max().sort_index()\n",
    "\n",
    "# Check your answer\n",
    "q2.check()"
   ]
  },
  {
   "cell_type": "code",
   "execution_count": 5,
   "id": "981e7a88",
   "metadata": {
    "execution": {
     "iopub.execute_input": "2023-12-07T21:03:45.575604Z",
     "iopub.status.busy": "2023-12-07T21:03:45.575212Z",
     "iopub.status.idle": "2023-12-07T21:03:45.579546Z",
     "shell.execute_reply": "2023-12-07T21:03:45.578439Z"
    },
    "papermill": {
     "duration": 0.014694,
     "end_time": "2023-12-07T21:03:45.581671",
     "exception": false,
     "start_time": "2023-12-07T21:03:45.566977",
     "status": "completed"
    },
    "tags": []
   },
   "outputs": [],
   "source": [
    "#q2.hint()\n",
    "#q2.solution()"
   ]
  },
  {
   "cell_type": "markdown",
   "id": "fda7ada1",
   "metadata": {
    "papermill": {
     "duration": 0.006209,
     "end_time": "2023-12-07T21:03:45.594407",
     "exception": false,
     "start_time": "2023-12-07T21:03:45.588198",
     "status": "completed"
    },
    "tags": []
   },
   "source": [
    "## 3.\n",
    "What are the minimum and maximum prices for each `variety` of wine? Create a `DataFrame` whose index is the `variety` category from the dataset and whose values are the `min` and `max` values thereof."
   ]
  },
  {
   "cell_type": "code",
   "execution_count": 6,
   "id": "0991b7d1",
   "metadata": {
    "execution": {
     "iopub.execute_input": "2023-12-07T21:03:45.609370Z",
     "iopub.status.busy": "2023-12-07T21:03:45.608940Z",
     "iopub.status.idle": "2023-12-07T21:03:45.635497Z",
     "shell.execute_reply": "2023-12-07T21:03:45.634435Z"
    },
    "papermill": {
     "duration": 0.036775,
     "end_time": "2023-12-07T21:03:45.637729",
     "exception": false,
     "start_time": "2023-12-07T21:03:45.600954",
     "status": "completed"
    },
    "tags": []
   },
   "outputs": [
    {
     "data": {
      "application/javascript": [
       "parent.postMessage({\"jupyterEvent\": \"custom.exercise_interaction\", \"data\": {\"outcomeType\": 1, \"valueTowardsCompletion\": 0.16666666666666666, \"interactionType\": 1, \"questionType\": 1, \"questionId\": \"3_PriceExtremes\", \"learnToolsVersion\": \"0.3.4\", \"failureMessage\": \"\", \"exceptionClass\": \"\", \"trace\": \"\"}}, \"*\")"
      ],
      "text/plain": [
       "<IPython.core.display.Javascript object>"
      ]
     },
     "metadata": {},
     "output_type": "display_data"
    },
    {
     "data": {
      "text/markdown": [
       "<span style=\"color:#33cc33\">Correct</span>"
      ],
      "text/plain": [
       "Correct"
      ]
     },
     "metadata": {},
     "output_type": "display_data"
    }
   ],
   "source": [
    "price_extremes = reviews.groupby('variety').price.agg([min, max])\n",
    "\n",
    "# Check your answer\n",
    "q3.check()"
   ]
  },
  {
   "cell_type": "code",
   "execution_count": 7,
   "id": "a7595d3b",
   "metadata": {
    "execution": {
     "iopub.execute_input": "2023-12-07T21:03:45.653545Z",
     "iopub.status.busy": "2023-12-07T21:03:45.653077Z",
     "iopub.status.idle": "2023-12-07T21:03:45.657872Z",
     "shell.execute_reply": "2023-12-07T21:03:45.656938Z"
    },
    "papermill": {
     "duration": 0.015586,
     "end_time": "2023-12-07T21:03:45.660400",
     "exception": false,
     "start_time": "2023-12-07T21:03:45.644814",
     "status": "completed"
    },
    "tags": []
   },
   "outputs": [],
   "source": [
    "#q3.hint()\n",
    "#q3.solution()"
   ]
  },
  {
   "cell_type": "markdown",
   "id": "ab60f3c5",
   "metadata": {
    "papermill": {
     "duration": 0.00641,
     "end_time": "2023-12-07T21:03:45.673644",
     "exception": false,
     "start_time": "2023-12-07T21:03:45.667234",
     "status": "completed"
    },
    "tags": []
   },
   "source": [
    "## 4.\n",
    "What are the most expensive wine varieties? Create a variable `sorted_varieties` containing a copy of the dataframe from the previous question where varieties are sorted in descending order based on minimum price, then on maximum price (to break ties)."
   ]
  },
  {
   "cell_type": "code",
   "execution_count": 8,
   "id": "91c69751",
   "metadata": {
    "execution": {
     "iopub.execute_input": "2023-12-07T21:03:45.689340Z",
     "iopub.status.busy": "2023-12-07T21:03:45.688252Z",
     "iopub.status.idle": "2023-12-07T21:03:45.699845Z",
     "shell.execute_reply": "2023-12-07T21:03:45.698796Z"
    },
    "papermill": {
     "duration": 0.021703,
     "end_time": "2023-12-07T21:03:45.702102",
     "exception": false,
     "start_time": "2023-12-07T21:03:45.680399",
     "status": "completed"
    },
    "tags": []
   },
   "outputs": [
    {
     "data": {
      "application/javascript": [
       "parent.postMessage({\"jupyterEvent\": \"custom.exercise_interaction\", \"data\": {\"outcomeType\": 1, \"valueTowardsCompletion\": 0.16666666666666666, \"interactionType\": 1, \"questionType\": 1, \"questionId\": \"4_SortedVarieties\", \"learnToolsVersion\": \"0.3.4\", \"failureMessage\": \"\", \"exceptionClass\": \"\", \"trace\": \"\"}}, \"*\")"
      ],
      "text/plain": [
       "<IPython.core.display.Javascript object>"
      ]
     },
     "metadata": {},
     "output_type": "display_data"
    },
    {
     "data": {
      "text/markdown": [
       "<span style=\"color:#33cc33\">Correct</span>"
      ],
      "text/plain": [
       "Correct"
      ]
     },
     "metadata": {},
     "output_type": "display_data"
    }
   ],
   "source": [
    "sorted_varieties = price_extremes.sort_values(by=['min', 'max'], ascending=False)\n",
    "\n",
    "# Check your answer\n",
    "q4.check()"
   ]
  },
  {
   "cell_type": "code",
   "execution_count": 9,
   "id": "b2737e43",
   "metadata": {
    "execution": {
     "iopub.execute_input": "2023-12-07T21:03:45.717876Z",
     "iopub.status.busy": "2023-12-07T21:03:45.717473Z",
     "iopub.status.idle": "2023-12-07T21:03:45.721606Z",
     "shell.execute_reply": "2023-12-07T21:03:45.720521Z"
    },
    "papermill": {
     "duration": 0.01494,
     "end_time": "2023-12-07T21:03:45.724082",
     "exception": false,
     "start_time": "2023-12-07T21:03:45.709142",
     "status": "completed"
    },
    "tags": []
   },
   "outputs": [],
   "source": [
    "#q4.hint()\n",
    "#q4.solution()"
   ]
  },
  {
   "cell_type": "markdown",
   "id": "7995901c",
   "metadata": {
    "papermill": {
     "duration": 0.00678,
     "end_time": "2023-12-07T21:03:45.738388",
     "exception": false,
     "start_time": "2023-12-07T21:03:45.731608",
     "status": "completed"
    },
    "tags": []
   },
   "source": [
    "## 5.\n",
    "Create a `Series` whose index is reviewers and whose values is the average review score given out by that reviewer. Hint: you will need the `taster_name` and `points` columns."
   ]
  },
  {
   "cell_type": "code",
   "execution_count": 10,
   "id": "34798102",
   "metadata": {
    "execution": {
     "iopub.execute_input": "2023-12-07T21:03:45.754437Z",
     "iopub.status.busy": "2023-12-07T21:03:45.754038Z",
     "iopub.status.idle": "2023-12-07T21:03:45.776412Z",
     "shell.execute_reply": "2023-12-07T21:03:45.775661Z"
    },
    "papermill": {
     "duration": 0.032698,
     "end_time": "2023-12-07T21:03:45.778498",
     "exception": false,
     "start_time": "2023-12-07T21:03:45.745800",
     "status": "completed"
    },
    "tags": []
   },
   "outputs": [
    {
     "data": {
      "application/javascript": [
       "parent.postMessage({\"jupyterEvent\": \"custom.exercise_interaction\", \"data\": {\"outcomeType\": 1, \"valueTowardsCompletion\": 0.16666666666666666, \"interactionType\": 1, \"questionType\": 1, \"questionId\": \"5_ReviewerMeanRatings\", \"learnToolsVersion\": \"0.3.4\", \"failureMessage\": \"\", \"exceptionClass\": \"\", \"trace\": \"\"}}, \"*\")"
      ],
      "text/plain": [
       "<IPython.core.display.Javascript object>"
      ]
     },
     "metadata": {},
     "output_type": "display_data"
    },
    {
     "data": {
      "text/markdown": [
       "<span style=\"color:#33cc33\">Correct</span>"
      ],
      "text/plain": [
       "Correct"
      ]
     },
     "metadata": {},
     "output_type": "display_data"
    }
   ],
   "source": [
    "reviewer_mean_ratings = reviews.groupby('taster_name').points.mean()\n",
    "\n",
    "# Check your answer\n",
    "q5.check()"
   ]
  },
  {
   "cell_type": "code",
   "execution_count": 11,
   "id": "4890da70",
   "metadata": {
    "execution": {
     "iopub.execute_input": "2023-12-07T21:03:45.794583Z",
     "iopub.status.busy": "2023-12-07T21:03:45.794111Z",
     "iopub.status.idle": "2023-12-07T21:03:45.798919Z",
     "shell.execute_reply": "2023-12-07T21:03:45.797800Z"
    },
    "papermill": {
     "duration": 0.015612,
     "end_time": "2023-12-07T21:03:45.801308",
     "exception": false,
     "start_time": "2023-12-07T21:03:45.785696",
     "status": "completed"
    },
    "tags": []
   },
   "outputs": [],
   "source": [
    "#q5.hint()\n",
    "#q5.solution()"
   ]
  },
  {
   "cell_type": "markdown",
   "id": "327fa8d8",
   "metadata": {
    "papermill": {
     "duration": 0.007063,
     "end_time": "2023-12-07T21:03:45.815893",
     "exception": false,
     "start_time": "2023-12-07T21:03:45.808830",
     "status": "completed"
    },
    "tags": []
   },
   "source": [
    "Are there significant differences in the average scores assigned by the various reviewers? Run the cell below to use the `describe()` method to see a summary of the range of values."
   ]
  },
  {
   "cell_type": "code",
   "execution_count": 12,
   "id": "4e865f62",
   "metadata": {
    "execution": {
     "iopub.execute_input": "2023-12-07T21:03:45.832099Z",
     "iopub.status.busy": "2023-12-07T21:03:45.831710Z",
     "iopub.status.idle": "2023-12-07T21:03:45.844763Z",
     "shell.execute_reply": "2023-12-07T21:03:45.843655Z"
    },
    "papermill": {
     "duration": 0.023725,
     "end_time": "2023-12-07T21:03:45.846961",
     "exception": false,
     "start_time": "2023-12-07T21:03:45.823236",
     "status": "completed"
    },
    "tags": []
   },
   "outputs": [
    {
     "data": {
      "text/plain": [
       "count    19.000000\n",
       "mean     88.233026\n",
       "std       1.243610\n",
       "min      85.855422\n",
       "25%      87.323501\n",
       "50%      88.536235\n",
       "75%      88.975256\n",
       "max      90.562551\n",
       "Name: points, dtype: float64"
      ]
     },
     "execution_count": 12,
     "metadata": {},
     "output_type": "execute_result"
    }
   ],
   "source": [
    "reviewer_mean_ratings.describe()"
   ]
  },
  {
   "cell_type": "markdown",
   "id": "7f7664a7",
   "metadata": {
    "papermill": {
     "duration": 0.007329,
     "end_time": "2023-12-07T21:03:45.862741",
     "exception": false,
     "start_time": "2023-12-07T21:03:45.855412",
     "status": "completed"
    },
    "tags": []
   },
   "source": [
    "## 6.\n",
    "What combination of countries and varieties are most common? Create a `Series` whose index is a `MultiIndex`of `{country, variety}` pairs. For example, a pinot noir produced in the US should map to `{\"US\", \"Pinot Noir\"}`. Sort the values in the `Series` in descending order based on wine count."
   ]
  },
  {
   "cell_type": "code",
   "execution_count": 13,
   "id": "7e67de3f",
   "metadata": {
    "execution": {
     "iopub.execute_input": "2023-12-07T21:03:45.880407Z",
     "iopub.status.busy": "2023-12-07T21:03:45.879511Z",
     "iopub.status.idle": "2023-12-07T21:03:45.918883Z",
     "shell.execute_reply": "2023-12-07T21:03:45.917842Z"
    },
    "papermill": {
     "duration": 0.050597,
     "end_time": "2023-12-07T21:03:45.921374",
     "exception": false,
     "start_time": "2023-12-07T21:03:45.870777",
     "status": "completed"
    },
    "tags": []
   },
   "outputs": [
    {
     "data": {
      "application/javascript": [
       "parent.postMessage({\"jupyterEvent\": \"custom.exercise_interaction\", \"data\": {\"outcomeType\": 1, \"valueTowardsCompletion\": 0.16666666666666666, \"interactionType\": 1, \"questionType\": 1, \"questionId\": \"6_GroupbyCountryVariety\", \"learnToolsVersion\": \"0.3.4\", \"failureMessage\": \"\", \"exceptionClass\": \"\", \"trace\": \"\"}}, \"*\")"
      ],
      "text/plain": [
       "<IPython.core.display.Javascript object>"
      ]
     },
     "metadata": {},
     "output_type": "display_data"
    },
    {
     "data": {
      "text/markdown": [
       "<span style=\"color:#33cc33\">Correct</span>"
      ],
      "text/plain": [
       "Correct"
      ]
     },
     "metadata": {},
     "output_type": "display_data"
    }
   ],
   "source": [
    "country_variety_counts = reviews.groupby(['country', 'variety']).size().sort_values(ascending=False)\n",
    "\n",
    "# Check your answer\n",
    "q6.check()"
   ]
  },
  {
   "cell_type": "code",
   "execution_count": 14,
   "id": "c45db375",
   "metadata": {
    "execution": {
     "iopub.execute_input": "2023-12-07T21:03:45.938511Z",
     "iopub.status.busy": "2023-12-07T21:03:45.937856Z",
     "iopub.status.idle": "2023-12-07T21:03:45.941291Z",
     "shell.execute_reply": "2023-12-07T21:03:45.940644Z"
    },
    "papermill": {
     "duration": 0.01413,
     "end_time": "2023-12-07T21:03:45.943104",
     "exception": false,
     "start_time": "2023-12-07T21:03:45.928974",
     "status": "completed"
    },
    "tags": []
   },
   "outputs": [],
   "source": [
    "#q6.hint()\n",
    "#q6.solution()"
   ]
  },
  {
   "cell_type": "markdown",
   "id": "252bec88",
   "metadata": {
    "papermill": {
     "duration": 0.007254,
     "end_time": "2023-12-07T21:03:45.958011",
     "exception": false,
     "start_time": "2023-12-07T21:03:45.950757",
     "status": "completed"
    },
    "tags": []
   },
   "source": [
    "# Keep going\n",
    "\n",
    "Move on to the [**data types and missing data**](https://www.kaggle.com/residentmario/data-types-and-missing-values)."
   ]
  },
  {
   "cell_type": "markdown",
   "id": "7399ea30",
   "metadata": {
    "papermill": {
     "duration": 0.007083,
     "end_time": "2023-12-07T21:03:45.972612",
     "exception": false,
     "start_time": "2023-12-07T21:03:45.965529",
     "status": "completed"
    },
    "tags": []
   },
   "source": [
    "---\n",
    "\n",
    "\n",
    "\n",
    "\n",
    "*Have questions or comments? Visit the [course discussion forum](https://www.kaggle.com/learn/pandas/discussion) to chat with other learners.*"
   ]
  }
 ],
 "metadata": {
  "kaggle": {
   "accelerator": "none",
   "dataSources": [
    {
     "datasetId": 655,
     "sourceId": 1252,
     "sourceType": "datasetVersion"
    },
    {
     "datasetId": 2321,
     "sourceId": 3919,
     "sourceType": "datasetVersion"
    },
    {
     "datasetId": 2894,
     "sourceId": 4877,
     "sourceType": "datasetVersion"
    },
    {
     "datasetId": 3491,
     "sourceId": 5624,
     "sourceType": "datasetVersion"
    },
    {
     "datasetId": 1442,
     "sourceId": 8172,
     "sourceType": "datasetVersion"
    },
    {
     "datasetId": 9366,
     "sourceId": 13206,
     "sourceType": "datasetVersion"
    },
    {
     "datasetId": 179555,
     "sourceId": 403916,
     "sourceType": "datasetVersion"
    },
    {
     "datasetId": 4549,
     "sourceId": 466349,
     "sourceType": "datasetVersion"
    },
    {
     "datasetId": 2478,
     "sourceId": 1151655,
     "sourceType": "datasetVersion"
    },
    {
     "datasetId": 10128,
     "sourceId": 5438389,
     "sourceType": "datasetVersion"
    }
   ],
   "isGpuEnabled": false,
   "isInternetEnabled": false,
   "language": "python",
   "sourceType": "notebook"
  },
  "kernelspec": {
   "display_name": "Python 3",
   "language": "python",
   "name": "python3"
  },
  "language_info": {
   "codemirror_mode": {
    "name": "ipython",
    "version": 3
   },
   "file_extension": ".py",
   "mimetype": "text/x-python",
   "name": "python",
   "nbconvert_exporter": "python",
   "pygments_lexer": "ipython3",
   "version": "3.10.12"
  },
  "papermill": {
   "default_parameters": {},
   "duration": 7.888618,
   "end_time": "2023-12-07T21:03:46.501519",
   "environment_variables": {},
   "exception": null,
   "input_path": "__notebook__.ipynb",
   "output_path": "__notebook__.ipynb",
   "parameters": {},
   "start_time": "2023-12-07T21:03:38.612901",
   "version": "2.4.0"
  }
 },
 "nbformat": 4,
 "nbformat_minor": 5
}
