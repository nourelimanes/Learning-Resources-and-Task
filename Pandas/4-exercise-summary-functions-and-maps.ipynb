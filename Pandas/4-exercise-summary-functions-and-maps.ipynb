{
 "cells": [
  {
   "cell_type": "markdown",
   "id": "cf67c892",
   "metadata": {
    "papermill": {
     "duration": 0.009394,
     "end_time": "2023-12-07T20:14:40.084829",
     "exception": false,
     "start_time": "2023-12-07T20:14:40.075435",
     "status": "completed"
    },
    "tags": []
   },
   "source": [
    "**This notebook is an exercise in the [Pandas](https://www.kaggle.com/learn/pandas) course.  You can reference the tutorial at [this link](https://www.kaggle.com/residentmario/summary-functions-and-maps).**\n",
    "\n",
    "---\n"
   ]
  },
  {
   "cell_type": "markdown",
   "id": "c6768494",
   "metadata": {
    "papermill": {
     "duration": 0.008361,
     "end_time": "2023-12-07T20:14:40.102212",
     "exception": false,
     "start_time": "2023-12-07T20:14:40.093851",
     "status": "completed"
    },
    "tags": []
   },
   "source": [
    "# Introduction\n",
    "\n",
    "Now you are ready to get a deeper understanding of your data.\n",
    "\n",
    "Run the following cell to load your data and some utility functions (including code to check your answers)."
   ]
  },
  {
   "cell_type": "code",
   "execution_count": 1,
   "id": "62c882d1",
   "metadata": {
    "execution": {
     "iopub.execute_input": "2023-12-07T20:14:40.121966Z",
     "iopub.status.busy": "2023-12-07T20:14:40.121166Z",
     "iopub.status.idle": "2023-12-07T20:14:49.410069Z",
     "shell.execute_reply": "2023-12-07T20:14:49.408335Z"
    },
    "papermill": {
     "duration": 9.301967,
     "end_time": "2023-12-07T20:14:49.412776",
     "exception": false,
     "start_time": "2023-12-07T20:14:40.110809",
     "status": "completed"
    },
    "tags": []
   },
   "outputs": [
    {
     "name": "stdout",
     "output_type": "stream",
     "text": [
      "Setup complete.\n"
     ]
    },
    {
     "data": {
      "text/html": [
       "<div>\n",
       "<style scoped>\n",
       "    .dataframe tbody tr th:only-of-type {\n",
       "        vertical-align: middle;\n",
       "    }\n",
       "\n",
       "    .dataframe tbody tr th {\n",
       "        vertical-align: top;\n",
       "    }\n",
       "\n",
       "    .dataframe thead th {\n",
       "        text-align: right;\n",
       "    }\n",
       "</style>\n",
       "<table border=\"1\" class=\"dataframe\">\n",
       "  <thead>\n",
       "    <tr style=\"text-align: right;\">\n",
       "      <th></th>\n",
       "      <th>country</th>\n",
       "      <th>description</th>\n",
       "      <th>designation</th>\n",
       "      <th>points</th>\n",
       "      <th>price</th>\n",
       "      <th>province</th>\n",
       "      <th>region_1</th>\n",
       "      <th>region_2</th>\n",
       "      <th>taster_name</th>\n",
       "      <th>taster_twitter_handle</th>\n",
       "      <th>title</th>\n",
       "      <th>variety</th>\n",
       "      <th>winery</th>\n",
       "    </tr>\n",
       "  </thead>\n",
       "  <tbody>\n",
       "    <tr>\n",
       "      <th>0</th>\n",
       "      <td>Italy</td>\n",
       "      <td>Aromas include tropical fruit, broom, brimston...</td>\n",
       "      <td>Vulkà Bianco</td>\n",
       "      <td>87</td>\n",
       "      <td>NaN</td>\n",
       "      <td>Sicily &amp; Sardinia</td>\n",
       "      <td>Etna</td>\n",
       "      <td>NaN</td>\n",
       "      <td>Kerin O’Keefe</td>\n",
       "      <td>@kerinokeefe</td>\n",
       "      <td>Nicosia 2013 Vulkà Bianco  (Etna)</td>\n",
       "      <td>White Blend</td>\n",
       "      <td>Nicosia</td>\n",
       "    </tr>\n",
       "    <tr>\n",
       "      <th>1</th>\n",
       "      <td>Portugal</td>\n",
       "      <td>This is ripe and fruity, a wine that is smooth...</td>\n",
       "      <td>Avidagos</td>\n",
       "      <td>87</td>\n",
       "      <td>15.0</td>\n",
       "      <td>Douro</td>\n",
       "      <td>NaN</td>\n",
       "      <td>NaN</td>\n",
       "      <td>Roger Voss</td>\n",
       "      <td>@vossroger</td>\n",
       "      <td>Quinta dos Avidagos 2011 Avidagos Red (Douro)</td>\n",
       "      <td>Portuguese Red</td>\n",
       "      <td>Quinta dos Avidagos</td>\n",
       "    </tr>\n",
       "    <tr>\n",
       "      <th>2</th>\n",
       "      <td>US</td>\n",
       "      <td>Tart and snappy, the flavors of lime flesh and...</td>\n",
       "      <td>NaN</td>\n",
       "      <td>87</td>\n",
       "      <td>14.0</td>\n",
       "      <td>Oregon</td>\n",
       "      <td>Willamette Valley</td>\n",
       "      <td>Willamette Valley</td>\n",
       "      <td>Paul Gregutt</td>\n",
       "      <td>@paulgwine</td>\n",
       "      <td>Rainstorm 2013 Pinot Gris (Willamette Valley)</td>\n",
       "      <td>Pinot Gris</td>\n",
       "      <td>Rainstorm</td>\n",
       "    </tr>\n",
       "    <tr>\n",
       "      <th>3</th>\n",
       "      <td>US</td>\n",
       "      <td>Pineapple rind, lemon pith and orange blossom ...</td>\n",
       "      <td>Reserve Late Harvest</td>\n",
       "      <td>87</td>\n",
       "      <td>13.0</td>\n",
       "      <td>Michigan</td>\n",
       "      <td>Lake Michigan Shore</td>\n",
       "      <td>NaN</td>\n",
       "      <td>Alexander Peartree</td>\n",
       "      <td>NaN</td>\n",
       "      <td>St. Julian 2013 Reserve Late Harvest Riesling ...</td>\n",
       "      <td>Riesling</td>\n",
       "      <td>St. Julian</td>\n",
       "    </tr>\n",
       "    <tr>\n",
       "      <th>4</th>\n",
       "      <td>US</td>\n",
       "      <td>Much like the regular bottling from 2012, this...</td>\n",
       "      <td>Vintner's Reserve Wild Child Block</td>\n",
       "      <td>87</td>\n",
       "      <td>65.0</td>\n",
       "      <td>Oregon</td>\n",
       "      <td>Willamette Valley</td>\n",
       "      <td>Willamette Valley</td>\n",
       "      <td>Paul Gregutt</td>\n",
       "      <td>@paulgwine</td>\n",
       "      <td>Sweet Cheeks 2012 Vintner's Reserve Wild Child...</td>\n",
       "      <td>Pinot Noir</td>\n",
       "      <td>Sweet Cheeks</td>\n",
       "    </tr>\n",
       "  </tbody>\n",
       "</table>\n",
       "</div>"
      ],
      "text/plain": [
       "    country                                        description  \\\n",
       "0     Italy  Aromas include tropical fruit, broom, brimston...   \n",
       "1  Portugal  This is ripe and fruity, a wine that is smooth...   \n",
       "2        US  Tart and snappy, the flavors of lime flesh and...   \n",
       "3        US  Pineapple rind, lemon pith and orange blossom ...   \n",
       "4        US  Much like the regular bottling from 2012, this...   \n",
       "\n",
       "                          designation  points  price           province  \\\n",
       "0                        Vulkà Bianco      87    NaN  Sicily & Sardinia   \n",
       "1                            Avidagos      87   15.0              Douro   \n",
       "2                                 NaN      87   14.0             Oregon   \n",
       "3                Reserve Late Harvest      87   13.0           Michigan   \n",
       "4  Vintner's Reserve Wild Child Block      87   65.0             Oregon   \n",
       "\n",
       "              region_1           region_2         taster_name  \\\n",
       "0                 Etna                NaN       Kerin O’Keefe   \n",
       "1                  NaN                NaN          Roger Voss   \n",
       "2    Willamette Valley  Willamette Valley        Paul Gregutt   \n",
       "3  Lake Michigan Shore                NaN  Alexander Peartree   \n",
       "4    Willamette Valley  Willamette Valley        Paul Gregutt   \n",
       "\n",
       "  taster_twitter_handle                                              title  \\\n",
       "0          @kerinokeefe                  Nicosia 2013 Vulkà Bianco  (Etna)   \n",
       "1            @vossroger      Quinta dos Avidagos 2011 Avidagos Red (Douro)   \n",
       "2           @paulgwine       Rainstorm 2013 Pinot Gris (Willamette Valley)   \n",
       "3                   NaN  St. Julian 2013 Reserve Late Harvest Riesling ...   \n",
       "4           @paulgwine   Sweet Cheeks 2012 Vintner's Reserve Wild Child...   \n",
       "\n",
       "          variety               winery  \n",
       "0     White Blend              Nicosia  \n",
       "1  Portuguese Red  Quinta dos Avidagos  \n",
       "2      Pinot Gris            Rainstorm  \n",
       "3        Riesling           St. Julian  \n",
       "4      Pinot Noir         Sweet Cheeks  "
      ]
     },
     "execution_count": 1,
     "metadata": {},
     "output_type": "execute_result"
    }
   ],
   "source": [
    "import pandas as pd\n",
    "pd.set_option(\"display.max_rows\", 5)\n",
    "reviews = pd.read_csv(\"../input/wine-reviews/winemag-data-130k-v2.csv\", index_col=0)\n",
    "\n",
    "from learntools.core import binder; binder.bind(globals())\n",
    "from learntools.pandas.summary_functions_and_maps import *\n",
    "print(\"Setup complete.\")\n",
    "\n",
    "reviews.head()"
   ]
  },
  {
   "cell_type": "markdown",
   "id": "8b50486d",
   "metadata": {
    "papermill": {
     "duration": 0.008922,
     "end_time": "2023-12-07T20:14:49.431367",
     "exception": false,
     "start_time": "2023-12-07T20:14:49.422445",
     "status": "completed"
    },
    "tags": []
   },
   "source": [
    "# Exercises"
   ]
  },
  {
   "cell_type": "markdown",
   "id": "470a8e55",
   "metadata": {
    "papermill": {
     "duration": 0.008844,
     "end_time": "2023-12-07T20:14:49.449490",
     "exception": false,
     "start_time": "2023-12-07T20:14:49.440646",
     "status": "completed"
    },
    "tags": []
   },
   "source": [
    "## 1.\n",
    "\n",
    "What is the median of the `points` column in the `reviews` DataFrame?"
   ]
  },
  {
   "cell_type": "code",
   "execution_count": 2,
   "id": "dd693e9f",
   "metadata": {
    "execution": {
     "iopub.execute_input": "2023-12-07T20:14:49.469979Z",
     "iopub.status.busy": "2023-12-07T20:14:49.469497Z",
     "iopub.status.idle": "2023-12-07T20:14:49.481508Z",
     "shell.execute_reply": "2023-12-07T20:14:49.480140Z"
    },
    "papermill": {
     "duration": 0.025427,
     "end_time": "2023-12-07T20:14:49.484184",
     "exception": false,
     "start_time": "2023-12-07T20:14:49.458757",
     "status": "completed"
    },
    "tags": []
   },
   "outputs": [
    {
     "data": {
      "application/javascript": [
       "parent.postMessage({\"jupyterEvent\": \"custom.exercise_interaction\", \"data\": {\"outcomeType\": 1, \"valueTowardsCompletion\": 0.14285714285714285, \"interactionType\": 1, \"questionType\": 1, \"questionId\": \"1_MedianPoints\", \"learnToolsVersion\": \"0.3.4\", \"failureMessage\": \"\", \"exceptionClass\": \"\", \"trace\": \"\"}}, \"*\")"
      ],
      "text/plain": [
       "<IPython.core.display.Javascript object>"
      ]
     },
     "metadata": {},
     "output_type": "display_data"
    },
    {
     "data": {
      "text/markdown": [
       "<span style=\"color:#33cc33\">Correct</span>"
      ],
      "text/plain": [
       "Correct"
      ]
     },
     "metadata": {},
     "output_type": "display_data"
    }
   ],
   "source": [
    "median_points = reviews.points.median()\n",
    "\n",
    "# Check your answer\n",
    "q1.check()"
   ]
  },
  {
   "cell_type": "code",
   "execution_count": 3,
   "id": "3c4500dc",
   "metadata": {
    "execution": {
     "iopub.execute_input": "2023-12-07T20:14:49.506501Z",
     "iopub.status.busy": "2023-12-07T20:14:49.505914Z",
     "iopub.status.idle": "2023-12-07T20:14:49.510775Z",
     "shell.execute_reply": "2023-12-07T20:14:49.509556Z"
    },
    "papermill": {
     "duration": 0.018973,
     "end_time": "2023-12-07T20:14:49.513409",
     "exception": false,
     "start_time": "2023-12-07T20:14:49.494436",
     "status": "completed"
    },
    "tags": []
   },
   "outputs": [],
   "source": [
    "#q1.hint()\n",
    "#q1.solution()"
   ]
  },
  {
   "cell_type": "markdown",
   "id": "0f4a0f53",
   "metadata": {
    "papermill": {
     "duration": 0.009977,
     "end_time": "2023-12-07T20:14:49.532997",
     "exception": false,
     "start_time": "2023-12-07T20:14:49.523020",
     "status": "completed"
    },
    "tags": []
   },
   "source": [
    "## 2. \n",
    "What countries are represented in the dataset? (Your answer should not include any duplicates.)"
   ]
  },
  {
   "cell_type": "code",
   "execution_count": 4,
   "id": "cdbea8c6",
   "metadata": {
    "execution": {
     "iopub.execute_input": "2023-12-07T20:14:49.556676Z",
     "iopub.status.busy": "2023-12-07T20:14:49.555496Z",
     "iopub.status.idle": "2023-12-07T20:14:49.577749Z",
     "shell.execute_reply": "2023-12-07T20:14:49.576511Z"
    },
    "papermill": {
     "duration": 0.037567,
     "end_time": "2023-12-07T20:14:49.580373",
     "exception": false,
     "start_time": "2023-12-07T20:14:49.542806",
     "status": "completed"
    },
    "tags": []
   },
   "outputs": [
    {
     "data": {
      "application/javascript": [
       "parent.postMessage({\"jupyterEvent\": \"custom.exercise_interaction\", \"data\": {\"outcomeType\": 1, \"valueTowardsCompletion\": 0.14285714285714285, \"interactionType\": 1, \"questionType\": 2, \"questionId\": \"2_UniqueCountries\", \"learnToolsVersion\": \"0.3.4\", \"failureMessage\": \"\", \"exceptionClass\": \"\", \"trace\": \"\"}}, \"*\")"
      ],
      "text/plain": [
       "<IPython.core.display.Javascript object>"
      ]
     },
     "metadata": {},
     "output_type": "display_data"
    },
    {
     "data": {
      "text/markdown": [
       "<span style=\"color:#33cc33\">Correct</span>"
      ],
      "text/plain": [
       "Correct"
      ]
     },
     "metadata": {},
     "output_type": "display_data"
    }
   ],
   "source": [
    "countries = reviews.country.unique()\n",
    "\n",
    "# Check your answer\n",
    "q2.check()"
   ]
  },
  {
   "cell_type": "code",
   "execution_count": 5,
   "id": "73c17c86",
   "metadata": {
    "execution": {
     "iopub.execute_input": "2023-12-07T20:14:49.602216Z",
     "iopub.status.busy": "2023-12-07T20:14:49.601778Z",
     "iopub.status.idle": "2023-12-07T20:14:49.606506Z",
     "shell.execute_reply": "2023-12-07T20:14:49.605215Z"
    },
    "papermill": {
     "duration": 0.018531,
     "end_time": "2023-12-07T20:14:49.608813",
     "exception": false,
     "start_time": "2023-12-07T20:14:49.590282",
     "status": "completed"
    },
    "tags": []
   },
   "outputs": [],
   "source": [
    "#q2.hint()\n",
    "#q2.solution()"
   ]
  },
  {
   "cell_type": "markdown",
   "id": "d6eda177",
   "metadata": {
    "papermill": {
     "duration": 0.009691,
     "end_time": "2023-12-07T20:14:49.628336",
     "exception": false,
     "start_time": "2023-12-07T20:14:49.618645",
     "status": "completed"
    },
    "tags": []
   },
   "source": [
    "## 3.\n",
    "How often does each country appear in the dataset? Create a Series `reviews_per_country` mapping countries to the count of reviews of wines from that country."
   ]
  },
  {
   "cell_type": "code",
   "execution_count": 6,
   "id": "21c464f8",
   "metadata": {
    "execution": {
     "iopub.execute_input": "2023-12-07T20:14:49.652085Z",
     "iopub.status.busy": "2023-12-07T20:14:49.651257Z",
     "iopub.status.idle": "2023-12-07T20:14:49.683311Z",
     "shell.execute_reply": "2023-12-07T20:14:49.682106Z"
    },
    "papermill": {
     "duration": 0.046998,
     "end_time": "2023-12-07T20:14:49.686619",
     "exception": false,
     "start_time": "2023-12-07T20:14:49.639621",
     "status": "completed"
    },
    "tags": []
   },
   "outputs": [
    {
     "data": {
      "application/javascript": [
       "parent.postMessage({\"jupyterEvent\": \"custom.exercise_interaction\", \"data\": {\"outcomeType\": 1, \"valueTowardsCompletion\": 0.14285714285714285, \"interactionType\": 1, \"questionType\": 1, \"questionId\": \"3_ReviewsPerCountry\", \"learnToolsVersion\": \"0.3.4\", \"failureMessage\": \"\", \"exceptionClass\": \"\", \"trace\": \"\"}}, \"*\")"
      ],
      "text/plain": [
       "<IPython.core.display.Javascript object>"
      ]
     },
     "metadata": {},
     "output_type": "display_data"
    },
    {
     "data": {
      "text/markdown": [
       "<span style=\"color:#33cc33\">Correct</span>"
      ],
      "text/plain": [
       "Correct"
      ]
     },
     "metadata": {},
     "output_type": "display_data"
    }
   ],
   "source": [
    "reviews_per_country = reviews.country.value_counts()\n",
    "\n",
    "# Check your answer\n",
    "q3.check()"
   ]
  },
  {
   "cell_type": "code",
   "execution_count": 7,
   "id": "b0fff917",
   "metadata": {
    "execution": {
     "iopub.execute_input": "2023-12-07T20:14:49.711895Z",
     "iopub.status.busy": "2023-12-07T20:14:49.711178Z",
     "iopub.status.idle": "2023-12-07T20:14:49.716424Z",
     "shell.execute_reply": "2023-12-07T20:14:49.715024Z"
    },
    "papermill": {
     "duration": 0.021276,
     "end_time": "2023-12-07T20:14:49.719214",
     "exception": false,
     "start_time": "2023-12-07T20:14:49.697938",
     "status": "completed"
    },
    "tags": []
   },
   "outputs": [],
   "source": [
    "#q3.hint()\n",
    "#q3.solution()"
   ]
  },
  {
   "cell_type": "markdown",
   "id": "8f559833",
   "metadata": {
    "papermill": {
     "duration": 0.010809,
     "end_time": "2023-12-07T20:14:49.741132",
     "exception": false,
     "start_time": "2023-12-07T20:14:49.730323",
     "status": "completed"
    },
    "tags": []
   },
   "source": [
    "## 4.\n",
    "Create variable `centered_price` containing a version of the `price` column with the mean price subtracted.\n",
    "\n",
    "(Note: this 'centering' transformation is a common preprocessing step before applying various machine learning algorithms.) "
   ]
  },
  {
   "cell_type": "code",
   "execution_count": 8,
   "id": "3aa15e7b",
   "metadata": {
    "execution": {
     "iopub.execute_input": "2023-12-07T20:14:49.764111Z",
     "iopub.status.busy": "2023-12-07T20:14:49.763700Z",
     "iopub.status.idle": "2023-12-07T20:14:49.774944Z",
     "shell.execute_reply": "2023-12-07T20:14:49.773641Z"
    },
    "papermill": {
     "duration": 0.025546,
     "end_time": "2023-12-07T20:14:49.777435",
     "exception": false,
     "start_time": "2023-12-07T20:14:49.751889",
     "status": "completed"
    },
    "tags": []
   },
   "outputs": [
    {
     "data": {
      "application/javascript": [
       "parent.postMessage({\"jupyterEvent\": \"custom.exercise_interaction\", \"data\": {\"outcomeType\": 1, \"valueTowardsCompletion\": 0.14285714285714285, \"interactionType\": 1, \"questionType\": 1, \"questionId\": \"4_CenteredPrice\", \"learnToolsVersion\": \"0.3.4\", \"failureMessage\": \"\", \"exceptionClass\": \"\", \"trace\": \"\"}}, \"*\")"
      ],
      "text/plain": [
       "<IPython.core.display.Javascript object>"
      ]
     },
     "metadata": {},
     "output_type": "display_data"
    },
    {
     "data": {
      "text/markdown": [
       "<span style=\"color:#33cc33\">Correct</span>"
      ],
      "text/plain": [
       "Correct"
      ]
     },
     "metadata": {},
     "output_type": "display_data"
    }
   ],
   "source": [
    "centered_price = reviews.price - reviews.price.mean()\n",
    "\n",
    "# Check your answer\n",
    "q4.check()"
   ]
  },
  {
   "cell_type": "code",
   "execution_count": 9,
   "id": "59ed94fc",
   "metadata": {
    "execution": {
     "iopub.execute_input": "2023-12-07T20:14:49.801133Z",
     "iopub.status.busy": "2023-12-07T20:14:49.800033Z",
     "iopub.status.idle": "2023-12-07T20:14:49.805437Z",
     "shell.execute_reply": "2023-12-07T20:14:49.804275Z"
    },
    "papermill": {
     "duration": 0.020327,
     "end_time": "2023-12-07T20:14:49.808354",
     "exception": false,
     "start_time": "2023-12-07T20:14:49.788027",
     "status": "completed"
    },
    "tags": []
   },
   "outputs": [],
   "source": [
    "#q4.hint()\n",
    "#q4.solution()"
   ]
  },
  {
   "cell_type": "markdown",
   "id": "ec34c985",
   "metadata": {
    "papermill": {
     "duration": 0.01025,
     "end_time": "2023-12-07T20:14:49.829369",
     "exception": false,
     "start_time": "2023-12-07T20:14:49.819119",
     "status": "completed"
    },
    "tags": []
   },
   "source": [
    "## 5.\n",
    "I'm an economical wine buyer. Which wine is the \"best bargain\"? Create a variable `bargain_wine` with the title of the wine with the highest points-to-price ratio in the dataset."
   ]
  },
  {
   "cell_type": "code",
   "execution_count": 10,
   "id": "3f1cfde5",
   "metadata": {
    "execution": {
     "iopub.execute_input": "2023-12-07T20:14:49.853178Z",
     "iopub.status.busy": "2023-12-07T20:14:49.852795Z",
     "iopub.status.idle": "2023-12-07T20:14:49.870199Z",
     "shell.execute_reply": "2023-12-07T20:14:49.868896Z"
    },
    "papermill": {
     "duration": 0.03231,
     "end_time": "2023-12-07T20:14:49.872986",
     "exception": false,
     "start_time": "2023-12-07T20:14:49.840676",
     "status": "completed"
    },
    "tags": []
   },
   "outputs": [
    {
     "data": {
      "application/javascript": [
       "parent.postMessage({\"jupyterEvent\": \"custom.exercise_interaction\", \"data\": {\"outcomeType\": 1, \"valueTowardsCompletion\": 0.14285714285714285, \"interactionType\": 1, \"questionType\": 2, \"questionId\": \"5_BargainWine\", \"learnToolsVersion\": \"0.3.4\", \"failureMessage\": \"\", \"exceptionClass\": \"\", \"trace\": \"\"}}, \"*\")"
      ],
      "text/plain": [
       "<IPython.core.display.Javascript object>"
      ]
     },
     "metadata": {},
     "output_type": "display_data"
    },
    {
     "data": {
      "text/markdown": [
       "<span style=\"color:#33cc33\">Correct</span>"
      ],
      "text/plain": [
       "Correct"
      ]
     },
     "metadata": {},
     "output_type": "display_data"
    }
   ],
   "source": [
    "bargain_wine = reviews.loc[(reviews.points / reviews.price).idxmax(), 'title']\n",
    "\n",
    "# Check your answer\n",
    "q5.check()"
   ]
  },
  {
   "cell_type": "code",
   "execution_count": 11,
   "id": "81d5cb13",
   "metadata": {
    "execution": {
     "iopub.execute_input": "2023-12-07T20:14:49.897012Z",
     "iopub.status.busy": "2023-12-07T20:14:49.896553Z",
     "iopub.status.idle": "2023-12-07T20:14:49.901447Z",
     "shell.execute_reply": "2023-12-07T20:14:49.900455Z"
    },
    "papermill": {
     "duration": 0.019749,
     "end_time": "2023-12-07T20:14:49.903872",
     "exception": false,
     "start_time": "2023-12-07T20:14:49.884123",
     "status": "completed"
    },
    "tags": []
   },
   "outputs": [],
   "source": [
    "#q5.hint()\n",
    "#q5.solution()"
   ]
  },
  {
   "cell_type": "markdown",
   "id": "bcc65511",
   "metadata": {
    "papermill": {
     "duration": 0.010582,
     "end_time": "2023-12-07T20:14:49.925401",
     "exception": false,
     "start_time": "2023-12-07T20:14:49.914819",
     "status": "completed"
    },
    "tags": []
   },
   "source": [
    "## 6.\n",
    "There are only so many words you can use when describing a bottle of wine. Is a wine more likely to be \"tropical\" or \"fruity\"? Create a Series `descriptor_counts` counting how many times each of these two words appears in the `description` column in the dataset. (For simplicity, let's ignore the capitalized versions of these words.)"
   ]
  },
  {
   "cell_type": "code",
   "execution_count": 12,
   "id": "3f0ca1dc",
   "metadata": {
    "execution": {
     "iopub.execute_input": "2023-12-07T20:14:49.950304Z",
     "iopub.status.busy": "2023-12-07T20:14:49.949545Z",
     "iopub.status.idle": "2023-12-07T20:14:50.121359Z",
     "shell.execute_reply": "2023-12-07T20:14:50.119863Z"
    },
    "papermill": {
     "duration": 0.187117,
     "end_time": "2023-12-07T20:14:50.124435",
     "exception": false,
     "start_time": "2023-12-07T20:14:49.937318",
     "status": "completed"
    },
    "tags": []
   },
   "outputs": [
    {
     "data": {
      "application/javascript": [
       "parent.postMessage({\"jupyterEvent\": \"custom.exercise_interaction\", \"data\": {\"outcomeType\": 1, \"valueTowardsCompletion\": 0.14285714285714285, \"interactionType\": 1, \"questionType\": 1, \"questionId\": \"6_DescriptorCounts\", \"learnToolsVersion\": \"0.3.4\", \"failureMessage\": \"\", \"exceptionClass\": \"\", \"trace\": \"\"}}, \"*\")"
      ],
      "text/plain": [
       "<IPython.core.display.Javascript object>"
      ]
     },
     "metadata": {},
     "output_type": "display_data"
    },
    {
     "data": {
      "text/markdown": [
       "<span style=\"color:#33cc33\">Correct</span>"
      ],
      "text/plain": [
       "Correct"
      ]
     },
     "metadata": {},
     "output_type": "display_data"
    }
   ],
   "source": [
    "descriptor_counts = pd.Series([reviews.description.map(lambda desc: \"tropical\" in desc).sum(), reviews.description.map(lambda desc: \"fruity\" in desc).sum()], index=['tropical', 'fruity'])\n",
    "\n",
    "# Check your answer\n",
    "q6.check()"
   ]
  },
  {
   "cell_type": "code",
   "execution_count": 13,
   "id": "2d15a051",
   "metadata": {
    "execution": {
     "iopub.execute_input": "2023-12-07T20:14:50.150703Z",
     "iopub.status.busy": "2023-12-07T20:14:50.149330Z",
     "iopub.status.idle": "2023-12-07T20:14:50.154719Z",
     "shell.execute_reply": "2023-12-07T20:14:50.153633Z"
    },
    "papermill": {
     "duration": 0.021238,
     "end_time": "2023-12-07T20:14:50.157636",
     "exception": false,
     "start_time": "2023-12-07T20:14:50.136398",
     "status": "completed"
    },
    "tags": []
   },
   "outputs": [],
   "source": [
    "#q6.hint()\n",
    "#q6.solution()"
   ]
  },
  {
   "cell_type": "markdown",
   "id": "d383615f",
   "metadata": {
    "papermill": {
     "duration": 0.011059,
     "end_time": "2023-12-07T20:14:50.180171",
     "exception": false,
     "start_time": "2023-12-07T20:14:50.169112",
     "status": "completed"
    },
    "tags": []
   },
   "source": [
    "## 7.\n",
    "We'd like to host these wine reviews on our website, but a rating system ranging from 80 to 100 points is too hard to understand - we'd like to translate them into simple star ratings. A score of 95 or higher counts as 3 stars, a score of at least 85 but less than 95 is 2 stars. Any other score is 1 star.\n",
    "\n",
    "Also, the Canadian Vintners Association bought a lot of ads on the site, so any wines from Canada should automatically get 3 stars, regardless of points.\n",
    "\n",
    "Create a series `star_ratings` with the number of stars corresponding to each review in the dataset."
   ]
  },
  {
   "cell_type": "code",
   "execution_count": 14,
   "id": "bf2143d3",
   "metadata": {
    "execution": {
     "iopub.execute_input": "2023-12-07T20:14:50.204459Z",
     "iopub.status.busy": "2023-12-07T20:14:50.204002Z",
     "iopub.status.idle": "2023-12-07T20:14:55.522064Z",
     "shell.execute_reply": "2023-12-07T20:14:55.520725Z"
    },
    "papermill": {
     "duration": 5.33326,
     "end_time": "2023-12-07T20:14:55.524607",
     "exception": false,
     "start_time": "2023-12-07T20:14:50.191347",
     "status": "completed"
    },
    "tags": []
   },
   "outputs": [
    {
     "data": {
      "application/javascript": [
       "parent.postMessage({\"jupyterEvent\": \"custom.exercise_interaction\", \"data\": {\"outcomeType\": 1, \"valueTowardsCompletion\": 0.14285714285714285, \"interactionType\": 1, \"questionType\": 1, \"questionId\": \"7_StarRatings\", \"learnToolsVersion\": \"0.3.4\", \"failureMessage\": \"\", \"exceptionClass\": \"\", \"trace\": \"\"}}, \"*\")"
      ],
      "text/plain": [
       "<IPython.core.display.Javascript object>"
      ]
     },
     "metadata": {},
     "output_type": "display_data"
    },
    {
     "data": {
      "text/markdown": [
       "<span style=\"color:#33cc33\">Correct</span>"
      ],
      "text/plain": [
       "Correct"
      ]
     },
     "metadata": {},
     "output_type": "display_data"
    }
   ],
   "source": [
    "def stars(row):\n",
    "    if row.country == 'Canada':\n",
    "        return 3\n",
    "    elif row.points >= 95:\n",
    "        return 3\n",
    "    elif row.points >= 85:\n",
    "        return 2\n",
    "    else:\n",
    "        return 1\n",
    "\n",
    "star_ratings = reviews.apply(stars, axis='columns')\n",
    "\n",
    "# Check your answer\n",
    "q7.check()"
   ]
  },
  {
   "cell_type": "code",
   "execution_count": 15,
   "id": "1850c74b",
   "metadata": {
    "execution": {
     "iopub.execute_input": "2023-12-07T20:14:55.552107Z",
     "iopub.status.busy": "2023-12-07T20:14:55.551275Z",
     "iopub.status.idle": "2023-12-07T20:14:55.555320Z",
     "shell.execute_reply": "2023-12-07T20:14:55.554472Z"
    },
    "papermill": {
     "duration": 0.020122,
     "end_time": "2023-12-07T20:14:55.557623",
     "exception": false,
     "start_time": "2023-12-07T20:14:55.537501",
     "status": "completed"
    },
    "tags": []
   },
   "outputs": [],
   "source": [
    "#q7.hint()\n",
    "#q7.solution()"
   ]
  },
  {
   "cell_type": "markdown",
   "id": "b3838e1d",
   "metadata": {
    "papermill": {
     "duration": 0.012752,
     "end_time": "2023-12-07T20:14:55.583006",
     "exception": false,
     "start_time": "2023-12-07T20:14:55.570254",
     "status": "completed"
    },
    "tags": []
   },
   "source": [
    "# Keep going\n",
    "Continue to **[grouping and sorting](https://www.kaggle.com/residentmario/grouping-and-sorting)**."
   ]
  },
  {
   "cell_type": "markdown",
   "id": "6a505345",
   "metadata": {
    "papermill": {
     "duration": 0.011187,
     "end_time": "2023-12-07T20:14:55.606288",
     "exception": false,
     "start_time": "2023-12-07T20:14:55.595101",
     "status": "completed"
    },
    "tags": []
   },
   "source": [
    "---\n",
    "\n",
    "\n",
    "\n",
    "\n",
    "*Have questions or comments? Visit the [course discussion forum](https://www.kaggle.com/learn/pandas/discussion) to chat with other learners.*"
   ]
  }
 ],
 "metadata": {
  "kaggle": {
   "accelerator": "none",
   "dataSources": [
    {
     "datasetId": 655,
     "sourceId": 1252,
     "sourceType": "datasetVersion"
    },
    {
     "datasetId": 2321,
     "sourceId": 3919,
     "sourceType": "datasetVersion"
    },
    {
     "datasetId": 2894,
     "sourceId": 4877,
     "sourceType": "datasetVersion"
    },
    {
     "datasetId": 3491,
     "sourceId": 5624,
     "sourceType": "datasetVersion"
    },
    {
     "datasetId": 1442,
     "sourceId": 8172,
     "sourceType": "datasetVersion"
    },
    {
     "datasetId": 9366,
     "sourceId": 13206,
     "sourceType": "datasetVersion"
    },
    {
     "datasetId": 179555,
     "sourceId": 403916,
     "sourceType": "datasetVersion"
    },
    {
     "datasetId": 4549,
     "sourceId": 466349,
     "sourceType": "datasetVersion"
    },
    {
     "datasetId": 2478,
     "sourceId": 1151655,
     "sourceType": "datasetVersion"
    },
    {
     "datasetId": 10128,
     "sourceId": 5438389,
     "sourceType": "datasetVersion"
    }
   ],
   "isGpuEnabled": false,
   "isInternetEnabled": false,
   "language": "python",
   "sourceType": "notebook"
  },
  "kernelspec": {
   "display_name": "Python 3",
   "language": "python",
   "name": "python3"
  },
  "language_info": {
   "codemirror_mode": {
    "name": "ipython",
    "version": 3
   },
   "file_extension": ".py",
   "mimetype": "text/x-python",
   "name": "python",
   "nbconvert_exporter": "python",
   "pygments_lexer": "ipython3",
   "version": "3.10.12"
  },
  "papermill": {
   "default_parameters": {},
   "duration": 19.913496,
   "end_time": "2023-12-07T20:14:56.240492",
   "environment_variables": {},
   "exception": null,
   "input_path": "__notebook__.ipynb",
   "output_path": "__notebook__.ipynb",
   "parameters": {},
   "start_time": "2023-12-07T20:14:36.326996",
   "version": "2.4.0"
  }
 },
 "nbformat": 4,
 "nbformat_minor": 5
}
