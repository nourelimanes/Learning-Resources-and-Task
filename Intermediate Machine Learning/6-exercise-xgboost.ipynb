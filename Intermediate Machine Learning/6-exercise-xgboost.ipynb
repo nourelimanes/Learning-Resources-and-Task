{
 "cells": [
  {
   "cell_type": "markdown",
   "id": "86b8e959",
   "metadata": {
    "papermill": {
     "duration": 0.0074,
     "end_time": "2023-12-12T18:49:22.414194",
     "exception": false,
     "start_time": "2023-12-12T18:49:22.406794",
     "status": "completed"
    },
    "tags": []
   },
   "source": [
    "**This notebook is an exercise in the [Intermediate Machine Learning](https://www.kaggle.com/learn/intermediate-machine-learning) course.  You can reference the tutorial at [this link](https://www.kaggle.com/alexisbcook/xgboost).**\n",
    "\n",
    "---\n"
   ]
  },
  {
   "cell_type": "markdown",
   "id": "e572d7ab",
   "metadata": {
    "papermill": {
     "duration": 0.006544,
     "end_time": "2023-12-12T18:49:22.427816",
     "exception": false,
     "start_time": "2023-12-12T18:49:22.421272",
     "status": "completed"
    },
    "tags": []
   },
   "source": [
    "In this exercise, you will use your new knowledge to train a model with **gradient boosting**.\n",
    "\n",
    "# Setup\n",
    "\n",
    "The questions below will give you feedback on your work. Run the following cell to set up the feedback system."
   ]
  },
  {
   "cell_type": "code",
   "execution_count": 1,
   "id": "6d0517a6",
   "metadata": {
    "execution": {
     "iopub.execute_input": "2023-12-12T18:49:22.443821Z",
     "iopub.status.busy": "2023-12-12T18:49:22.443082Z",
     "iopub.status.idle": "2023-12-12T18:49:25.158030Z",
     "shell.execute_reply": "2023-12-12T18:49:25.157113Z"
    },
    "papermill": {
     "duration": 2.726228,
     "end_time": "2023-12-12T18:49:25.160935",
     "exception": false,
     "start_time": "2023-12-12T18:49:22.434707",
     "status": "completed"
    },
    "tags": []
   },
   "outputs": [
    {
     "name": "stdout",
     "output_type": "stream",
     "text": [
      "Setup Complete\n"
     ]
    }
   ],
   "source": [
    "# Set up code checking\n",
    "import os\n",
    "if not os.path.exists(\"../input/train.csv\"):\n",
    "    os.symlink(\"../input/home-data-for-ml-course/train.csv\", \"../input/train.csv\")  \n",
    "    os.symlink(\"../input/home-data-for-ml-course/test.csv\", \"../input/test.csv\") \n",
    "from learntools.core import binder\n",
    "binder.bind(globals())\n",
    "from learntools.ml_intermediate.ex6 import *\n",
    "print(\"Setup Complete\")"
   ]
  },
  {
   "cell_type": "markdown",
   "id": "7187e79d",
   "metadata": {
    "papermill": {
     "duration": 0.007787,
     "end_time": "2023-12-12T18:49:25.176348",
     "exception": false,
     "start_time": "2023-12-12T18:49:25.168561",
     "status": "completed"
    },
    "tags": []
   },
   "source": [
    "You will work with the [Housing Prices Competition for Kaggle Learn Users](https://www.kaggle.com/c/home-data-for-ml-course) dataset from the previous exercise. \n",
    "\n",
    "![Ames Housing dataset image](https://storage.googleapis.com/kaggle-media/learn/images/lTJVG4e.png)\n",
    "\n",
    "Run the next code cell without changes to load the training and validation sets in `X_train`, `X_valid`, `y_train`, and `y_valid`.  The test set is loaded in `X_test`."
   ]
  },
  {
   "cell_type": "code",
   "execution_count": 2,
   "id": "7baeb7ca",
   "metadata": {
    "execution": {
     "iopub.execute_input": "2023-12-12T18:49:25.192474Z",
     "iopub.status.busy": "2023-12-12T18:49:25.192075Z",
     "iopub.status.idle": "2023-12-12T18:49:25.392470Z",
     "shell.execute_reply": "2023-12-12T18:49:25.391430Z"
    },
    "papermill": {
     "duration": 0.211714,
     "end_time": "2023-12-12T18:49:25.395206",
     "exception": false,
     "start_time": "2023-12-12T18:49:25.183492",
     "status": "completed"
    },
    "tags": []
   },
   "outputs": [],
   "source": [
    "import pandas as pd\n",
    "from sklearn.model_selection import train_test_split\n",
    "\n",
    "# Read the data\n",
    "X = pd.read_csv('../input/train.csv', index_col='Id')\n",
    "X_test_full = pd.read_csv('../input/test.csv', index_col='Id')\n",
    "\n",
    "# Remove rows with missing target, separate target from predictors\n",
    "X.dropna(axis=0, subset=['SalePrice'], inplace=True)\n",
    "y = X.SalePrice              \n",
    "X.drop(['SalePrice'], axis=1, inplace=True)\n",
    "\n",
    "# Break off validation set from training data\n",
    "X_train_full, X_valid_full, y_train, y_valid = train_test_split(X, y, train_size=0.8, test_size=0.2,\n",
    "                                                                random_state=0)\n",
    "\n",
    "# \"Cardinality\" means the number of unique values in a column\n",
    "# Select categorical columns with relatively low cardinality (convenient but arbitrary)\n",
    "low_cardinality_cols = [cname for cname in X_train_full.columns if X_train_full[cname].nunique() < 10 and \n",
    "                        X_train_full[cname].dtype == \"object\"]\n",
    "\n",
    "# Select numeric columns\n",
    "numeric_cols = [cname for cname in X_train_full.columns if X_train_full[cname].dtype in ['int64', 'float64']]\n",
    "\n",
    "# Keep selected columns only\n",
    "my_cols = low_cardinality_cols + numeric_cols\n",
    "X_train = X_train_full[my_cols].copy()\n",
    "X_valid = X_valid_full[my_cols].copy()\n",
    "X_test = X_test_full[my_cols].copy()\n",
    "\n",
    "# One-hot encode the data (to shorten the code, we use pandas)\n",
    "X_train = pd.get_dummies(X_train)\n",
    "X_valid = pd.get_dummies(X_valid)\n",
    "X_test = pd.get_dummies(X_test)\n",
    "X_train, X_valid = X_train.align(X_valid, join='left', axis=1)\n",
    "X_train, X_test = X_train.align(X_test, join='left', axis=1)"
   ]
  },
  {
   "cell_type": "markdown",
   "id": "edceb3b1",
   "metadata": {
    "papermill": {
     "duration": 0.007194,
     "end_time": "2023-12-12T18:49:25.409579",
     "exception": false,
     "start_time": "2023-12-12T18:49:25.402385",
     "status": "completed"
    },
    "tags": []
   },
   "source": [
    "# Step 1: Build model\n",
    "\n",
    "### Part A\n",
    "\n",
    "In this step, you'll build and train your first model with gradient boosting.\n",
    "\n",
    "- Begin by setting `my_model_1` to an XGBoost model.  Use the [XGBRegressor](https://xgboost.readthedocs.io/en/latest/python/python_api.html#xgboost.XGBRegressor) class, and set the random seed to 0 (`random_state=0`).  **Leave all other parameters as default.**\n",
    "- Then, fit the model to the training data in `X_train` and `y_train`."
   ]
  },
  {
   "cell_type": "code",
   "execution_count": 3,
   "id": "adec4230",
   "metadata": {
    "execution": {
     "iopub.execute_input": "2023-12-12T18:49:25.425856Z",
     "iopub.status.busy": "2023-12-12T18:49:25.425475Z",
     "iopub.status.idle": "2023-12-12T18:49:25.946425Z",
     "shell.execute_reply": "2023-12-12T18:49:25.945537Z"
    },
    "papermill": {
     "duration": 0.531897,
     "end_time": "2023-12-12T18:49:25.948977",
     "exception": false,
     "start_time": "2023-12-12T18:49:25.417080",
     "status": "completed"
    },
    "tags": []
   },
   "outputs": [
    {
     "data": {
      "application/javascript": [
       "parent.postMessage({\"jupyterEvent\": \"custom.exercise_interaction\", \"data\": {\"outcomeType\": 1, \"valueTowardsCompletion\": 0.5, \"interactionType\": 1, \"questionType\": 2, \"questionId\": \"1.1_Model1A\", \"learnToolsVersion\": \"0.3.4\", \"failureMessage\": \"\", \"exceptionClass\": \"\", \"trace\": \"\"}}, \"*\")"
      ],
      "text/plain": [
       "<IPython.core.display.Javascript object>"
      ]
     },
     "metadata": {},
     "output_type": "display_data"
    },
    {
     "data": {
      "text/markdown": [
       "<span style=\"color:#33cc33\">Correct</span>"
      ],
      "text/plain": [
       "Correct"
      ]
     },
     "metadata": {},
     "output_type": "display_data"
    }
   ],
   "source": [
    "from xgboost import XGBRegressor\n",
    "\n",
    "# Define the model\n",
    "my_model_1 = XGBRegressor(random_state=0) # Your code here\n",
    "\n",
    "# Fit the model\n",
    "my_model_1.fit(X_train, y_train) # Your code here\n",
    "\n",
    "# Check your answer\n",
    "step_1.a.check()"
   ]
  },
  {
   "cell_type": "code",
   "execution_count": 4,
   "id": "8986a22b",
   "metadata": {
    "execution": {
     "iopub.execute_input": "2023-12-12T18:49:25.965791Z",
     "iopub.status.busy": "2023-12-12T18:49:25.965413Z",
     "iopub.status.idle": "2023-12-12T18:49:25.969723Z",
     "shell.execute_reply": "2023-12-12T18:49:25.968645Z"
    },
    "papermill": {
     "duration": 0.014844,
     "end_time": "2023-12-12T18:49:25.971950",
     "exception": false,
     "start_time": "2023-12-12T18:49:25.957106",
     "status": "completed"
    },
    "tags": []
   },
   "outputs": [],
   "source": [
    "# Lines below will give you a hint or solution code\n",
    "#step_1.a.hint()\n",
    "#step_1.a.solution()"
   ]
  },
  {
   "cell_type": "markdown",
   "id": "a6951651",
   "metadata": {
    "papermill": {
     "duration": 0.006981,
     "end_time": "2023-12-12T18:49:25.986143",
     "exception": false,
     "start_time": "2023-12-12T18:49:25.979162",
     "status": "completed"
    },
    "tags": []
   },
   "source": [
    "### Part B\n",
    "\n",
    "Set `predictions_1` to the model's predictions for the validation data.  Recall that the validation features are stored in `X_valid`."
   ]
  },
  {
   "cell_type": "code",
   "execution_count": 5,
   "id": "ced1df3e",
   "metadata": {
    "execution": {
     "iopub.execute_input": "2023-12-12T18:49:26.002069Z",
     "iopub.status.busy": "2023-12-12T18:49:26.001675Z",
     "iopub.status.idle": "2023-12-12T18:49:26.063342Z",
     "shell.execute_reply": "2023-12-12T18:49:26.062451Z"
    },
    "papermill": {
     "duration": 0.072766,
     "end_time": "2023-12-12T18:49:26.065975",
     "exception": false,
     "start_time": "2023-12-12T18:49:25.993209",
     "status": "completed"
    },
    "tags": []
   },
   "outputs": [
    {
     "data": {
      "application/javascript": [
       "parent.postMessage({\"jupyterEvent\": \"custom.exercise_interaction\", \"data\": {\"outcomeType\": 1, \"valueTowardsCompletion\": 0.5, \"interactionType\": 1, \"questionType\": 2, \"questionId\": \"1.2_Model1B\", \"learnToolsVersion\": \"0.3.4\", \"failureMessage\": \"\", \"exceptionClass\": \"\", \"trace\": \"\"}}, \"*\")"
      ],
      "text/plain": [
       "<IPython.core.display.Javascript object>"
      ]
     },
     "metadata": {},
     "output_type": "display_data"
    },
    {
     "data": {
      "text/markdown": [
       "<span style=\"color:#33cc33\">Correct</span>"
      ],
      "text/plain": [
       "Correct"
      ]
     },
     "metadata": {},
     "output_type": "display_data"
    }
   ],
   "source": [
    "from sklearn.metrics import mean_absolute_error\n",
    "\n",
    "# Get predictions\n",
    "predictions_1 = my_model_1.predict(X_valid) # Your code here\n",
    "\n",
    "# Check your answer\n",
    "step_1.b.check()"
   ]
  },
  {
   "cell_type": "code",
   "execution_count": 6,
   "id": "d37dd73c",
   "metadata": {
    "execution": {
     "iopub.execute_input": "2023-12-12T18:49:26.084046Z",
     "iopub.status.busy": "2023-12-12T18:49:26.083663Z",
     "iopub.status.idle": "2023-12-12T18:49:26.088015Z",
     "shell.execute_reply": "2023-12-12T18:49:26.086876Z"
    },
    "papermill": {
     "duration": 0.016054,
     "end_time": "2023-12-12T18:49:26.090383",
     "exception": false,
     "start_time": "2023-12-12T18:49:26.074329",
     "status": "completed"
    },
    "tags": []
   },
   "outputs": [],
   "source": [
    "# Lines below will give you a hint or solution code\n",
    "#step_1.b.hint()\n",
    "#step_1.b.solution()"
   ]
  },
  {
   "cell_type": "markdown",
   "id": "91362d7a",
   "metadata": {
    "papermill": {
     "duration": 0.00754,
     "end_time": "2023-12-12T18:49:26.105723",
     "exception": false,
     "start_time": "2023-12-12T18:49:26.098183",
     "status": "completed"
    },
    "tags": []
   },
   "source": [
    "### Part C\n",
    "\n",
    "Finally, use the `mean_absolute_error()` function to calculate the mean absolute error (MAE) corresponding to the predictions for the validation set.  Recall that the labels for the validation data are stored in `y_valid`."
   ]
  },
  {
   "cell_type": "code",
   "execution_count": 7,
   "id": "84235a9a",
   "metadata": {
    "execution": {
     "iopub.execute_input": "2023-12-12T18:49:26.123611Z",
     "iopub.status.busy": "2023-12-12T18:49:26.122787Z",
     "iopub.status.idle": "2023-12-12T18:49:26.134763Z",
     "shell.execute_reply": "2023-12-12T18:49:26.133624Z"
    },
    "papermill": {
     "duration": 0.023713,
     "end_time": "2023-12-12T18:49:26.137224",
     "exception": false,
     "start_time": "2023-12-12T18:49:26.113511",
     "status": "completed"
    },
    "tags": []
   },
   "outputs": [
    {
     "data": {
      "application/javascript": [
       "parent.postMessage({\"jupyterEvent\": \"custom.exercise_interaction\", \"data\": {\"outcomeType\": 1, \"valueTowardsCompletion\": 0.5, \"interactionType\": 1, \"questionType\": 2, \"questionId\": \"1.3_Model1C\", \"learnToolsVersion\": \"0.3.4\", \"failureMessage\": \"\", \"exceptionClass\": \"\", \"trace\": \"\"}}, \"*\")"
      ],
      "text/plain": [
       "<IPython.core.display.Javascript object>"
      ]
     },
     "metadata": {},
     "output_type": "display_data"
    },
    {
     "data": {
      "text/markdown": [
       "<span style=\"color:#33cc33\">Correct</span>"
      ],
      "text/plain": [
       "Correct"
      ]
     },
     "metadata": {},
     "output_type": "display_data"
    }
   ],
   "source": [
    "# Calculate MAE\n",
    "mae_1 = mean_absolute_error(predictions_1, y_valid) # Your code here\n",
    "\n",
    "# Uncomment to print MAE\n",
    "# print(\"Mean Absolute Error:\" , mae_1)\n",
    "\n",
    "# Check your answer\n",
    "step_1.c.check()"
   ]
  },
  {
   "cell_type": "code",
   "execution_count": 8,
   "id": "e3e0bff6",
   "metadata": {
    "execution": {
     "iopub.execute_input": "2023-12-12T18:49:26.155572Z",
     "iopub.status.busy": "2023-12-12T18:49:26.154601Z",
     "iopub.status.idle": "2023-12-12T18:49:26.159675Z",
     "shell.execute_reply": "2023-12-12T18:49:26.158744Z"
    },
    "papermill": {
     "duration": 0.016791,
     "end_time": "2023-12-12T18:49:26.162041",
     "exception": false,
     "start_time": "2023-12-12T18:49:26.145250",
     "status": "completed"
    },
    "tags": []
   },
   "outputs": [],
   "source": [
    "# Lines below will give you a hint or solution code\n",
    "#step_1.c.hint()\n",
    "#step_1.c.solution()"
   ]
  },
  {
   "cell_type": "markdown",
   "id": "5cbf9ed7",
   "metadata": {
    "papermill": {
     "duration": 0.007701,
     "end_time": "2023-12-12T18:49:26.178049",
     "exception": false,
     "start_time": "2023-12-12T18:49:26.170348",
     "status": "completed"
    },
    "tags": []
   },
   "source": [
    "# Step 2: Improve the model\n",
    "\n",
    "Now that you've trained a default model as baseline, it's time to tinker with the parameters, to see if you can get better performance!\n",
    "- Begin by setting `my_model_2` to an XGBoost model, using the [XGBRegressor](https://xgboost.readthedocs.io/en/latest/python/python_api.html#xgboost.XGBRegressor) class.  Use what you learned in the previous tutorial to figure out how to change the default parameters (like `n_estimators` and `learning_rate`) to get better results.\n",
    "- Then, fit the model to the training data in `X_train` and `y_train`.\n",
    "- Set `predictions_2` to the model's predictions for the validation data.  Recall that the validation features are stored in `X_valid`.\n",
    "- Finally, use the `mean_absolute_error()` function to calculate the mean absolute error (MAE) corresponding to the predictions on the validation set.  Recall that the labels for the validation data are stored in `y_valid`.\n",
    "\n",
    "In order for this step to be marked correct, your model in `my_model_2` must attain lower MAE than the model in `my_model_1`. "
   ]
  },
  {
   "cell_type": "code",
   "execution_count": 9,
   "id": "2f19b23d",
   "metadata": {
    "execution": {
     "iopub.execute_input": "2023-12-12T18:49:26.196407Z",
     "iopub.status.busy": "2023-12-12T18:49:26.195455Z",
     "iopub.status.idle": "2023-12-12T18:49:30.733363Z",
     "shell.execute_reply": "2023-12-12T18:49:30.731751Z"
    },
    "papermill": {
     "duration": 4.550128,
     "end_time": "2023-12-12T18:49:30.736177",
     "exception": false,
     "start_time": "2023-12-12T18:49:26.186049",
     "status": "completed"
    },
    "tags": []
   },
   "outputs": [
    {
     "name": "stdout",
     "output_type": "stream",
     "text": [
      "Mean Absolute Error: 17224.27947078339\n"
     ]
    },
    {
     "data": {
      "application/javascript": [
       "parent.postMessage({\"jupyterEvent\": \"custom.exercise_interaction\", \"data\": {\"outcomeType\": 1, \"valueTowardsCompletion\": 0.5, \"interactionType\": 1, \"questionType\": 2, \"questionId\": \"2_Model2\", \"learnToolsVersion\": \"0.3.4\", \"failureMessage\": \"\", \"exceptionClass\": \"\", \"trace\": \"\"}}, \"*\")"
      ],
      "text/plain": [
       "<IPython.core.display.Javascript object>"
      ]
     },
     "metadata": {},
     "output_type": "display_data"
    },
    {
     "data": {
      "text/markdown": [
       "<span style=\"color:#33cc33\">Correct</span>"
      ],
      "text/plain": [
       "Correct"
      ]
     },
     "metadata": {},
     "output_type": "display_data"
    }
   ],
   "source": [
    "# Define the model\n",
    "my_model_2 = XGBRegressor(n_estimators=1000, learning_rate=0.05) # Your code here\n",
    "\n",
    "# Fit the model\n",
    "my_model_2.fit(X_train, y_train) # Your code here\n",
    "\n",
    "# Get predictions\n",
    "predictions_2 = my_model_2.predict(X_valid) # Your code here\n",
    "\n",
    "# Calculate MAE\n",
    "mae_2 = mean_absolute_error(predictions_2, y_valid) # Your code here\n",
    "\n",
    "# Uncomment to print MAE\n",
    "print(\"Mean Absolute Error:\" , mae_2)\n",
    "\n",
    "# Check your answer\n",
    "step_2.check()"
   ]
  },
  {
   "cell_type": "code",
   "execution_count": 10,
   "id": "2e3aa385",
   "metadata": {
    "execution": {
     "iopub.execute_input": "2023-12-12T18:49:30.756642Z",
     "iopub.status.busy": "2023-12-12T18:49:30.756257Z",
     "iopub.status.idle": "2023-12-12T18:49:30.760843Z",
     "shell.execute_reply": "2023-12-12T18:49:30.759469Z"
    },
    "papermill": {
     "duration": 0.017,
     "end_time": "2023-12-12T18:49:30.763289",
     "exception": false,
     "start_time": "2023-12-12T18:49:30.746289",
     "status": "completed"
    },
    "tags": []
   },
   "outputs": [],
   "source": [
    "# Lines below will give you a hint or solution code\n",
    "#step_2.hint()\n",
    "#step_2.solution()"
   ]
  },
  {
   "cell_type": "markdown",
   "id": "bf533cea",
   "metadata": {
    "papermill": {
     "duration": 0.008104,
     "end_time": "2023-12-12T18:49:30.779632",
     "exception": false,
     "start_time": "2023-12-12T18:49:30.771528",
     "status": "completed"
    },
    "tags": []
   },
   "source": [
    "# Step 3: Break the model\n",
    "\n",
    "In this step, you will create a model that performs worse than the original model in Step 1.  This will help you to develop your intuition for how to set parameters.  You might even find that you accidentally get better performance, which is ultimately a nice problem to have and a valuable learning experience!\n",
    "- Begin by setting `my_model_3` to an XGBoost model, using the [XGBRegressor](https://xgboost.readthedocs.io/en/latest/python/python_api.html#xgboost.XGBRegressor) class.  Use what you learned in the previous tutorial to figure out how to change the default parameters (like `n_estimators` and `learning_rate`) to design a model to get high MAE.\n",
    "- Then, fit the model to the training data in `X_train` and `y_train`.\n",
    "- Set `predictions_3` to the model's predictions for the validation data.  Recall that the validation features are stored in `X_valid`.\n",
    "- Finally, use the `mean_absolute_error()` function to calculate the mean absolute error (MAE) corresponding to the predictions on the validation set.  Recall that the labels for the validation data are stored in `y_valid`.\n",
    "\n",
    "In order for this step to be marked correct, your model in `my_model_3` must attain higher MAE than the model in `my_model_1`. "
   ]
  },
  {
   "cell_type": "code",
   "execution_count": 11,
   "id": "e9b33e43",
   "metadata": {
    "execution": {
     "iopub.execute_input": "2023-12-12T18:49:30.798482Z",
     "iopub.status.busy": "2023-12-12T18:49:30.798097Z",
     "iopub.status.idle": "2023-12-12T18:49:30.961196Z",
     "shell.execute_reply": "2023-12-12T18:49:30.960038Z"
    },
    "papermill": {
     "duration": 0.175377,
     "end_time": "2023-12-12T18:49:30.963569",
     "exception": false,
     "start_time": "2023-12-12T18:49:30.788192",
     "status": "completed"
    },
    "tags": []
   },
   "outputs": [
    {
     "name": "stdout",
     "output_type": "stream",
     "text": [
      "Mean Absolute Error: 42678.815550085616\n"
     ]
    },
    {
     "data": {
      "application/javascript": [
       "parent.postMessage({\"jupyterEvent\": \"custom.exercise_interaction\", \"data\": {\"outcomeType\": 1, \"valueTowardsCompletion\": 0.5, \"interactionType\": 1, \"questionType\": 2, \"questionId\": \"3_Model3\", \"learnToolsVersion\": \"0.3.4\", \"failureMessage\": \"\", \"exceptionClass\": \"\", \"trace\": \"\"}}, \"*\")"
      ],
      "text/plain": [
       "<IPython.core.display.Javascript object>"
      ]
     },
     "metadata": {},
     "output_type": "display_data"
    },
    {
     "data": {
      "text/markdown": [
       "<span style=\"color:#33cc33\">Correct</span>"
      ],
      "text/plain": [
       "Correct"
      ]
     },
     "metadata": {},
     "output_type": "display_data"
    }
   ],
   "source": [
    "# Define the model\n",
    "my_model_3 = XGBRegressor(n_estimators=1)\n",
    "\n",
    "# Fit the model\n",
    "my_model_3.fit(X_train, y_train) # Your code here\n",
    "\n",
    "# Get predictions\n",
    "predictions_3 = my_model_3.predict(X_valid)\n",
    "\n",
    "# Calculate MAE\n",
    "mae_3 = mean_absolute_error(predictions_3, y_valid)\n",
    "\n",
    "# Uncomment to print MAE\n",
    "print(\"Mean Absolute Error:\" , mae_3)\n",
    "\n",
    "# Check your answer\n",
    "step_3.check()"
   ]
  },
  {
   "cell_type": "code",
   "execution_count": 12,
   "id": "f8910e94",
   "metadata": {
    "execution": {
     "iopub.execute_input": "2023-12-12T18:49:30.984778Z",
     "iopub.status.busy": "2023-12-12T18:49:30.984249Z",
     "iopub.status.idle": "2023-12-12T18:49:30.989043Z",
     "shell.execute_reply": "2023-12-12T18:49:30.987964Z"
    },
    "papermill": {
     "duration": 0.017538,
     "end_time": "2023-12-12T18:49:30.991376",
     "exception": false,
     "start_time": "2023-12-12T18:49:30.973838",
     "status": "completed"
    },
    "tags": []
   },
   "outputs": [],
   "source": [
    "# Lines below will give you a hint or solution code\n",
    "#step_3.hint()\n",
    "#step_3.solution()"
   ]
  },
  {
   "cell_type": "markdown",
   "id": "8138069e",
   "metadata": {
    "papermill": {
     "duration": 0.008704,
     "end_time": "2023-12-12T18:49:31.008963",
     "exception": false,
     "start_time": "2023-12-12T18:49:31.000259",
     "status": "completed"
    },
    "tags": []
   },
   "source": [
    "# Keep going\n",
    "\n",
    "Continue to learn about **[data leakage](https://www.kaggle.com/alexisbcook/data-leakage)**.  This is an important issue for a data scientist to understand, and it has the potential to ruin your models in subtle and dangerous ways!"
   ]
  },
  {
   "cell_type": "markdown",
   "id": "f4328d8e",
   "metadata": {
    "papermill": {
     "duration": 0.008621,
     "end_time": "2023-12-12T18:49:31.026451",
     "exception": false,
     "start_time": "2023-12-12T18:49:31.017830",
     "status": "completed"
    },
    "tags": []
   },
   "source": [
    "---\n",
    "\n",
    "\n",
    "\n",
    "\n",
    "*Have questions or comments? Visit the [course discussion forum](https://www.kaggle.com/learn/intermediate-machine-learning/discussion) to chat with other learners.*"
   ]
  }
 ],
 "metadata": {
  "kaggle": {
   "accelerator": "none",
   "dataSources": [
    {
     "databundleVersionId": 111096,
     "sourceId": 10211,
     "sourceType": "competition"
    }
   ],
   "isGpuEnabled": false,
   "isInternetEnabled": false,
   "language": "python",
   "sourceType": "notebook"
  },
  "kernelspec": {
   "display_name": "Python 3",
   "language": "python",
   "name": "python3"
  },
  "language_info": {
   "codemirror_mode": {
    "name": "ipython",
    "version": 3
   },
   "file_extension": ".py",
   "mimetype": "text/x-python",
   "name": "python",
   "nbconvert_exporter": "python",
   "pygments_lexer": "ipython3",
   "version": "3.10.12"
  },
  "papermill": {
   "default_parameters": {},
   "duration": 12.682401,
   "end_time": "2023-12-12T18:49:31.659218",
   "environment_variables": {},
   "exception": null,
   "input_path": "__notebook__.ipynb",
   "output_path": "__notebook__.ipynb",
   "parameters": {},
   "start_time": "2023-12-12T18:49:18.976817",
   "version": "2.4.0"
  }
 },
 "nbformat": 4,
 "nbformat_minor": 5
}
