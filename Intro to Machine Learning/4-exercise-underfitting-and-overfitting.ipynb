{
 "cells": [
  {
   "cell_type": "markdown",
   "id": "8d8d91f4",
   "metadata": {
    "papermill": {
     "duration": 0.00563,
     "end_time": "2023-12-09T13:06:43.305250",
     "exception": false,
     "start_time": "2023-12-09T13:06:43.299620",
     "status": "completed"
    },
    "tags": []
   },
   "source": [
    "**This notebook is an exercise in the [Introduction to Machine Learning](https://www.kaggle.com/learn/intro-to-machine-learning) course.  You can reference the tutorial at [this link](https://www.kaggle.com/dansbecker/underfitting-and-overfitting).**\n",
    "\n",
    "---\n"
   ]
  },
  {
   "cell_type": "markdown",
   "id": "6aa747bc",
   "metadata": {
    "papermill": {
     "duration": 0.004614,
     "end_time": "2023-12-09T13:06:43.315211",
     "exception": false,
     "start_time": "2023-12-09T13:06:43.310597",
     "status": "completed"
    },
    "tags": []
   },
   "source": [
    "## Recap\n",
    "You've built your first model, and now it's time to optimize the size of the tree to make better predictions. Run this cell to set up your coding environment where the previous step left off."
   ]
  },
  {
   "cell_type": "code",
   "execution_count": 1,
   "id": "5f6ed0d5",
   "metadata": {
    "execution": {
     "iopub.execute_input": "2023-12-09T13:06:43.328091Z",
     "iopub.status.busy": "2023-12-09T13:06:43.326740Z",
     "iopub.status.idle": "2023-12-09T13:06:46.082591Z",
     "shell.execute_reply": "2023-12-09T13:06:46.081242Z"
    },
    "papermill": {
     "duration": 2.76554,
     "end_time": "2023-12-09T13:06:46.085602",
     "exception": false,
     "start_time": "2023-12-09T13:06:43.320062",
     "status": "completed"
    },
    "tags": []
   },
   "outputs": [
    {
     "name": "stdout",
     "output_type": "stream",
     "text": [
      "Validation MAE: 29,653\n",
      "\n",
      "Setup complete\n"
     ]
    }
   ],
   "source": [
    "# Code you have previously used to load data\n",
    "import pandas as pd\n",
    "from sklearn.metrics import mean_absolute_error\n",
    "from sklearn.model_selection import train_test_split\n",
    "from sklearn.tree import DecisionTreeRegressor\n",
    "\n",
    "\n",
    "# Path of the file to read\n",
    "iowa_file_path = '../input/home-data-for-ml-course/train.csv'\n",
    "\n",
    "home_data = pd.read_csv(iowa_file_path)\n",
    "# Create target object and call it y\n",
    "y = home_data.SalePrice\n",
    "# Create X\n",
    "features = ['LotArea', 'YearBuilt', '1stFlrSF', '2ndFlrSF', 'FullBath', 'BedroomAbvGr', 'TotRmsAbvGrd']\n",
    "X = home_data[features]\n",
    "\n",
    "# Split into validation and training data\n",
    "train_X, val_X, train_y, val_y = train_test_split(X, y, random_state=1)\n",
    "\n",
    "# Specify Model\n",
    "iowa_model = DecisionTreeRegressor(random_state=1)\n",
    "# Fit Model\n",
    "iowa_model.fit(train_X, train_y)\n",
    "\n",
    "# Make validation predictions and calculate mean absolute error\n",
    "val_predictions = iowa_model.predict(val_X)\n",
    "val_mae = mean_absolute_error(val_predictions, val_y)\n",
    "print(\"Validation MAE: {:,.0f}\".format(val_mae))\n",
    "\n",
    "# Set up code checking\n",
    "from learntools.core import binder\n",
    "binder.bind(globals())\n",
    "from learntools.machine_learning.ex5 import *\n",
    "print(\"\\nSetup complete\")"
   ]
  },
  {
   "cell_type": "markdown",
   "id": "3d5678a0",
   "metadata": {
    "papermill": {
     "duration": 0.004873,
     "end_time": "2023-12-09T13:06:46.096192",
     "exception": false,
     "start_time": "2023-12-09T13:06:46.091319",
     "status": "completed"
    },
    "tags": []
   },
   "source": [
    "# Exercises\n",
    "You could write the function `get_mae` yourself. For now, we'll supply it. This is the same function you read about in the previous lesson. Just run the cell below."
   ]
  },
  {
   "cell_type": "code",
   "execution_count": 2,
   "id": "e855cd9a",
   "metadata": {
    "execution": {
     "iopub.execute_input": "2023-12-09T13:06:46.109024Z",
     "iopub.status.busy": "2023-12-09T13:06:46.108239Z",
     "iopub.status.idle": "2023-12-09T13:06:46.115258Z",
     "shell.execute_reply": "2023-12-09T13:06:46.113961Z"
    },
    "papermill": {
     "duration": 0.016402,
     "end_time": "2023-12-09T13:06:46.117917",
     "exception": false,
     "start_time": "2023-12-09T13:06:46.101515",
     "status": "completed"
    },
    "tags": []
   },
   "outputs": [],
   "source": [
    "def get_mae(max_leaf_nodes, train_X, val_X, train_y, val_y):\n",
    "    model = DecisionTreeRegressor(max_leaf_nodes=max_leaf_nodes, random_state=0)\n",
    "    model.fit(train_X, train_y)\n",
    "    preds_val = model.predict(val_X)\n",
    "    mae = mean_absolute_error(val_y, preds_val)\n",
    "    return(mae)"
   ]
  },
  {
   "cell_type": "markdown",
   "id": "f830d2b7",
   "metadata": {
    "papermill": {
     "duration": 0.004609,
     "end_time": "2023-12-09T13:06:46.127612",
     "exception": false,
     "start_time": "2023-12-09T13:06:46.123003",
     "status": "completed"
    },
    "tags": []
   },
   "source": [
    "## Step 1: Compare Different Tree Sizes\n",
    "Write a loop that tries the following values for *max_leaf_nodes* from a set of possible values.\n",
    "\n",
    "Call the *get_mae* function on each value of max_leaf_nodes. Store the output in some way that allows you to select the value of `max_leaf_nodes` that gives the most accurate model on your data."
   ]
  },
  {
   "cell_type": "code",
   "execution_count": 3,
   "id": "df36b6a8",
   "metadata": {
    "execution": {
     "iopub.execute_input": "2023-12-09T13:06:46.139282Z",
     "iopub.status.busy": "2023-12-09T13:06:46.138891Z",
     "iopub.status.idle": "2023-12-09T13:06:46.196231Z",
     "shell.execute_reply": "2023-12-09T13:06:46.194988Z"
    },
    "papermill": {
     "duration": 0.066498,
     "end_time": "2023-12-09T13:06:46.199120",
     "exception": false,
     "start_time": "2023-12-09T13:06:46.132622",
     "status": "completed"
    },
    "tags": []
   },
   "outputs": [
    {
     "data": {
      "application/javascript": [
       "parent.postMessage({\"jupyterEvent\": \"custom.exercise_interaction\", \"data\": {\"outcomeType\": 1, \"valueTowardsCompletion\": 0.5, \"interactionType\": 1, \"questionType\": 1, \"questionId\": \"1_BestTreeSize\", \"learnToolsVersion\": \"0.3.4\", \"failureMessage\": \"\", \"exceptionClass\": \"\", \"trace\": \"\"}}, \"*\")"
      ],
      "text/plain": [
       "<IPython.core.display.Javascript object>"
      ]
     },
     "metadata": {},
     "output_type": "display_data"
    },
    {
     "data": {
      "text/markdown": [
       "<span style=\"color:#33cc33\">Correct</span>"
      ],
      "text/plain": [
       "Correct"
      ]
     },
     "metadata": {},
     "output_type": "display_data"
    }
   ],
   "source": [
    "candidate_max_leaf_nodes = [5, 25, 50, 100, 250, 500]\n",
    "# Write loop to find the ideal tree size from candidate_max_leaf_nodes\n",
    "scores = {leaf_size: get_mae(leaf_size, train_X, val_X, train_y, val_y) for leaf_size in candidate_max_leaf_nodes}\n",
    "\n",
    "# Store the best value of max_leaf_nodes (it will be either 5, 25, 50, 100, 250 or 500)\n",
    "best_tree_size = min(scores, key=scores.get)\n",
    "\n",
    "# Check your answer\n",
    "step_1.check()"
   ]
  },
  {
   "cell_type": "code",
   "execution_count": 4,
   "id": "e3e1d1e2",
   "metadata": {
    "execution": {
     "iopub.execute_input": "2023-12-09T13:06:46.211923Z",
     "iopub.status.busy": "2023-12-09T13:06:46.211506Z",
     "iopub.status.idle": "2023-12-09T13:06:46.216495Z",
     "shell.execute_reply": "2023-12-09T13:06:46.215306Z"
    },
    "papermill": {
     "duration": 0.014479,
     "end_time": "2023-12-09T13:06:46.219163",
     "exception": false,
     "start_time": "2023-12-09T13:06:46.204684",
     "status": "completed"
    },
    "tags": []
   },
   "outputs": [],
   "source": [
    "# The lines below will show you a hint or the solution.\n",
    "# step_1.hint() \n",
    "# step_1.solution()"
   ]
  },
  {
   "cell_type": "markdown",
   "id": "3a4ab942",
   "metadata": {
    "papermill": {
     "duration": 0.005062,
     "end_time": "2023-12-09T13:06:46.229512",
     "exception": false,
     "start_time": "2023-12-09T13:06:46.224450",
     "status": "completed"
    },
    "tags": []
   },
   "source": [
    "## Step 2: Fit Model Using All Data\n",
    "You know the best tree size. If you were going to deploy this model in practice, you would make it even more accurate by using all of the data and keeping that tree size.  That is, you don't need to hold out the validation data now that you've made all your modeling decisions."
   ]
  },
  {
   "cell_type": "code",
   "execution_count": 5,
   "id": "342524a2",
   "metadata": {
    "execution": {
     "iopub.execute_input": "2023-12-09T13:06:46.242723Z",
     "iopub.status.busy": "2023-12-09T13:06:46.242270Z",
     "iopub.status.idle": "2023-12-09T13:06:46.263175Z",
     "shell.execute_reply": "2023-12-09T13:06:46.261785Z"
    },
    "papermill": {
     "duration": 0.030262,
     "end_time": "2023-12-09T13:06:46.265674",
     "exception": false,
     "start_time": "2023-12-09T13:06:46.235412",
     "status": "completed"
    },
    "tags": []
   },
   "outputs": [
    {
     "data": {
      "application/javascript": [
       "parent.postMessage({\"jupyterEvent\": \"custom.exercise_interaction\", \"data\": {\"outcomeType\": 1, \"valueTowardsCompletion\": 0.5, \"interactionType\": 1, \"questionType\": 2, \"questionId\": \"2_FitModelWithAllData\", \"learnToolsVersion\": \"0.3.4\", \"failureMessage\": \"\", \"exceptionClass\": \"\", \"trace\": \"\"}}, \"*\")"
      ],
      "text/plain": [
       "<IPython.core.display.Javascript object>"
      ]
     },
     "metadata": {},
     "output_type": "display_data"
    },
    {
     "data": {
      "text/markdown": [
       "<span style=\"color:#33cc33\">Correct</span>"
      ],
      "text/plain": [
       "Correct"
      ]
     },
     "metadata": {},
     "output_type": "display_data"
    }
   ],
   "source": [
    "# Fill in argument to make optimal size and uncomment\n",
    "final_model = DecisionTreeRegressor(max_leaf_nodes=best_tree_size, random_state=1)\n",
    "\n",
    "# fit the final model and uncomment the next two lines\n",
    "final_model.fit(X, y)\n",
    "\n",
    "# Check your answer\n",
    "step_2.check()"
   ]
  },
  {
   "cell_type": "code",
   "execution_count": 6,
   "id": "42fdbed1",
   "metadata": {
    "execution": {
     "iopub.execute_input": "2023-12-09T13:06:46.279018Z",
     "iopub.status.busy": "2023-12-09T13:06:46.278565Z",
     "iopub.status.idle": "2023-12-09T13:06:46.282544Z",
     "shell.execute_reply": "2023-12-09T13:06:46.281659Z"
    },
    "papermill": {
     "duration": 0.013603,
     "end_time": "2023-12-09T13:06:46.284992",
     "exception": false,
     "start_time": "2023-12-09T13:06:46.271389",
     "status": "completed"
    },
    "tags": []
   },
   "outputs": [],
   "source": [
    "# step_2.hint()\n",
    "# step_2.solution()"
   ]
  },
  {
   "cell_type": "markdown",
   "id": "7fb8ec49",
   "metadata": {
    "papermill": {
     "duration": 0.005384,
     "end_time": "2023-12-09T13:06:46.296223",
     "exception": false,
     "start_time": "2023-12-09T13:06:46.290839",
     "status": "completed"
    },
    "tags": []
   },
   "source": [
    "You've tuned this model and improved your results. But we are still using Decision Tree models, which are not very sophisticated by modern machine learning standards. In the next step you will learn to use Random Forests to improve your models even more.\n",
    "\n",
    "# Keep Going\n",
    "\n",
    "You are ready for **[Random Forests](https://www.kaggle.com/dansbecker/random-forests).**\n"
   ]
  },
  {
   "cell_type": "markdown",
   "id": "2a269964",
   "metadata": {
    "papermill": {
     "duration": 0.005163,
     "end_time": "2023-12-09T13:06:46.306964",
     "exception": false,
     "start_time": "2023-12-09T13:06:46.301801",
     "status": "completed"
    },
    "tags": []
   },
   "source": [
    "---\n",
    "\n",
    "\n",
    "\n",
    "\n",
    "*Have questions or comments? Visit the [course discussion forum](https://www.kaggle.com/learn/intro-to-machine-learning/discussion) to chat with other learners.*"
   ]
  }
 ],
 "metadata": {
  "kaggle": {
   "accelerator": "none",
   "dataSources": [
    {
     "databundleVersionId": 111096,
     "sourceId": 10211,
     "sourceType": "competition"
    },
    {
     "datasetId": 11167,
     "sourceId": 15520,
     "sourceType": "datasetVersion"
    },
    {
     "datasetId": 2709,
     "sourceId": 38454,
     "sourceType": "datasetVersion"
    }
   ],
   "isGpuEnabled": false,
   "isInternetEnabled": false,
   "language": "python",
   "sourceType": "notebook"
  },
  "kernelspec": {
   "display_name": "Python 3",
   "language": "python",
   "name": "python3"
  },
  "language_info": {
   "codemirror_mode": {
    "name": "ipython",
    "version": 3
   },
   "file_extension": ".py",
   "mimetype": "text/x-python",
   "name": "python",
   "nbconvert_exporter": "python",
   "pygments_lexer": "ipython3",
   "version": "3.10.12"
  },
  "papermill": {
   "default_parameters": {},
   "duration": 7.644596,
   "end_time": "2023-12-09T13:06:47.036497",
   "environment_variables": {},
   "exception": null,
   "input_path": "__notebook__.ipynb",
   "output_path": "__notebook__.ipynb",
   "parameters": {},
   "start_time": "2023-12-09T13:06:39.391901",
   "version": "2.4.0"
  }
 },
 "nbformat": 4,
 "nbformat_minor": 5
}
