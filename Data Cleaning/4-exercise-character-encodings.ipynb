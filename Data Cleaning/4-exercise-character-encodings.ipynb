{
 "cells": [
  {
   "cell_type": "markdown",
   "id": "03f4a4c8",
   "metadata": {
    "papermill": {
     "duration": 0.006776,
     "end_time": "2023-12-05T17:32:15.535455",
     "exception": false,
     "start_time": "2023-12-05T17:32:15.528679",
     "status": "completed"
    },
    "tags": []
   },
   "source": [
    "**This notebook is an exercise in the [Data Cleaning](https://www.kaggle.com/learn/data-cleaning) course.  You can reference the tutorial at [this link](https://www.kaggle.com/alexisbcook/character-encodings).**\n",
    "\n",
    "---\n"
   ]
  },
  {
   "cell_type": "markdown",
   "id": "2ade1b82",
   "metadata": {
    "papermill": {
     "duration": 0.006176,
     "end_time": "2023-12-05T17:32:15.550059",
     "exception": false,
     "start_time": "2023-12-05T17:32:15.543883",
     "status": "completed"
    },
    "tags": []
   },
   "source": [
    "In this exercise, you'll apply what you learned in the **Character encodings** tutorial.\n",
    "\n",
    "# Setup\n",
    "\n",
    "The questions below will give you feedback on your work. Run the following cell to set up the feedback system."
   ]
  },
  {
   "cell_type": "code",
   "execution_count": 1,
   "id": "92dd796f",
   "metadata": {
    "execution": {
     "iopub.execute_input": "2023-12-05T17:32:15.565048Z",
     "iopub.status.busy": "2023-12-05T17:32:15.564021Z",
     "iopub.status.idle": "2023-12-05T17:32:16.100799Z",
     "shell.execute_reply": "2023-12-05T17:32:16.100010Z"
    },
    "papermill": {
     "duration": 0.54693,
     "end_time": "2023-12-05T17:32:16.103295",
     "exception": false,
     "start_time": "2023-12-05T17:32:15.556365",
     "status": "completed"
    },
    "tags": []
   },
   "outputs": [
    {
     "name": "stdout",
     "output_type": "stream",
     "text": [
      "Setup Complete\n"
     ]
    }
   ],
   "source": [
    "from learntools.core import binder\n",
    "binder.bind(globals())\n",
    "from learntools.data_cleaning.ex4 import *\n",
    "print(\"Setup Complete\")"
   ]
  },
  {
   "cell_type": "markdown",
   "id": "8b6dcc85",
   "metadata": {
    "papermill": {
     "duration": 0.006187,
     "end_time": "2023-12-05T17:32:16.115893",
     "exception": false,
     "start_time": "2023-12-05T17:32:16.109706",
     "status": "completed"
    },
    "tags": []
   },
   "source": [
    "# Get our environment set up\n",
    "\n",
    "The first thing we'll need to do is load in the libraries we'll be using."
   ]
  },
  {
   "cell_type": "code",
   "execution_count": 2,
   "id": "1c83714f",
   "metadata": {
    "execution": {
     "iopub.execute_input": "2023-12-05T17:32:16.130410Z",
     "iopub.status.busy": "2023-12-05T17:32:16.129460Z",
     "iopub.status.idle": "2023-12-05T17:32:16.134265Z",
     "shell.execute_reply": "2023-12-05T17:32:16.133559Z"
    },
    "papermill": {
     "duration": 0.014657,
     "end_time": "2023-12-05T17:32:16.136538",
     "exception": false,
     "start_time": "2023-12-05T17:32:16.121881",
     "status": "completed"
    },
    "tags": []
   },
   "outputs": [],
   "source": [
    "# modules we'll use\n",
    "import pandas as pd\n",
    "import numpy as np\n",
    "\n",
    "# helpful character encoding module\n",
    "import charset_normalizer\n",
    "\n",
    "# set seed for reproducibility\n",
    "np.random.seed(0)"
   ]
  },
  {
   "cell_type": "markdown",
   "id": "35fa932b",
   "metadata": {
    "papermill": {
     "duration": 0.005981,
     "end_time": "2023-12-05T17:32:16.148926",
     "exception": false,
     "start_time": "2023-12-05T17:32:16.142945",
     "status": "completed"
    },
    "tags": []
   },
   "source": [
    "# 1) What are encodings?\n",
    "\n",
    "You're working with a dataset composed of bytes.  Run the code cell below to print a sample entry."
   ]
  },
  {
   "cell_type": "code",
   "execution_count": 3,
   "id": "8ee1853b",
   "metadata": {
    "execution": {
     "iopub.execute_input": "2023-12-05T17:32:16.163615Z",
     "iopub.status.busy": "2023-12-05T17:32:16.163003Z",
     "iopub.status.idle": "2023-12-05T17:32:16.168116Z",
     "shell.execute_reply": "2023-12-05T17:32:16.166971Z"
    },
    "papermill": {
     "duration": 0.015199,
     "end_time": "2023-12-05T17:32:16.170324",
     "exception": false,
     "start_time": "2023-12-05T17:32:16.155125",
     "status": "completed"
    },
    "tags": []
   },
   "outputs": [
    {
     "name": "stdout",
     "output_type": "stream",
     "text": [
      "b'\\xa7A\\xa6n'\n",
      "data type: <class 'bytes'>\n"
     ]
    }
   ],
   "source": [
    "sample_entry = b'\\xa7A\\xa6n'\n",
    "print(sample_entry)\n",
    "print('data type:', type(sample_entry))"
   ]
  },
  {
   "cell_type": "markdown",
   "id": "b4897a62",
   "metadata": {
    "papermill": {
     "duration": 0.006092,
     "end_time": "2023-12-05T17:32:16.183055",
     "exception": false,
     "start_time": "2023-12-05T17:32:16.176963",
     "status": "completed"
    },
    "tags": []
   },
   "source": [
    "You notice that it doesn't use the standard UTF-8 encoding. \n",
    "\n",
    "Use the next code cell to create a variable `new_entry` that changes the encoding from `\"big5-tw\"` to `\"utf-8\"`.  `new_entry` should have the bytes datatype."
   ]
  },
  {
   "cell_type": "code",
   "execution_count": 4,
   "id": "809b82f1",
   "metadata": {
    "execution": {
     "iopub.execute_input": "2023-12-05T17:32:16.197730Z",
     "iopub.status.busy": "2023-12-05T17:32:16.197005Z",
     "iopub.status.idle": "2023-12-05T17:32:16.205925Z",
     "shell.execute_reply": "2023-12-05T17:32:16.204909Z"
    },
    "papermill": {
     "duration": 0.018845,
     "end_time": "2023-12-05T17:32:16.208158",
     "exception": false,
     "start_time": "2023-12-05T17:32:16.189313",
     "status": "completed"
    },
    "tags": []
   },
   "outputs": [
    {
     "data": {
      "application/javascript": [
       "parent.postMessage({\"jupyterEvent\": \"custom.exercise_interaction\", \"data\": {\"outcomeType\": 1, \"valueTowardsCompletion\": 0.3333333333333333, \"interactionType\": 1, \"questionType\": 1, \"questionId\": \"1_EncodingsIntro\", \"learnToolsVersion\": \"0.3.4\", \"failureMessage\": \"\", \"exceptionClass\": \"\", \"trace\": \"\"}}, \"*\")"
      ],
      "text/plain": [
       "<IPython.core.display.Javascript object>"
      ]
     },
     "metadata": {},
     "output_type": "display_data"
    },
    {
     "data": {
      "text/markdown": [
       "<span style=\"color:#33cc33\">Correct</span>"
      ],
      "text/plain": [
       "Correct"
      ]
     },
     "metadata": {},
     "output_type": "display_data"
    }
   ],
   "source": [
    "new_entry = sample_entry.decode('big5-tw').encode('utf-8')\n",
    "\n",
    "# Check your answer\n",
    "q1.check()"
   ]
  },
  {
   "cell_type": "code",
   "execution_count": 5,
   "id": "30d7d8e5",
   "metadata": {
    "execution": {
     "iopub.execute_input": "2023-12-05T17:32:16.223250Z",
     "iopub.status.busy": "2023-12-05T17:32:16.222854Z",
     "iopub.status.idle": "2023-12-05T17:32:16.227314Z",
     "shell.execute_reply": "2023-12-05T17:32:16.226224Z"
    },
    "papermill": {
     "duration": 0.014677,
     "end_time": "2023-12-05T17:32:16.229572",
     "exception": false,
     "start_time": "2023-12-05T17:32:16.214895",
     "status": "completed"
    },
    "tags": []
   },
   "outputs": [],
   "source": [
    "# Lines below will give you a hint or solution code\n",
    "#q1.hint()\n",
    "#q1.solution()"
   ]
  },
  {
   "cell_type": "markdown",
   "id": "5361841c",
   "metadata": {
    "papermill": {
     "duration": 0.006564,
     "end_time": "2023-12-05T17:32:16.243296",
     "exception": false,
     "start_time": "2023-12-05T17:32:16.236732",
     "status": "completed"
    },
    "tags": []
   },
   "source": [
    "# 2) Reading in files with encoding problems\n",
    "\n",
    "Use the code cell below to read in this file at path `\"../input/fatal-police-shootings-in-the-us/PoliceKillingsUS.csv\"`.  \n",
    "\n",
    "Figure out what the correct encoding should be and read in the file to a DataFrame `police_killings`."
   ]
  },
  {
   "cell_type": "code",
   "execution_count": 6,
   "id": "fa771314",
   "metadata": {
    "execution": {
     "iopub.execute_input": "2023-12-05T17:32:16.259016Z",
     "iopub.status.busy": "2023-12-05T17:32:16.258616Z",
     "iopub.status.idle": "2023-12-05T17:32:16.285777Z",
     "shell.execute_reply": "2023-12-05T17:32:16.284665Z"
    },
    "papermill": {
     "duration": 0.037988,
     "end_time": "2023-12-05T17:32:16.288025",
     "exception": false,
     "start_time": "2023-12-05T17:32:16.250037",
     "status": "completed"
    },
    "tags": []
   },
   "outputs": [
    {
     "data": {
      "application/javascript": [
       "parent.postMessage({\"jupyterEvent\": \"custom.exercise_interaction\", \"data\": {\"outcomeType\": 1, \"valueTowardsCompletion\": 0.3333333333333333, \"interactionType\": 1, \"questionType\": 1, \"questionId\": \"2_ReadIn\", \"learnToolsVersion\": \"0.3.4\", \"failureMessage\": \"\", \"exceptionClass\": \"\", \"trace\": \"\"}}, \"*\")"
      ],
      "text/plain": [
       "<IPython.core.display.Javascript object>"
      ]
     },
     "metadata": {},
     "output_type": "display_data"
    },
    {
     "data": {
      "text/markdown": [
       "<span style=\"color:#33cc33\">Correct</span>"
      ],
      "text/plain": [
       "Correct"
      ]
     },
     "metadata": {},
     "output_type": "display_data"
    }
   ],
   "source": [
    "# TODO: Load in the DataFrame correctly.\n",
    "police_killings = pd.read_csv(\"../input/fatal-police-shootings-in-the-us/PoliceKillingsUS.csv\", encoding='Windows-1252')\n",
    "\n",
    "# Check your answer\n",
    "q2.check()"
   ]
  },
  {
   "cell_type": "markdown",
   "id": "28314cf1",
   "metadata": {
    "papermill": {
     "duration": 0.007487,
     "end_time": "2023-12-05T17:32:16.302659",
     "exception": false,
     "start_time": "2023-12-05T17:32:16.295172",
     "status": "completed"
    },
    "tags": []
   },
   "source": [
    "Feel free to use any additional code cells for supplemental work.  To get credit for finishing this question, you'll need to run `q2.check()` and get a result of **Correct**."
   ]
  },
  {
   "cell_type": "code",
   "execution_count": 7,
   "id": "477aebea",
   "metadata": {
    "execution": {
     "iopub.execute_input": "2023-12-05T17:32:16.318510Z",
     "iopub.status.busy": "2023-12-05T17:32:16.317774Z",
     "iopub.status.idle": "2023-12-05T17:32:16.322472Z",
     "shell.execute_reply": "2023-12-05T17:32:16.321459Z"
    },
    "papermill": {
     "duration": 0.014963,
     "end_time": "2023-12-05T17:32:16.324576",
     "exception": false,
     "start_time": "2023-12-05T17:32:16.309613",
     "status": "completed"
    },
    "tags": []
   },
   "outputs": [],
   "source": [
    "# (Optional) Use this code cell for any additional work."
   ]
  },
  {
   "cell_type": "code",
   "execution_count": 8,
   "id": "82932ae3",
   "metadata": {
    "execution": {
     "iopub.execute_input": "2023-12-05T17:32:16.340413Z",
     "iopub.status.busy": "2023-12-05T17:32:16.340012Z",
     "iopub.status.idle": "2023-12-05T17:32:16.344526Z",
     "shell.execute_reply": "2023-12-05T17:32:16.343457Z"
    },
    "papermill": {
     "duration": 0.014998,
     "end_time": "2023-12-05T17:32:16.346597",
     "exception": false,
     "start_time": "2023-12-05T17:32:16.331599",
     "status": "completed"
    },
    "tags": []
   },
   "outputs": [],
   "source": [
    "# Lines below will give you a hint or solution code\n",
    "#q2.hint()\n",
    "#q2.solution()"
   ]
  },
  {
   "cell_type": "markdown",
   "id": "25548a9d",
   "metadata": {
    "papermill": {
     "duration": 0.006736,
     "end_time": "2023-12-05T17:32:16.360622",
     "exception": false,
     "start_time": "2023-12-05T17:32:16.353886",
     "status": "completed"
    },
    "tags": []
   },
   "source": [
    "# 3) Saving your files with UTF-8 encoding\n",
    "\n",
    "Save a version of the police killings dataset to CSV with UTF-8 encoding.  Your answer will be marked correct after saving this file.  \n",
    "\n",
    "Note: When using the `to_csv()` method, supply only the name of the file (e.g., `\"my_file.csv\"`).  This saves the file at the filepath `\"/kaggle/working/my_file.csv\"`."
   ]
  },
  {
   "cell_type": "code",
   "execution_count": 9,
   "id": "04268baa",
   "metadata": {
    "execution": {
     "iopub.execute_input": "2023-12-05T17:32:16.377342Z",
     "iopub.status.busy": "2023-12-05T17:32:16.376927Z",
     "iopub.status.idle": "2023-12-05T17:32:16.431677Z",
     "shell.execute_reply": "2023-12-05T17:32:16.430596Z"
    },
    "papermill": {
     "duration": 0.065491,
     "end_time": "2023-12-05T17:32:16.434101",
     "exception": false,
     "start_time": "2023-12-05T17:32:16.368610",
     "status": "completed"
    },
    "tags": []
   },
   "outputs": [
    {
     "data": {
      "application/javascript": [
       "parent.postMessage({\"jupyterEvent\": \"custom.exercise_interaction\", \"data\": {\"outcomeType\": 1, \"valueTowardsCompletion\": 0.3333333333333333, \"interactionType\": 1, \"questionType\": 2, \"questionId\": \"3_SaveCSV\", \"learnToolsVersion\": \"0.3.4\", \"failureMessage\": \"\", \"exceptionClass\": \"\", \"trace\": \"\"}}, \"*\")"
      ],
      "text/plain": [
       "<IPython.core.display.Javascript object>"
      ]
     },
     "metadata": {},
     "output_type": "display_data"
    },
    {
     "data": {
      "text/markdown": [
       "<span style=\"color:#33cc33\">Correct</span>"
      ],
      "text/plain": [
       "Correct"
      ]
     },
     "metadata": {},
     "output_type": "display_data"
    }
   ],
   "source": [
    "# TODO: Save the police killings dataset to CSV\n",
    "police_killings.to_csv(\"my_file.csv\")\n",
    "\n",
    "# Check your answer\n",
    "q3.check()"
   ]
  },
  {
   "cell_type": "code",
   "execution_count": 10,
   "id": "ad6a67d8",
   "metadata": {
    "execution": {
     "iopub.execute_input": "2023-12-05T17:32:16.450986Z",
     "iopub.status.busy": "2023-12-05T17:32:16.450624Z",
     "iopub.status.idle": "2023-12-05T17:32:16.455330Z",
     "shell.execute_reply": "2023-12-05T17:32:16.454148Z"
    },
    "papermill": {
     "duration": 0.016218,
     "end_time": "2023-12-05T17:32:16.457872",
     "exception": false,
     "start_time": "2023-12-05T17:32:16.441654",
     "status": "completed"
    },
    "tags": []
   },
   "outputs": [],
   "source": [
    "# Lines below will give you a hint or solution code\n",
    "#q3.hint()\n",
    "#q3.solution()"
   ]
  },
  {
   "cell_type": "markdown",
   "id": "bdd979e4",
   "metadata": {
    "papermill": {
     "duration": 0.006887,
     "end_time": "2023-12-05T17:32:16.471980",
     "exception": false,
     "start_time": "2023-12-05T17:32:16.465093",
     "status": "completed"
    },
    "tags": []
   },
   "source": [
    "# (Optional) More practice\n",
    "\n",
    "Check out [this dataset of files in different character encodings](https://www.kaggle.com/rtatman/character-encoding-examples). Can you read in all the files with their original encodings and them save them out as UTF-8 files?\n",
    "\n",
    "If you have a file that's in UTF-8 but has just a couple of weird-looking characters in it, you can try out the [ftfy module](https://ftfy.readthedocs.io/en/latest/#) and see if it helps. \n",
    "\n",
    "# Keep going\n",
    "\n",
    "In the final lesson, learn how to [**clean up inconsistent text entries**](https://www.kaggle.com/alexisbcook/inconsistent-data-entry) in your dataset."
   ]
  },
  {
   "cell_type": "markdown",
   "id": "38a59666",
   "metadata": {
    "papermill": {
     "duration": 0.006921,
     "end_time": "2023-12-05T17:32:16.486033",
     "exception": false,
     "start_time": "2023-12-05T17:32:16.479112",
     "status": "completed"
    },
    "tags": []
   },
   "source": [
    "---\n",
    "\n",
    "\n",
    "\n",
    "\n",
    "*Have questions or comments? Visit the [course discussion forum](https://www.kaggle.com/learn/data-cleaning/discussion) to chat with other learners.*"
   ]
  }
 ],
 "metadata": {
  "kaggle": {
   "accelerator": "none",
   "dataSources": [
    {
     "datasetId": 2647,
     "sourceId": 4395,
     "sourceType": "datasetVersion"
    }
   ],
   "isGpuEnabled": false,
   "isInternetEnabled": false,
   "language": "python",
   "sourceType": "notebook"
  },
  "kernelspec": {
   "display_name": "Python 3",
   "language": "python",
   "name": "python3"
  },
  "language_info": {
   "codemirror_mode": {
    "name": "ipython",
    "version": 3
   },
   "file_extension": ".py",
   "mimetype": "text/x-python",
   "name": "python",
   "nbconvert_exporter": "python",
   "pygments_lexer": "ipython3",
   "version": "3.10.12"
  },
  "papermill": {
   "default_parameters": {},
   "duration": 4.891807,
   "end_time": "2023-12-05T17:32:16.913145",
   "environment_variables": {},
   "exception": null,
   "input_path": "__notebook__.ipynb",
   "output_path": "__notebook__.ipynb",
   "parameters": {},
   "start_time": "2023-12-05T17:32:12.021338",
   "version": "2.4.0"
  }
 },
 "nbformat": 4,
 "nbformat_minor": 5
}
